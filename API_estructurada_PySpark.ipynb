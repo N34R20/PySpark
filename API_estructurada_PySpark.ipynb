{
  "nbformat": 4,
  "nbformat_minor": 0,
  "metadata": {
    "colab": {
      "provenance": [],
      "collapsed_sections": [
        "MK7KOzkGg2aB"
      ],
      "include_colab_link": true
    },
    "kernelspec": {
      "name": "python3",
      "display_name": "Python 3"
    },
    "language_info": {
      "name": "python"
    }
  },
  "cells": [
    {
      "cell_type": "markdown",
      "metadata": {
        "id": "view-in-github",
        "colab_type": "text"
      },
      "source": [
        "<a href=\"https://colab.research.google.com/github/N34R20/PySpark/blob/main/API_estructurada_PySpark.ipynb\" target=\"_parent\"><img src=\"https://colab.research.google.com/assets/colab-badge.svg\" alt=\"Open In Colab\"/></a>"
      ]
    },
    {
      "cell_type": "code",
      "execution_count": null,
      "metadata": {
        "id": "mCqDi_5eiz06",
        "colab": {
          "base_uri": "https://localhost:8080/"
        },
        "outputId": "657e2d1b-a3db-43f9-cf30-075b60759edf"
      },
      "outputs": [
        {
          "output_type": "stream",
          "name": "stdout",
          "text": [
            "\u001b[2K     \u001b[90m━━━━━━━━━━━━━━━━━━━━━━━━━━━━━━━━━━━━━━━\u001b[0m \u001b[32m310.8/310.8 MB\u001b[0m \u001b[31m4.3 MB/s\u001b[0m eta \u001b[36m0:00:00\u001b[0m\n",
            "\u001b[?25h  Preparing metadata (setup.py) ... \u001b[?25l\u001b[?25hdone\n",
            "  Building wheel for pyspark (setup.py) ... \u001b[?25l\u001b[?25hdone\n"
          ]
        }
      ],
      "source": [
        "!pip install pyspark -q"
      ]
    },
    {
      "cell_type": "markdown",
      "source": [
        "# Importando lo necesario y creando la Spark Session"
      ],
      "metadata": {
        "id": "PkKdh9XRjNV3"
      }
    },
    {
      "cell_type": "code",
      "source": [
        "import pyspark\n",
        "import pyspark.sql.functions as F\n",
        "from pyspark.sql import SparkSession"
      ],
      "metadata": {
        "id": "06-Jd1SjhZZT"
      },
      "execution_count": null,
      "outputs": []
    },
    {
      "cell_type": "code",
      "source": [
        "spark = SparkSession.builder\\\n",
        "        .master(\"local\")\\\n",
        "        .appName(\"Api Estructurada Humai\")\\\n",
        "        .config('spark.ui.port', '4050')\\\n",
        "        .getOrCreate()"
      ],
      "metadata": {
        "id": "-EYybGAriETS"
      },
      "execution_count": null,
      "outputs": []
    },
    {
      "cell_type": "markdown",
      "source": [
        "# Dataframes y Datasets"
      ],
      "metadata": {
        "id": "h7NPoxDzgmWO"
      }
    },
    {
      "cell_type": "markdown",
      "source": [
        "## ¿Qué sucede con los Datasets en PySpark?"
      ],
      "metadata": {
        "id": "7mUDLCcLpDBu"
      }
    },
    {
      "cell_type": "markdown",
      "source": [
        "El Dataset es 1 de las 3 estructuras de datos fundamentales de Spark, su mayor ventaja frente a las otras dos (RDDs y Dataframes) es que es \"type-safe\", esto quiere decir que no puedes accidentalmente ver los objetos en un Dataset como si fueran de otra clase que la clase que colocaste que eran inicialmente. Esta ultima caracteristica hace los Datasets especialmente atractivos para escribir grandes aplicaciones de Spark, en donde muchos ingenieros o ingenieras deben interactuar con interfaces correctamente definidas.\n",
        "\n",
        "Sin embargo los Datasets **no estan disponibles** en Python (ni en R) ya que es nuestro querido lenguaje es de tipeado dinamico. Los Datasets estan disponibles en las versiones escritas para lenguajes de tipeado estatico (Java y Scala).\n"
      ],
      "metadata": {
        "id": "Pw_h3NvppJBp"
      }
    },
    {
      "cell_type": "markdown",
      "source": [
        "## Entonces trabajemos con los Dataframes!! 😁"
      ],
      "metadata": {
        "id": "Eh-46EcFqiHn"
      }
    },
    {
      "cell_type": "markdown",
      "source": [
        "Son colecciones estructuradas en forma de tabla, con filas y columnas bien definidas. Cada columna tiene el mismo numero de filas e informacion sobre el tipo de dato que maneja. Al igual que los RDDs los Dataframes son inmutables y Lazy Evaluated (no se ejecutan las transformaciones hasta que se de una accion).\n",
        "\n",
        "Un pequeño resumen de como sucede la magia:\n",
        "\n",
        "1. Escribes el codigo  de DataFrame/Dataset/SQL con PySpark.\n",
        "2. Si el codigo es valido, Spark convierte esto en un Plan Logico.\n",
        "3. Spark Transforma su Plan Logico en un Plan Fisico, y en esta etapa verifica si se pueden realizar optimizaciones.\n",
        "4. Spark ejecuta entonces el Plan Fisico en el Cluster (A traves de operaciones con RDDs)."
      ],
      "metadata": {
        "id": "QgomPeEcsOvv"
      }
    },
    {
      "cell_type": "markdown",
      "source": [
        "### Leyendolos"
      ],
      "metadata": {
        "id": "5sCSyxLzguDl"
      }
    },
    {
      "cell_type": "code",
      "source": [
        "# una manera interesante de leer csv (pequeños o medianos) de una url usando spark, buen truco para practicar con data de juguete!\n",
        "spark.sparkContext.addFile(\"https://raw.githubusercontent.com/engcarlosperezmolero/resources_and_tools/main/data/csv/energias-alternativas.csv\")"
      ],
      "metadata": {
        "id": "n6tFN22GhVI-"
      },
      "execution_count": null,
      "outputs": []
    },
    {
      "cell_type": "code",
      "source": [
        "energia_df = spark.read.csv(pyspark.SparkFiles.get(\"energias-alternativas.csv\"), header=True, inferSchema=True)"
      ],
      "metadata": {
        "id": "mr3mzSl_il5a"
      },
      "execution_count": null,
      "outputs": []
    },
    {
      "cell_type": "code",
      "source": [
        "energia_df.show(5, truncate=False)"
      ],
      "metadata": {
        "colab": {
          "base_uri": "https://localhost:8080/"
        },
        "id": "LrXvw62li04F",
        "outputId": "338773cb-f7d1-47ef-ad65-dbf3161eb932"
      },
      "execution_count": null,
      "outputs": [
        {
          "output_type": "stream",
          "name": "stdout",
          "text": [
            "+---------+---------------------+-----------+-------------------------+----------+----------------+-------+-----------------+----------------+------------+----------+--------------+-------------+-------+\n",
            "|sector_id|sector_nombre        |variable_id|actividad_producto_nombre|indicador |unidad_de_medida|fuente |frecuencia_nombre|cobertura_nombre|alcance_tipo|alcance_id|alcance_nombre|indice_tiempo|valor  |\n",
            "+---------+---------------------+-----------+-------------------------+----------+----------------+-------+-----------------+----------------+------------+----------+--------------+-------------+-------+\n",
            "|25       |Energias alternativas|440        |Energia biogas           |Generacion|MWh             |CAMMESA|Mensual          |Nacional        |PROVINCIA   |6         |BUENOS AIRES  |2012-01-01   |0.0    |\n",
            "|25       |Energias alternativas|440        |Energia biogas           |Generacion|MWh             |CAMMESA|Mensual          |Nacional        |PROVINCIA   |6         |BUENOS AIRES  |2012-02-01   |0.0    |\n",
            "|25       |Energias alternativas|440        |Energia biogas           |Generacion|MWh             |CAMMESA|Mensual          |Nacional        |PROVINCIA   |6         |BUENOS AIRES  |2012-03-01   |0.0    |\n",
            "|25       |Energias alternativas|440        |Energia biogas           |Generacion|MWh             |CAMMESA|Mensual          |Nacional        |PROVINCIA   |6         |BUENOS AIRES  |2012-04-01   |0.0    |\n",
            "|25       |Energias alternativas|440        |Energia biogas           |Generacion|MWh             |CAMMESA|Mensual          |Nacional        |PROVINCIA   |6         |BUENOS AIRES  |2012-05-01   |764.924|\n",
            "+---------+---------------------+-----------+-------------------------+----------+----------------+-------+-----------------+----------------+------------+----------+--------------+-------------+-------+\n",
            "only showing top 5 rows\n",
            "\n"
          ]
        }
      ]
    },
    {
      "cell_type": "markdown",
      "source": [
        "### Creandolos manualmente"
      ],
      "metadata": {
        "id": "MK7KOzkGg2aB"
      }
    },
    {
      "cell_type": "code",
      "source": [
        "from pyspark.sql import Row\n",
        "from pyspark.sql.types import StructField, StructType, StringType, LongType\n",
        "\n",
        "esquema_manual = StructType([\n",
        "StructField(\"saludo\", StringType(), True),\n",
        "StructField(\"valor_random\", StringType(), True),\n",
        "StructField(\"numeros\", LongType(), False)\n",
        "])\n",
        "\n",
        "fila_1 = Row(\"Holi\", None, 132334)\n",
        "fila_2 = Row(\"Buenassss\", \"como va\", 8930827)\n",
        "fila_3 = Row(None, None, 182931)\n",
        "\n",
        "df_manual = spark.createDataFrame([fila_1, fila_2, fila_3], esquema_manual)\n",
        "df_manual.show()\n",
        "df_manual.printSchema()"
      ],
      "metadata": {
        "colab": {
          "base_uri": "https://localhost:8080/"
        },
        "id": "meaTfkkswuco",
        "outputId": "9fc6f9e5-ec14-4015-ead9-dcfc47d8ed69"
      },
      "execution_count": null,
      "outputs": [
        {
          "output_type": "stream",
          "name": "stdout",
          "text": [
            "+---------+------------+-------+\n",
            "|   saludo|valor_random|numeros|\n",
            "+---------+------------+-------+\n",
            "|     Holi|        null| 132334|\n",
            "|Buenassss|     como va|8930827|\n",
            "|     null|        null| 182931|\n",
            "+---------+------------+-------+\n",
            "\n",
            "root\n",
            " |-- saludo: string (nullable = true)\n",
            " |-- valor_random: string (nullable = true)\n",
            " |-- numeros: long (nullable = false)\n",
            "\n"
          ]
        }
      ]
    },
    {
      "cell_type": "code",
      "source": [
        "# esta manera es mas facil pero el esquema es inferido\n",
        "datos = [\n",
        "    {\"saludo\": \"Holi\", \"valor_random\": None, \"numeros\": 132334},\n",
        "    {\"saludo\": \"Buenassss\", \"valor_random\": \"como va\", \"numeros\": 8930827},\n",
        "    {\"saludo\": None, \"valor_random\": None, \"numeros\": 182931}\n",
        "]\n",
        "\n",
        "df_manual_2 = spark.createDataFrame(datos)\n",
        "df_manual_2.show()\n",
        "df_manual_2.printSchema()"
      ],
      "metadata": {
        "id": "hYsMpeb2w5Ai",
        "colab": {
          "base_uri": "https://localhost:8080/"
        },
        "outputId": "e5c5078e-4974-4645-fb91-ea5d0a4373b6"
      },
      "execution_count": null,
      "outputs": [
        {
          "output_type": "stream",
          "name": "stdout",
          "text": [
            "+-------+---------+------------+\n",
            "|numeros|   saludo|valor_random|\n",
            "+-------+---------+------------+\n",
            "| 132334|     Holi|        null|\n",
            "|8930827|Buenassss|     como va|\n",
            "| 182931|     null|        null|\n",
            "+-------+---------+------------+\n",
            "\n",
            "root\n",
            " |-- numeros: long (nullable = true)\n",
            " |-- saludo: string (nullable = true)\n",
            " |-- valor_random: string (nullable = true)\n",
            "\n"
          ]
        }
      ]
    },
    {
      "cell_type": "markdown",
      "source": [
        "### Explorando y Procesando los datos"
      ],
      "metadata": {
        "id": "lKxxWup7g4o9"
      }
    },
    {
      "cell_type": "code",
      "source": [
        "# veamos un poquito que nos ofrece la interfaz del Dataframe\n",
        "[i for i in dir(energia_df) if not i.startswith(\"_\")]"
      ],
      "metadata": {
        "id": "yhysYSwmzCAx",
        "colab": {
          "base_uri": "https://localhost:8080/"
        },
        "outputId": "8c7335ca-5249-490b-c945-57cc80be4e0e"
      },
      "execution_count": null,
      "outputs": [
        {
          "output_type": "execute_result",
          "data": {
            "text/plain": [
              "['agg',\n",
              " 'alias',\n",
              " 'approxQuantile',\n",
              " 'cache',\n",
              " 'checkpoint',\n",
              " 'coalesce',\n",
              " 'colRegex',\n",
              " 'collect',\n",
              " 'columns',\n",
              " 'corr',\n",
              " 'count',\n",
              " 'cov',\n",
              " 'createGlobalTempView',\n",
              " 'createOrReplaceGlobalTempView',\n",
              " 'createOrReplaceTempView',\n",
              " 'createTempView',\n",
              " 'crossJoin',\n",
              " 'crosstab',\n",
              " 'cube',\n",
              " 'describe',\n",
              " 'distinct',\n",
              " 'drop',\n",
              " 'dropDuplicates',\n",
              " 'drop_duplicates',\n",
              " 'dropna',\n",
              " 'dtypes',\n",
              " 'exceptAll',\n",
              " 'explain',\n",
              " 'fillna',\n",
              " 'filter',\n",
              " 'first',\n",
              " 'foreach',\n",
              " 'foreachPartition',\n",
              " 'freqItems',\n",
              " 'groupBy',\n",
              " 'groupby',\n",
              " 'head',\n",
              " 'hint',\n",
              " 'inputFiles',\n",
              " 'intersect',\n",
              " 'intersectAll',\n",
              " 'isEmpty',\n",
              " 'isLocal',\n",
              " 'isStreaming',\n",
              " 'is_cached',\n",
              " 'join',\n",
              " 'limit',\n",
              " 'localCheckpoint',\n",
              " 'mapInArrow',\n",
              " 'mapInPandas',\n",
              " 'melt',\n",
              " 'na',\n",
              " 'observe',\n",
              " 'orderBy',\n",
              " 'pandas_api',\n",
              " 'persist',\n",
              " 'printSchema',\n",
              " 'randomSplit',\n",
              " 'rdd',\n",
              " 'registerTempTable',\n",
              " 'repartition',\n",
              " 'repartitionByRange',\n",
              " 'replace',\n",
              " 'rollup',\n",
              " 'sameSemantics',\n",
              " 'sample',\n",
              " 'sampleBy',\n",
              " 'schema',\n",
              " 'select',\n",
              " 'selectExpr',\n",
              " 'semanticHash',\n",
              " 'show',\n",
              " 'sort',\n",
              " 'sortWithinPartitions',\n",
              " 'sparkSession',\n",
              " 'sql_ctx',\n",
              " 'stat',\n",
              " 'storageLevel',\n",
              " 'subtract',\n",
              " 'summary',\n",
              " 'tail',\n",
              " 'take',\n",
              " 'to',\n",
              " 'toDF',\n",
              " 'toJSON',\n",
              " 'toLocalIterator',\n",
              " 'toPandas',\n",
              " 'to_koalas',\n",
              " 'to_pandas_on_spark',\n",
              " 'transform',\n",
              " 'union',\n",
              " 'unionAll',\n",
              " 'unionByName',\n",
              " 'unpersist',\n",
              " 'unpivot',\n",
              " 'where',\n",
              " 'withColumn',\n",
              " 'withColumnRenamed',\n",
              " 'withColumns',\n",
              " 'withColumnsRenamed',\n",
              " 'withMetadata',\n",
              " 'withWatermark',\n",
              " 'write',\n",
              " 'writeStream',\n",
              " 'writeTo']"
            ]
          },
          "metadata": {},
          "execution_count": 9
        }
      ]
    },
    {
      "cell_type": "code",
      "source": [
        "energia_df.columns"
      ],
      "metadata": {
        "colab": {
          "base_uri": "https://localhost:8080/"
        },
        "id": "8dgHWVshxt9v",
        "outputId": "6fdcfde1-d0be-4237-b1cf-e885651454b6"
      },
      "execution_count": null,
      "outputs": [
        {
          "output_type": "execute_result",
          "data": {
            "text/plain": [
              "['sector_id',\n",
              " 'sector_nombre',\n",
              " 'variable_id',\n",
              " 'actividad_producto_nombre',\n",
              " 'indicador',\n",
              " 'unidad_de_medida',\n",
              " 'fuente',\n",
              " 'frecuencia_nombre',\n",
              " 'cobertura_nombre',\n",
              " 'alcance_tipo',\n",
              " 'alcance_id',\n",
              " 'alcance_nombre',\n",
              " 'indice_tiempo',\n",
              " 'valor']"
            ]
          },
          "metadata": {},
          "execution_count": 10
        }
      ]
    },
    {
      "cell_type": "code",
      "source": [
        "energia_df.select('actividad_producto_nombre', 'valor').show()"
      ],
      "metadata": {
        "colab": {
          "base_uri": "https://localhost:8080/"
        },
        "id": "qfX0JrbFxqHv",
        "outputId": "96c0b47f-3830-4eef-e9b4-ad622359c57b"
      },
      "execution_count": null,
      "outputs": [
        {
          "output_type": "stream",
          "name": "stdout",
          "text": [
            "+-------------------------+---------+\n",
            "|actividad_producto_nombre|    valor|\n",
            "+-------------------------+---------+\n",
            "|           Energia biogas|      0.0|\n",
            "|           Energia biogas|      0.0|\n",
            "|           Energia biogas|      0.0|\n",
            "|           Energia biogas|      0.0|\n",
            "|           Energia biogas|  764.924|\n",
            "|           Energia biogas| 3478.232|\n",
            "|           Energia biogas| 3395.954|\n",
            "|           Energia biogas| 2928.667|\n",
            "|           Energia biogas| 2841.751|\n",
            "|           Energia biogas| 6902.033|\n",
            "|           Energia biogas|  7357.68|\n",
            "|           Energia biogas| 7971.476|\n",
            "|           Energia biogas| 7893.987|\n",
            "|           Energia biogas|  7648.21|\n",
            "|           Energia biogas| 9011.614|\n",
            "|           Energia biogas| 8388.014|\n",
            "|           Energia biogas| 9381.065|\n",
            "|           Energia biogas| 9167.534|\n",
            "|           Energia biogas|10502.377|\n",
            "|           Energia biogas| 9771.545|\n",
            "+-------------------------+---------+\n",
            "only showing top 20 rows\n",
            "\n"
          ]
        }
      ]
    },
    {
      "cell_type": "code",
      "source": [
        "energia_df.select(\"actividad_producto_nombre\").distinct().show()"
      ],
      "metadata": {
        "colab": {
          "base_uri": "https://localhost:8080/"
        },
        "id": "5NyBWmAvxti8",
        "outputId": "f5371af2-2699-4b34-a807-7e2058180794"
      },
      "execution_count": null,
      "outputs": [
        {
          "output_type": "stream",
          "name": "stdout",
          "text": [
            "+-------------------------+\n",
            "|actividad_producto_nombre|\n",
            "+-------------------------+\n",
            "|            Energia solar|\n",
            "|           Energia biogas|\n",
            "|              Energia pah|\n",
            "|          Energia biomasa|\n",
            "|          Energia nuclear|\n",
            "|           Energia eolica|\n",
            "+-------------------------+\n",
            "\n"
          ]
        }
      ]
    },
    {
      "cell_type": "code",
      "source": [
        "energia_df.describe().show(truncate=False)"
      ],
      "metadata": {
        "colab": {
          "base_uri": "https://localhost:8080/"
        },
        "id": "VZlOBGM6yow5",
        "outputId": "722c4737-6579-4ce2-deaf-57ef67522e02"
      },
      "execution_count": null,
      "outputs": [
        {
          "output_type": "stream",
          "name": "stdout",
          "text": [
            "+-------+---------+---------------------+------------------+-------------------------+------------------+----------------+-------+-----------------+----------------+------------+------------------+--------------+------------------+\n",
            "|summary|sector_id|sector_nombre        |variable_id       |actividad_producto_nombre|indicador         |unidad_de_medida|fuente |frecuencia_nombre|cobertura_nombre|alcance_tipo|alcance_id        |alcance_nombre|valor             |\n",
            "+-------+---------+---------------------+------------------+-------------------------+------------------+----------------+-------+-----------------+----------------+------------+------------------+--------------+------------------+\n",
            "|count  |5311     |5311                 |5311              |5311                     |5311              |5311            |5311   |5311             |5311            |5311        |5311              |5311          |5311              |\n",
            "|mean   |25.0     |null                 |445.45283374129167|null                     |null              |null            |null   |null             |null            |null        |46.70269252494822 |null          |20086.474353228816|\n",
            "|stddev |0.0      |null                 |2.8446909235467834|null                     |null              |null            |null   |null             |null            |null        |29.186850325451715|null          |75980.8099273813  |\n",
            "|min    |25       |Energias alternativas|440               |Energia biogas           |Generacion        |MW              |CAMMESA|Mensual          |Nacional        |PROVINCIA   |6                 |BUENOS AIRES  |0.0               |\n",
            "|max    |25       |Energias alternativas|450               |Energia solar            |Potencia instalada|MWh             |CAMMESA|Mensual          |Nacional        |PROVINCIA   |90                |TUCUMAN       |752501.256        |\n",
            "+-------+---------+---------------------+------------------+-------------------------+------------------+----------------+-------+-----------------+----------------+------------+------------------+--------------+------------------+\n",
            "\n"
          ]
        }
      ]
    },
    {
      "cell_type": "markdown",
      "source": [
        "#### Creando, renombrando, dropeando y casteando columnas"
      ],
      "metadata": {
        "id": "zUnE1_3NwbQv"
      }
    },
    {
      "cell_type": "code",
      "source": [
        "# crear columnas\n",
        "energia_df.select(\"valor\").withColumn(\"valor_nuevo\", energia_df[\"valor\"] / 1000).show()"
      ],
      "metadata": {
        "id": "05_GJDChzpjw",
        "colab": {
          "base_uri": "https://localhost:8080/"
        },
        "outputId": "5b796301-9ee8-4182-d685-91fb2d564a14"
      },
      "execution_count": null,
      "outputs": [
        {
          "output_type": "stream",
          "name": "stdout",
          "text": [
            "+---------+------------------+\n",
            "|    valor|       valor_nuevo|\n",
            "+---------+------------------+\n",
            "|      0.0|               0.0|\n",
            "|      0.0|               0.0|\n",
            "|      0.0|               0.0|\n",
            "|      0.0|               0.0|\n",
            "|  764.924|0.7649239999999999|\n",
            "| 3478.232|3.4782319999999998|\n",
            "| 3395.954|          3.395954|\n",
            "| 2928.667|          2.928667|\n",
            "| 2841.751|2.8417510000000004|\n",
            "| 6902.033|          6.902033|\n",
            "|  7357.68|           7.35768|\n",
            "| 7971.476|          7.971476|\n",
            "| 7893.987|          7.893987|\n",
            "|  7648.21|           7.64821|\n",
            "| 9011.614|          9.011614|\n",
            "| 8388.014|          8.388014|\n",
            "| 9381.065| 9.381065000000001|\n",
            "| 9167.534|          9.167534|\n",
            "|10502.377|10.502377000000001|\n",
            "| 9771.545|          9.771545|\n",
            "+---------+------------------+\n",
            "only showing top 20 rows\n",
            "\n"
          ]
        }
      ]
    },
    {
      "cell_type": "code",
      "source": [
        "energia_df.withColumn(\"valor_constante\", F.lit(\"TODO\")).select(\"valor_constante\").show()"
      ],
      "metadata": {
        "id": "aGOzsEA90e8R",
        "colab": {
          "base_uri": "https://localhost:8080/"
        },
        "outputId": "086e096d-9d66-40a8-a8f1-a8e8e49153e4"
      },
      "execution_count": null,
      "outputs": [
        {
          "output_type": "stream",
          "name": "stdout",
          "text": [
            "+---------------+\n",
            "|valor_constante|\n",
            "+---------------+\n",
            "|           TODO|\n",
            "|           TODO|\n",
            "|           TODO|\n",
            "|           TODO|\n",
            "|           TODO|\n",
            "|           TODO|\n",
            "|           TODO|\n",
            "|           TODO|\n",
            "|           TODO|\n",
            "|           TODO|\n",
            "|           TODO|\n",
            "|           TODO|\n",
            "|           TODO|\n",
            "|           TODO|\n",
            "|           TODO|\n",
            "|           TODO|\n",
            "|           TODO|\n",
            "|           TODO|\n",
            "|           TODO|\n",
            "|           TODO|\n",
            "+---------------+\n",
            "only showing top 20 rows\n",
            "\n"
          ]
        }
      ]
    },
    {
      "cell_type": "code",
      "source": [
        "# renombrando\n",
        "energia_df.select(\"valor\").withColumnRenamed(\"valor\", \"valor_potencia\").show()"
      ],
      "metadata": {
        "id": "U0w5z4MZ1yx6",
        "colab": {
          "base_uri": "https://localhost:8080/"
        },
        "outputId": "43a884d8-9286-443b-eb91-0ece5f178cc8"
      },
      "execution_count": null,
      "outputs": [
        {
          "output_type": "stream",
          "name": "stdout",
          "text": [
            "+--------------+\n",
            "|valor_potencia|\n",
            "+--------------+\n",
            "|           0.0|\n",
            "|           0.0|\n",
            "|           0.0|\n",
            "|           0.0|\n",
            "|       764.924|\n",
            "|      3478.232|\n",
            "|      3395.954|\n",
            "|      2928.667|\n",
            "|      2841.751|\n",
            "|      6902.033|\n",
            "|       7357.68|\n",
            "|      7971.476|\n",
            "|      7893.987|\n",
            "|       7648.21|\n",
            "|      9011.614|\n",
            "|      8388.014|\n",
            "|      9381.065|\n",
            "|      9167.534|\n",
            "|     10502.377|\n",
            "|      9771.545|\n",
            "+--------------+\n",
            "only showing top 20 rows\n",
            "\n"
          ]
        }
      ]
    },
    {
      "cell_type": "code",
      "source": [
        "# dropeando\n",
        "energia_df.drop(\"fuente\").show()"
      ],
      "metadata": {
        "id": "BkwDL4KP2QLc",
        "colab": {
          "base_uri": "https://localhost:8080/"
        },
        "outputId": "c1b6f32f-91a1-433d-e181-95595f2392ba"
      },
      "execution_count": null,
      "outputs": [
        {
          "output_type": "stream",
          "name": "stdout",
          "text": [
            "+---------+--------------------+-----------+-------------------------+----------+----------------+-----------------+----------------+------------+----------+--------------+-------------+---------+\n",
            "|sector_id|       sector_nombre|variable_id|actividad_producto_nombre| indicador|unidad_de_medida|frecuencia_nombre|cobertura_nombre|alcance_tipo|alcance_id|alcance_nombre|indice_tiempo|    valor|\n",
            "+---------+--------------------+-----------+-------------------------+----------+----------------+-----------------+----------------+------------+----------+--------------+-------------+---------+\n",
            "|       25|Energias alternat...|        440|           Energia biogas|Generacion|             MWh|          Mensual|        Nacional|   PROVINCIA|         6|  BUENOS AIRES|   2012-01-01|      0.0|\n",
            "|       25|Energias alternat...|        440|           Energia biogas|Generacion|             MWh|          Mensual|        Nacional|   PROVINCIA|         6|  BUENOS AIRES|   2012-02-01|      0.0|\n",
            "|       25|Energias alternat...|        440|           Energia biogas|Generacion|             MWh|          Mensual|        Nacional|   PROVINCIA|         6|  BUENOS AIRES|   2012-03-01|      0.0|\n",
            "|       25|Energias alternat...|        440|           Energia biogas|Generacion|             MWh|          Mensual|        Nacional|   PROVINCIA|         6|  BUENOS AIRES|   2012-04-01|      0.0|\n",
            "|       25|Energias alternat...|        440|           Energia biogas|Generacion|             MWh|          Mensual|        Nacional|   PROVINCIA|         6|  BUENOS AIRES|   2012-05-01|  764.924|\n",
            "|       25|Energias alternat...|        440|           Energia biogas|Generacion|             MWh|          Mensual|        Nacional|   PROVINCIA|         6|  BUENOS AIRES|   2012-06-01| 3478.232|\n",
            "|       25|Energias alternat...|        440|           Energia biogas|Generacion|             MWh|          Mensual|        Nacional|   PROVINCIA|         6|  BUENOS AIRES|   2012-07-01| 3395.954|\n",
            "|       25|Energias alternat...|        440|           Energia biogas|Generacion|             MWh|          Mensual|        Nacional|   PROVINCIA|         6|  BUENOS AIRES|   2012-08-01| 2928.667|\n",
            "|       25|Energias alternat...|        440|           Energia biogas|Generacion|             MWh|          Mensual|        Nacional|   PROVINCIA|         6|  BUENOS AIRES|   2012-09-01| 2841.751|\n",
            "|       25|Energias alternat...|        440|           Energia biogas|Generacion|             MWh|          Mensual|        Nacional|   PROVINCIA|         6|  BUENOS AIRES|   2012-10-01| 6902.033|\n",
            "|       25|Energias alternat...|        440|           Energia biogas|Generacion|             MWh|          Mensual|        Nacional|   PROVINCIA|         6|  BUENOS AIRES|   2012-11-01|  7357.68|\n",
            "|       25|Energias alternat...|        440|           Energia biogas|Generacion|             MWh|          Mensual|        Nacional|   PROVINCIA|         6|  BUENOS AIRES|   2012-12-01| 7971.476|\n",
            "|       25|Energias alternat...|        440|           Energia biogas|Generacion|             MWh|          Mensual|        Nacional|   PROVINCIA|         6|  BUENOS AIRES|   2013-01-01| 7893.987|\n",
            "|       25|Energias alternat...|        440|           Energia biogas|Generacion|             MWh|          Mensual|        Nacional|   PROVINCIA|         6|  BUENOS AIRES|   2013-02-01|  7648.21|\n",
            "|       25|Energias alternat...|        440|           Energia biogas|Generacion|             MWh|          Mensual|        Nacional|   PROVINCIA|         6|  BUENOS AIRES|   2013-03-01| 9011.614|\n",
            "|       25|Energias alternat...|        440|           Energia biogas|Generacion|             MWh|          Mensual|        Nacional|   PROVINCIA|         6|  BUENOS AIRES|   2013-04-01| 8388.014|\n",
            "|       25|Energias alternat...|        440|           Energia biogas|Generacion|             MWh|          Mensual|        Nacional|   PROVINCIA|         6|  BUENOS AIRES|   2013-05-01| 9381.065|\n",
            "|       25|Energias alternat...|        440|           Energia biogas|Generacion|             MWh|          Mensual|        Nacional|   PROVINCIA|         6|  BUENOS AIRES|   2013-06-01| 9167.534|\n",
            "|       25|Energias alternat...|        440|           Energia biogas|Generacion|             MWh|          Mensual|        Nacional|   PROVINCIA|         6|  BUENOS AIRES|   2013-07-01|10502.377|\n",
            "|       25|Energias alternat...|        440|           Energia biogas|Generacion|             MWh|          Mensual|        Nacional|   PROVINCIA|         6|  BUENOS AIRES|   2013-08-01| 9771.545|\n",
            "+---------+--------------------+-----------+-------------------------+----------+----------------+-----------------+----------------+------------+----------+--------------+-------------+---------+\n",
            "only showing top 20 rows\n",
            "\n"
          ]
        }
      ]
    },
    {
      "cell_type": "code",
      "source": [
        " # cambiando tipos de datos (casteando)\n",
        "nuevo_energia_df = energia_df.select(\"actividad_producto_nombre\", \"valor\")\\\n",
        "                             .withColumn(\"constante\", F.lit(\"1111\"))"
      ],
      "metadata": {
        "id": "9kUohbrt2e4l"
      },
      "execution_count": null,
      "outputs": []
    },
    {
      "cell_type": "code",
      "source": [
        "nuevo_energia_df.show(5)"
      ],
      "metadata": {
        "colab": {
          "base_uri": "https://localhost:8080/"
        },
        "id": "yC2J-6ykzs18",
        "outputId": "7ccd5567-81d2-443b-9a55-a2ffcd9e9b93"
      },
      "execution_count": null,
      "outputs": [
        {
          "output_type": "stream",
          "name": "stdout",
          "text": [
            "+-------------------------+-------+---------+\n",
            "|actividad_producto_nombre|  valor|constante|\n",
            "+-------------------------+-------+---------+\n",
            "|           Energia biogas|    0.0|     1111|\n",
            "|           Energia biogas|    0.0|     1111|\n",
            "|           Energia biogas|    0.0|     1111|\n",
            "|           Energia biogas|    0.0|     1111|\n",
            "|           Energia biogas|764.924|     1111|\n",
            "+-------------------------+-------+---------+\n",
            "only showing top 5 rows\n",
            "\n"
          ]
        }
      ]
    },
    {
      "cell_type": "code",
      "source": [
        "nuevo_energia_df.printSchema()"
      ],
      "metadata": {
        "colab": {
          "base_uri": "https://localhost:8080/"
        },
        "id": "C4wW1UO93GLn",
        "outputId": "8e2d9e08-a04a-4b45-a0c3-d98123f22f33"
      },
      "execution_count": null,
      "outputs": [
        {
          "output_type": "stream",
          "name": "stdout",
          "text": [
            "root\n",
            " |-- actividad_producto_nombre: string (nullable = true)\n",
            " |-- valor: double (nullable = true)\n",
            " |-- constante: string (nullable = false)\n",
            "\n"
          ]
        }
      ]
    },
    {
      "cell_type": "code",
      "source": [
        "nuevo_energia_df.withColumn(\"constante\", nuevo_energia_df[\"constante\"].cast(\"long\")).printSchema()"
      ],
      "metadata": {
        "colab": {
          "base_uri": "https://localhost:8080/"
        },
        "id": "TjY0rZMf3L0Y",
        "outputId": "a9fe2c0f-86fb-4428-ddff-7bd1d115aed1"
      },
      "execution_count": null,
      "outputs": [
        {
          "output_type": "stream",
          "name": "stdout",
          "text": [
            "root\n",
            " |-- actividad_producto_nombre: string (nullable = true)\n",
            " |-- valor: double (nullable = true)\n",
            " |-- constante: long (nullable = true)\n",
            "\n"
          ]
        }
      ]
    },
    {
      "cell_type": "markdown",
      "source": [
        "#### Filtrando"
      ],
      "metadata": {
        "id": "5YO4Jl6WwpNg"
      }
    },
    {
      "cell_type": "code",
      "source": [
        "nuevo_energia_df.filter(nuevo_energia_df[\"actividad_producto_nombre\"] == \"Energia nuclear\").show()"
      ],
      "metadata": {
        "id": "IefwngHB3kMG",
        "colab": {
          "base_uri": "https://localhost:8080/"
        },
        "outputId": "4c5ec243-6aad-4e69-eae1-7649c10dff05"
      },
      "execution_count": null,
      "outputs": [
        {
          "output_type": "stream",
          "name": "stdout",
          "text": [
            "+-------------------------+----------+---------+\n",
            "|actividad_producto_nombre|     valor|constante|\n",
            "+-------------------------+----------+---------+\n",
            "|          Energia nuclear|216330.975|     1111|\n",
            "|          Energia nuclear| 213602.22|     1111|\n",
            "|          Energia nuclear| 117180.99|     1111|\n",
            "|          Energia nuclear|       0.0|     1111|\n",
            "|          Energia nuclear| 130608.18|     1111|\n",
            "|          Energia nuclear|218112.525|     1111|\n",
            "|          Energia nuclear| 245836.98|     1111|\n",
            "|          Energia nuclear| 243580.23|     1111|\n",
            "|          Energia nuclear|234465.885|     1111|\n",
            "|          Energia nuclear|240846.165|     1111|\n",
            "|          Energia nuclear|232596.225|     1111|\n",
            "|          Energia nuclear| 239855.13|     1111|\n",
            "|          Energia nuclear| 237003.48|     1111|\n",
            "|          Energia nuclear|  200647.8|     1111|\n",
            "|          Energia nuclear| 198150.93|     1111|\n",
            "|          Energia nuclear|169882.335|     1111|\n",
            "|          Energia nuclear|       0.0|     1111|\n",
            "|          Energia nuclear|181530.495|     1111|\n",
            "|          Energia nuclear| 252123.66|     1111|\n",
            "|          Energia nuclear|254163.375|     1111|\n",
            "+-------------------------+----------+---------+\n",
            "only showing top 20 rows\n",
            "\n"
          ]
        }
      ]
    },
    {
      "cell_type": "code",
      "source": [
        "nuevo_energia_df.where(\"actividad_producto_nombre = 'Energia nuclear'\").show(5, False)"
      ],
      "metadata": {
        "colab": {
          "base_uri": "https://localhost:8080/"
        },
        "id": "rGiSiXrwPKyL",
        "outputId": "14811f79-f655-41b4-c6aa-2d8492d571af"
      },
      "execution_count": null,
      "outputs": [
        {
          "output_type": "stream",
          "name": "stdout",
          "text": [
            "+-------------------------+----------+---------+\n",
            "|actividad_producto_nombre|valor     |constante|\n",
            "+-------------------------+----------+---------+\n",
            "|Energia nuclear          |216330.975|1111     |\n",
            "|Energia nuclear          |213602.22 |1111     |\n",
            "|Energia nuclear          |117180.99 |1111     |\n",
            "|Energia nuclear          |0.0       |1111     |\n",
            "|Energia nuclear          |130608.18 |1111     |\n",
            "+-------------------------+----------+---------+\n",
            "only showing top 5 rows\n",
            "\n"
          ]
        }
      ]
    },
    {
      "cell_type": "code",
      "source": [
        "# filtrando y contando\n",
        "nuevo_energia_df.filter(nuevo_energia_df[\"actividad_producto_nombre\"] == \"Energia nuclear\").count()"
      ],
      "metadata": {
        "colab": {
          "base_uri": "https://localhost:8080/"
        },
        "id": "fpJFFxEG33X1",
        "outputId": "c9a948f8-afd8-40a0-902d-c30de52a3f94"
      },
      "execution_count": null,
      "outputs": [
        {
          "output_type": "execute_result",
          "data": {
            "text/plain": [
              "456"
            ]
          },
          "metadata": {},
          "execution_count": 24
        }
      ]
    },
    {
      "cell_type": "markdown",
      "source": [
        "#### Trabajando con valores Nulos"
      ],
      "metadata": {
        "id": "sF-NmNbCw01S"
      }
    },
    {
      "cell_type": "code",
      "source": [
        "df_manual.show()"
      ],
      "metadata": {
        "colab": {
          "base_uri": "https://localhost:8080/"
        },
        "id": "VSzeb-wr7KUx",
        "outputId": "60e9645e-70cb-4924-c438-4bdf357ba38f"
      },
      "execution_count": null,
      "outputs": [
        {
          "output_type": "stream",
          "name": "stdout",
          "text": [
            "+---------+------------+-------+\n",
            "|   saludo|valor_random|numeros|\n",
            "+---------+------------+-------+\n",
            "|     Holi|        null| 132334|\n",
            "|Buenassss|     como va|8930827|\n",
            "|     null|        null| 182931|\n",
            "+---------+------------+-------+\n",
            "\n"
          ]
        }
      ]
    },
    {
      "cell_type": "code",
      "source": [
        "df_manual.na.drop('any').show()"
      ],
      "metadata": {
        "colab": {
          "base_uri": "https://localhost:8080/"
        },
        "id": "02S34rba7Q0A",
        "outputId": "f5cba665-0bb2-46ec-b044-0e5b9bd3903f"
      },
      "execution_count": null,
      "outputs": [
        {
          "output_type": "stream",
          "name": "stdout",
          "text": [
            "+---------+------------+-------+\n",
            "|   saludo|valor_random|numeros|\n",
            "+---------+------------+-------+\n",
            "|Buenassss|     como va|8930827|\n",
            "+---------+------------+-------+\n",
            "\n"
          ]
        }
      ]
    },
    {
      "cell_type": "code",
      "source": [
        "df_manual.na.fill(\"random_fill\").show()"
      ],
      "metadata": {
        "colab": {
          "base_uri": "https://localhost:8080/"
        },
        "id": "BkXqrRLR7aHN",
        "outputId": "7f7e7383-e14f-478d-c98d-71f132452038"
      },
      "execution_count": null,
      "outputs": [
        {
          "output_type": "stream",
          "name": "stdout",
          "text": [
            "+-----------+------------+-------+\n",
            "|     saludo|valor_random|numeros|\n",
            "+-----------+------------+-------+\n",
            "|       Holi| random_fill| 132334|\n",
            "|  Buenassss|     como va|8930827|\n",
            "|random_fill| random_fill| 182931|\n",
            "+-----------+------------+-------+\n",
            "\n"
          ]
        }
      ]
    },
    {
      "cell_type": "code",
      "source": [
        "df_manual.na.fill(\"random_fill_specific\", subset=[\"saludo\"]).show()"
      ],
      "metadata": {
        "colab": {
          "base_uri": "https://localhost:8080/"
        },
        "id": "tqfc72BX7hKM",
        "outputId": "f334a3fa-9f78-495f-9a9b-a4c781ba09c1"
      },
      "execution_count": null,
      "outputs": [
        {
          "output_type": "stream",
          "name": "stdout",
          "text": [
            "+--------------------+------------+-------+\n",
            "|              saludo|valor_random|numeros|\n",
            "+--------------------+------------+-------+\n",
            "|                Holi|        null| 132334|\n",
            "|           Buenassss|     como va|8930827|\n",
            "|random_fill_specific|        null| 182931|\n",
            "+--------------------+------------+-------+\n",
            "\n"
          ]
        }
      ]
    },
    {
      "cell_type": "markdown",
      "source": [
        "#### Agregando (agrupando y reduciendo)"
      ],
      "metadata": {
        "id": "B_6w-3cCxCQo"
      }
    },
    {
      "cell_type": "code",
      "source": [
        "nuevo_energia_df.show()"
      ],
      "metadata": {
        "colab": {
          "base_uri": "https://localhost:8080/"
        },
        "id": "-UnYg4sVQaoB",
        "outputId": "34808145-d01a-4b37-fd58-81c34d22d872"
      },
      "execution_count": null,
      "outputs": [
        {
          "output_type": "stream",
          "name": "stdout",
          "text": [
            "+-------------------------+---------+---------+\n",
            "|actividad_producto_nombre|    valor|constante|\n",
            "+-------------------------+---------+---------+\n",
            "|           Energia biogas|      0.0|     1111|\n",
            "|           Energia biogas|      0.0|     1111|\n",
            "|           Energia biogas|      0.0|     1111|\n",
            "|           Energia biogas|      0.0|     1111|\n",
            "|           Energia biogas|  764.924|     1111|\n",
            "|           Energia biogas| 3478.232|     1111|\n",
            "|           Energia biogas| 3395.954|     1111|\n",
            "|           Energia biogas| 2928.667|     1111|\n",
            "|           Energia biogas| 2841.751|     1111|\n",
            "|           Energia biogas| 6902.033|     1111|\n",
            "|           Energia biogas|  7357.68|     1111|\n",
            "|           Energia biogas| 7971.476|     1111|\n",
            "|           Energia biogas| 7893.987|     1111|\n",
            "|           Energia biogas|  7648.21|     1111|\n",
            "|           Energia biogas| 9011.614|     1111|\n",
            "|           Energia biogas| 8388.014|     1111|\n",
            "|           Energia biogas| 9381.065|     1111|\n",
            "|           Energia biogas| 9167.534|     1111|\n",
            "|           Energia biogas|10502.377|     1111|\n",
            "|           Energia biogas| 9771.545|     1111|\n",
            "+-------------------------+---------+---------+\n",
            "only showing top 20 rows\n",
            "\n"
          ]
        }
      ]
    },
    {
      "cell_type": "code",
      "source": [
        "nuevo_energia_df.select(F.avg(\"valor\")).show()"
      ],
      "metadata": {
        "colab": {
          "base_uri": "https://localhost:8080/"
        },
        "id": "XNx5N5xy6D74",
        "outputId": "8942133c-99c4-42e9-c8c7-767f2b80c185"
      },
      "execution_count": null,
      "outputs": [
        {
          "output_type": "stream",
          "name": "stdout",
          "text": [
            "+------------------+\n",
            "|        avg(valor)|\n",
            "+------------------+\n",
            "|20086.474353228816|\n",
            "+------------------+\n",
            "\n"
          ]
        }
      ]
    },
    {
      "cell_type": "code",
      "source": [
        "nuevo_energia_df.select(F.var_pop(\"valor\").alias(\"varianza_pobl\"), F.var_samp(\"valor\").alias(\"varianza_muestra\"), F.stddev_pop(\"valor\").alias(\"desv_estandar_pob\"), F.stddev_samp(\"valor\").alias(\"desv_estandar_muestra\")).show()"
      ],
      "metadata": {
        "colab": {
          "base_uri": "https://localhost:8080/"
        },
        "id": "EhWE1nIj6MWX",
        "outputId": "f0d353e0-4a62-46ec-a51a-f3cf2a8ffb01"
      },
      "execution_count": null,
      "outputs": [
        {
          "output_type": "stream",
          "name": "stdout",
          "text": [
            "+------------------+-------------------+-----------------+---------------------+\n",
            "|     varianza_pobl|   varianza_muestra|desv_estandar_pob|desv_estandar_muestra|\n",
            "+------------------+-------------------+-----------------+---------------------+\n",
            "|5.77199647223549E9|5.773083477220845E9| 75973.6564358692|     75980.8099273813|\n",
            "+------------------+-------------------+-----------------+---------------------+\n",
            "\n"
          ]
        }
      ]
    },
    {
      "cell_type": "code",
      "source": [
        "nuevo_energia_df.select(F.collect_set(\"actividad_producto_nombre\").alias(\"lista_unicos\")).show(truncate=False)"
      ],
      "metadata": {
        "colab": {
          "base_uri": "https://localhost:8080/"
        },
        "id": "NYbNP4BQ7YvV",
        "outputId": "58db6957-6b56-42e5-dcbd-a85dd1b89f1c"
      },
      "execution_count": null,
      "outputs": [
        {
          "output_type": "stream",
          "name": "stdout",
          "text": [
            "+----------------------------------------------------------------------------------------------+\n",
            "|lista_unicos                                                                                  |\n",
            "+----------------------------------------------------------------------------------------------+\n",
            "|[Energia pah, Energia eolica, Energia nuclear, Energia solar, Energia biogas, Energia biomasa]|\n",
            "+----------------------------------------------------------------------------------------------+\n",
            "\n"
          ]
        }
      ]
    },
    {
      "cell_type": "code",
      "source": [
        "nuevo_energia_df.select(F.collect_list(\"actividad_producto_nombre\")).show(truncate=False)"
      ],
      "metadata": {
        "colab": {
          "base_uri": "https://localhost:8080/"
        },
        "id": "74Sryxsm7hUy",
        "outputId": "c3781318-855b-4b9c-d258-a5b4d4df78e4"
      },
      "execution_count": null,
      "outputs": [
        {
          "output_type": "stream",
          "name": "stdout",
          "text": [
            "+----------------------------------------------------------------------------------------------------------------------------------------------------------------------------------------------------------------------------------------------------------------------------------------------------------------------------------------------------------------------------------------------------------------------------------------------------------------------------------------------------------------------------------------------------------------------------------------------------------------------------------------------------------------------------------------------------------------------------------------------------------------------------------------------------------------------------------------------------------------------------------------------------------------------------------------------------------------------------------------------------------------------------------------------------------------------------------------------------------------------------------------------------------------------------------------------------------------------------------------------------------------------------------------------------------------------------------------------------------------------------------------------------------------------------------------------------------------------------------------------------------------------------------------------------------------------------------------------------------------------------------------------------------------------------------------------------------------------------------------------------------------------------------------------------------------------------------------------------------------------------------------------------------------------------------------------------------------------------------------------------------------------------------------------------------------------------------------------------------------------------------------------------------------------------------------------------------------------------------------------------------------------------------------------------------------------------------------------------------------------------------------------------------------------------------------------------------------------------------------------------------------------------------------------------------------------------------------------------------------------------------------------------------------------------------------------------------------------------------------------------------------------------------------------------------------------------------------------------------------------------------------------------------------------------------------------------------------------------------------------------------------------------------------------------------------------------------------------------------------------------------------------------------------------------------------------------------------------------------------------------------------------------------------------------------------------------------------------------------------------------------------------------------------------------------------------------------------------------------------------------------------------------------------------------------------------------------------------------------------------------------------------------------------------------------------------------------------------------------------------------------------------------------------------------------------------------------------------------------------------------------------------------------------------------------------------------------------------------------------------------------------------------------------------------------------------------------------------------------------------------------------------------------------------------------------------------------------------------------------------------------------------------------------------------------------------------------------------------------------------------------------------------------------------------------------------------------------------------------------------------------------------------------------------------------------------------------------------------------------------------------------------------------------------------------------------------------------------------------------------------------------------------------------------------------------------------------------------------------------------------------------------------------------------------------------------------------------------------------------------------------------------------------------------------------------------------------------------------------------------------------------------------------------------------------------------------------------------------------------------------------------------------------------------------------------------------------------------------------------------------------------------------------------------------------------------------------------------------------------------------------------------------------------------------------------------------------------------------------------------------------------------------------------------------------------------------------------------------------------------------------------------------------------------------------------------------------------------------------------------------------------------------------------------------------------------------------------------------------------------------------------------------------------------------------------------------------------------------------------------------------------------------------------------------------------------------------------------------------------------------------------------------------------------------------------------------------------------------------------------------------------------------------------------------------------------------------------------------------------------------------------------------------------------------------------------------------------------------------------------------------------------------------------------------------------------------------------------------------------------------------------------------------------------------------------------------------------------------------------------------------------------------------------------------------------------------------------------------------------------------------------------------------------------------------------------------------------------------------------------------------------------------------------------------------------------------------------------------------------------------------------------------------------------------------------------------------------------------------------------------------------------------------------------------------------------------------------------------------------------------------------------------------------------------------------------------------------------------------------------------------------------------------------------------------------------------------------------------------------------------------------------------------------------------------------------------------------------------------------------------------------------------------------------------------------------------------------------------------------------------------------------------------------------------------------------------------------------------------------------------------------------------------------------------------------------------------------------------------------------------------------------------------------------------------------------------------------------------------------------------------------------------------------------------------------------------------------------------------------------------------------------------------------------------------------------------------------------------------------------------------------------------------------------------------------------------------------------------------------------------------------------------------------------------------------------------------------------------------------------------------------------------------------------------------------------------------------------------------------------------------------------------------------------------------------------------------------------------------------------------------------------------------------------------------------------------------------------------------------------------------------------------------------------------------------------------------------------------------------------------------------------------------------------------------------------------------------------------------------------------------------------------------------------------------------------------------------------------------------------------------------------------------------------------------------------------------------------------------------------------------------------------------------------------------------------------------------------------------------------------------------------------------------------------------------------------------------------------------------------------------------------------------------------------------------------------------------------------------------------------------------------------------------------------------------------------------------------------------------------------------------------------------------------------------------------------------------------------------------------------------------------------------------------------------------------------------------------------------------------------------------------------------------------------------------------------------------------------------------------------------------------------------------------------------------------------------------------------------------------------------------------------------------------------------------------------------------------------------------------------------------------------------------------------------------------------------------------------------------------------------------------------------------------------------------------------------------------------------------------------------------------------------------------------------------------------------------------------------------------------------------------------------------------------------------------------------------------------------------------------------------------------------------------------------------------------------------------------------------------------------------------------------------------------------------------------------------------------------------------------------------------------------------------------------------------------------------------------------------------------------------------------------------------------------------------------------------------------------------------------------------------------------------------------------------------------------------------------------------------------------------------------------------------------------------------------------------------------------------------------------------------------------------------------------------------------------------------------------------------------------------------------------------------------------------------------------------------------------------------------------------------------------------------------------------------------------------------------------------------------------------------------------------------------------------------------------------------------------------------------------------------------------------------------------------------------------------------------------------------------------------------------------------------------------------------------------------------------------------------------------------------------------------------------------------------------------------------------------------------------------------------------------------------------------------------------------------------------------------------------------------------------------------------------------------------------------------------------------------------------------------------------------------------------------------------------------------------------------------------------------------------------------------------------------------------------------------------------------------------------------------------------------------------------------------------------------------------------------------------------------------------------------------------------------------------------------------------------------------------------------------------------------------------------------------------------------------------------------------------------------------------------------------------------------------------------------------------------------------------------------------------------------------------------------------------------------------------------------------------------------------------------------------------------------------------------------------------------------------------------------------------------------------------------------------------------------------------------------------------------------------------------------------------------------------------------------------------------------------------------------------------------------------------------------------------------------------------------------------------------------------------------------------------------------------------------------------------------------------------------------------------------------------------------------------------------------------------------------------------------------------------------------------------------------------------------------------------------------------------------------------------------------------------------------------------------------------------------------------------------------------------------------------------------------------------------------------------------------------------------------------------------------------------------------------------------------------------------------------------------------------------------------------------------------------------------------------------------------------------------------------------------------------------------------------------------------------------------------------------------------------------------------------------------------------------------------------------------------------------------------------------------------------------------------------------------------------------------------------------------------------------------------------------------------------------------------------------------------------------------------------------------------------------------------------------------------------------------------------------------------------------------------------------------------------------------------------------------------------------------------------------------------------------------------------------------------------------------------------------------------------------------------------------------------------------------------------------------------------------------------------------------------------------------------------------------------------------------------------------------------------------------------------------------------------------------------------------------------------------------------------------------------------------------------------------------------------------------------------------------------------------------------------------------------------------------------------------------------------------------------------------------------------------------------------------------------------------------------------------------------------------------------------------------------------------------------------------------------------------------------------------------------------------------------------------------------------------------------------------------------------------------------------------------------------------------------------------------------------------------------------------------------------------------------------------------------------------------------------------------------------------------------------------------------------------------------------------------------------------------------------------------------------------------------------------------------------------------------------------------------------------------------------------------------------------------------------------------------------------------------------------------------------------------------------------------------------------------------------------------------------------------------------------------------------------------------------------------------------------------------------------------------------------------------------------------------------------------------------------------------------------------------------------------------------------------------------------------------------------------------------------------------------------------------------------------------------------------------------------------------------------------------------------------------------------------------------------------------------------------------------------------------------------------------------------------------------------------------------------------------------------------------------------------------------------------------------------------------------------------------------------------------------------------------------------------------------------------------------------------------------------------------------------------------------------------------------------------------------------------------------------------------------------------------------------------------------------------------------------------------------------------------------------------------------------------------------------------------------------------------------------------------------------------------------------------------------------------------------------------------------------------------------------------------------------------------------------------------------------------------------------------------------------------------------------------------------------------------------------------------------------------------------------------------------------------------------------------------------------------------------------------------------------------------------------------------------------------------------------------------------------------------------------------------------------------------------------------------------------------------------------------------------------------------------------------------------------------------------------------------------------------------------------------------------------------------------------------------------------------------------------------------------------------------------------------------------------------------------------------------------------------------------------------------------------------------------------------------------------------------------------------------------------------------------------------------------------------------------------------------------------------------------------------------------------------------------------------------------------------------------------------------------------------------------------------------------------------------------------------------------------------------------------------------------------------------------------------------------------------------------------------------------------------------------------------------------------------------------------------------------------------------------------------------------------------------------------------------------------------------------------------------------------------------------------------------------------------------------------------------------------------------------------------------------------------------------------------------------------------------------------------------------------------------------------------------------------------------------------------------------------------------------------------------------------------------------------------------------------------------------------------------------------------------------------------------------------------------------------------------------------------------------------------------------------------------------------------------------------------------------------------------------------------------------------------------------------------------------------------------------------------------------------------------------------------------------------------------------------------------------------------------------------------------------------------------------------------------------------------------------------------------------------------------------------------------------------------------------------------------------------------------------------------------------------------------------------------------------------------------------------------------------------------------------------------------------------------------------------------------------------------------------------------------------------------------------------------------------------------------------------------------------------------------------------------------------------------------------------------------------------------------------------------------------------------------------------------------------------------------------------------------------------------------------------------------------------------------------------------------------------------------------------------------------------------------------------------------------------------------------------------------------------------------------------------------------------------------------------------------------------------------------------------------------------------------------------------------------------------------------------------------------------------------------------------------------------------------------------------------------------------------------------------------------------------------------------------------------------------------------------------------------------------------------------------------------------------------------------------------------------------------------------------------------------------------------------------------------------------------------------------------------------------------------------------------------------------------------------------------------------------------------------------------------------------------------------------------------------------------------------------------------------------------------------------------------------------------------------------------------------------------------------------------------------------------------------------------------------------------------------------------------------------------------------------------------------------------------------------------------------------------------------------------------------------------------------------------------------------------------------------------------------------------------------------------------------------------------------------------------------------------------------------------------------------------------------------------------------------------------------------------------------------------------------------------------------------------------------------------------------------------------------------------------------------------------------------------------------------------------------------------------------------------------------------------------------------------------------------------------------------------------------------------------------------------------------------------------------------------------------------------------------------------------------------------------------------------------------------------------------------------------------------------------------------------------------------------------------------------------------------------------------------------------------------------------------------------------------------------------------------------------------------------------------------------------------------------------------------------------------------------------------------------------------------------------------------------------------------------------------------------------------------------------------------------------------------------------------------------------------------------------------------------------------------------------------------------------------------------------------------------------------------------------------------------------------------------------------------------------------------------------------------------------------------------------------------------------------------------------------------------------------------------------------------------------------------------------------------------------------------------------------------------------------------------------------------------------------------------------------------------------------------------------------------------------------------------------------------------------------------------------------------------------------------------------------------------------------------------------------------------------------------------------------------------------------------------------------------------------------------------------------------------------------------------------------------------------------------------------------------------------------------------------------------------------------------------------------------------------------------------------------------------------------------------------------------------------------------------------------------------------------------------------------------------------------------------------------------------------------------------------------------------------------------------------------------------------------------------------------------------------------------------------------------------------------------------------------------------------------------------------------------------------------------------------------------------------------------------------------------------------------------------------------------------------------------------------------------------------------------------------------------------------------------------------------------------------------------------------------------------------------------------------------------------------------------------------------------------------------------------------------------------------------------------------------------------------------------------------------------------------------------------------------------------------------------------------------------------------------------------------------------------------------------------------------------------------------------------------------------------------------------------------------------------------------------------------------------------------------------------------------------------------------------------------------------------------------------------------------------------------------------------------------------------------------------------------------------------------------------------------------------------------------------------------------------------------------------------------------------------------------------------------------------------------------------------------------------------------------------------------------------------------------------------------------------------------------------------------------------------------------------------------------------------------------------------------------------------------------------------------------------------------------------------------------------------------------------------------------------------------------------------------------------------------------------------------------------------------------------------------------------------------------------------------------------------------------------------------------------------------------------------------------------------------------------------------------------------------------------------------------------------------------------------------------------------------------------------------------------------------------------------------------------------------------------------------------------------------------------------------------------------------------------------------------------------------------------------------------------------------------------------------------------------------------------------------------------------------------------------------------------------------------------------------------------------------------------------------------------------------------------------------------------------------------------------------------------------------------------------------------------------------------------------------------------------------------------------------------------------------------------------------------------------------------------------------------------------------------------------------------------------------------------------------------------------------------------------------------------------------------------------------------------------------------------------------------------------------------------------------------------------------------------------------------------------------------------------------------------------------------------------------------------------------------------------------------------------------------------------------------------------------------------------------------------------------------------------------------------------------------------------------------------------------------------------------------------------------------------------------------------------------------------------------------------------------------------------------------------------------------------------------------------------------------------------------------------------------------------------------------------------------------------------------------------------------------------------------------------------------------------------------------------------------------------------------------------------------------------------------------------------------------------------------------------------------------------------------------------------------------------------------------------------------------------------------------------------------------------------------------------------------------------------------------------------------------------------------------------------------------------------------------------------------------------------------------------------------------------------------------------------------------------------------------------------------------------------------------------------------------------------------------------------------------------------------------------------------------------------------------------------------------------------------------------------------------------------------------------------------------------------------------------------------------------------------------------------------------------------------------------------------------------------------------------------------------------------------------------------------------------------------------------------------------------------------------------------------------------------------------------------------------------------------------------------------------------------------------------------------------------------------------------------------------------------------------------------------------------------------------------------------------------------------------------------------------------------------------------------------------------------------------------------------------------------------------------------------------------------------------------------------------------------------------------------------------------------------------------------------------------------------------------------------------------------------------------------------------------------------------------------------------------------------------------------------------------------------------------------------------------------------------------------------------------------------------------------------------------------------------------------------------------------------------------------------------------------------------------------------------------------------------------------------------------------------------------------------------------------------------------------------------------------------------------------------------------------------------------------------------------------------------------------------------------------------------------------------------------------------------------------------------------------------------------------------------------------------------------------------------------------------------------------------------------------------------------------------------------------------------------------------------------------------------------------------------------------------------------------------------------------------------------------------------------------------------------------------------------------------------------------------------------------------------------------------------------------------------------------------------------------------------------------------------------------------------------------------------------------------------------------------------------------------------------------------------------------------------------------------------------------------------------------------------------------------------------------------------------------------------------------------------------------------------------------------------------------------------------------------------------------------------------------------------------------------------------------------------------------------------------------------------------------------------------------------------------------------------------------------------------------------------------------------------------------------------------------------------------------------------------------------------------------------------------------------------------------------------------------------------------------------------------------------------------------------------------------------------------------------------------------------------------------------------------------------------------------------------------------------------------------------------------------------------------------------------------------------------------------------------------------------------------------------------------------------------------------------------------------------------------------------------------------------------------------------------------------------------------------------------------------------------------------------------------------------------------------------------------------------------------------------------------------------------------------------------------------------------------------------------------------------------------------------------------------------------------------------------------------------------------------------------------------------------------------------------------------------------------------------------------------------------------------------------------------------------------------------------------------------------------------------------------------------------------------------------------------------------------------------------------------------------------------------------------------------------------------------------------------------------------------------------------------------------------------------------------------------------------------------------------------------------------------------------------------------------------------------------------------------------------------------------------------------------------------------------------------------------------------------------------------------------------------------------------------------------------------------------------------------------------------------------------------------------------------------------------------------------------------------------------------------------------------------------------------------------------------------------------------------------------------------------------------------------------------------------------------------------------------------------------------------------------------------------------------------------------------------------------------------------------------------------------------------------------------------------------------------------------------------------------------------------------------------------------------------------------------------------------------------------------------------------------------------------------------------------------------------------------------------------------------------------------------------------------------------------------------------------------------------------------------------------------------------------------------------------------------------------------------------------------------------------------------------------------------------------------------------------------------------------------------------------------------------------------------------------------------------------------------------------------------------------------------------------------------------------------------------------------------------------------------------------------------------------------------------------------------------------------------------------------------------------------------------------------------------------------------------------------------------------------------------------------------------------------------------------------------------------------------------------------------------------------------------------------------------------------------------------------------------------------------------------------------------------------------------------------------------------------------------------------------------------------------------------------------------------------------------------------------------------------------------------------------------------------------------------------------------------------------------------------------------------------------------------------------------------------------------------------------------------------------------------------------------------------------------------------------------------------------------------------------------------------------------------------------------------------------------------------------------------------------------------------------------------------------------------------------------------------------------------------------------------------------------------------------------------------------------------------------------------------------------------------------------------------------------------------------------------------------------------------------------------------------------------------------------------------------------------------------------------------------------------------------------------------------------------------------------------------------------------------------------------------------------------------------------------------------------------------------------------------------------------------------------------------------------------------------------------------------------------------------------------------------------------------------------------------------------------------------------------------------------------------------------------------------------------------------------------------------------------------------------------------------------------------------------------------------------------------------------------------------------------------------------------------------------------------------------------------------------------------------------------------------------------------------------------------------------------------------------------------------------------------------------------------------------------------------------------------------------------------------------------------------------------------------------------------------------------------------------------------------------------------------------------------------------------------------------------------------------------------------------------------------------------------------------------------------------------------------------------------------------------------------------------------------------------------------------------------------------------------------------------------------------------------------------------------------------------------------------------------------------------------------------------------------------------------------------------------------------------------------------------------------------------------------------------------------------------------------------------------------------------------------------------------------------------------------------------------------------------------------------------------------------------------------------------------------------------------------------------------------------------------------------------------------------------------------------------------------------------------------------------------------------------------------------------------------------------------------------------------------------------------------------------------------------------------------------------------------------------------------------------------------------------------------------------------------------------------------------------------------------------------------------------------------------------------------------------------------------------------------------------------------------------------------------------------------------------------------------------------------------------------------------------------------------------------------------------------------------------------------------------------------------------------------------------------------------------------------------------------------------------------------------------------------------------------------------------------------------------------------------------------------------------------------------------------------------------------------------------------------------------------------------------------------------------------------------------------------------------------------------------------------------------------------------------------------------------------------------------------------------------------------------------------------------------------------------------------------------------------------------------------------------------------------------------------------------------------------------------------------------------------------------------------------------------------------------------------------------------------------------------------------------------------------------------------------------------------------------------------------------------------------------------------------------------------------------------------------------------------------------------------------------------------------------------------------------------------------------------------------------------------------------------------------------------------------------------------------------------------------------------------------------------------------------------------------------------------------------------------------------------------------------------------------------------------------------------------------------------------------------------------------------------------------------------------------------------------------------------------------------------------------------------------------------------------------------------------------------------------------------------------------------------------------------------------------------------------------------------------------------------------------------------------------------------------------------------------------------------------------------------------------------------------------------------------------------------------------------------------------------------------------------------------------------------------------------------------------------------------------------------------------------------------------------------------------------------------------------------------------------------------------------------------------------------------------------------------------------------------------------------------------------------------------------------------------------------------------------------------------------------------------------------------------------------------------------------------------------------------------------------------------------------------------------------------------------------------------------------------------------------------------------------------------------------------------------------------------------------------------------------------------------------------------------------------------------------------------------------------------------------------------------------------------------------------------------------------------------------------------------------------------------------------------------------------------------------------------------------------------------------------------------------------------------------------------------------------------------------------------------------------------------------------------------------------------------------------------------------------------------------------------------------------------------------------------------------------------------------------------------------------------------------------------------------------------------------------------------------------------------------------------------------------------------------------------------------------------------------------------------------------------------------------------------------------------------------------------------------------------------------------------------------------------------------------------------------------------------------------------------------------------------------------------------------------------------------------------------------------------------------------------------------------------------------------------------------------------------------------------------------------------------------------------------------------------------------------------------------------------------------------------------------------------------------------------------------------------------------------------------------------------------------------------------------------------------------------------------------------------------------------------------------------------------------------------------------------------------------------------------------------------------------------------------------------------------------------------------------------------------------------------------------------------------------------------------------------------------------------------------------------------------------------------------------------------------------------------------------------------------------------------------------------------------------------------------------------------------------------------------------------------------------------------------------------------------------------------------------------------------------------------------------------------------------------------------------------------------------------------------------------------------------------------------------------------------------------------------------------------------------------------------------------------------------------------------------------------------------------------------------------------------------------------------------------------------------------------------------------------------------------------------------------------------------------------------------------------------------------------------------------------------------------------------------------------------------------------------------------------------------------------------------------------------------------------------------------------------------------------------------------------------------------------------------------------------------------------------------------------------------------------------------------------------------------------------------------------------------------------------------------------------------------------------------------------------------------------------------------------------------------------------------------------------------------------------------------------------------------------------------------------------------------------------------------------------------------------------------------------------------------------------------------------------------------------------------------------------------------------------------------------------------------------------------------------------------------------------------------------------------------------------------------------------------------------------------------------------------------------------------------------------------------------------------------------------------------------------------------------------------------------------------------------------------------------------------------------------------------------------------------------------------------------------------------------------------------------------------------------------------------------------------------------------------------------------------------------------------------------------------------------------------------------------------------------------------------------------------------------------------------------------------------------------------------------------------------------------------------------------------------------------------------------------------------------------------------------------------------------------------------------------------------------------------------------------------------------------------------------------------------------------------------------------------------------------------------------------------------------------------------------------------------------------------------------------------------------------------------------------------------------------------------------------------------------------------------------------------------------------------------------------------------------------------------------------------------------------------------------------------------------------------------------------------------------------------------------------------------------------------------------------------------------------------------------------------------------------------------------------------------------------------------------------------------------------------------------------------------------------------------------------------------------------------------------------------------------------------------------------------------------------------------------------------------------------------------------------------------------------------------------------------------------------------------------------------------------------------------------------------------------------------------------------------------------------------------------------------------------------------------------------------------------------------------------------------------------------------------------------------------------------------------------------------------------------------------------------------------------------------------------------------------------------------------------------------------------------------------------------------------------------------------------------------------------------------------------------------------------------------------------------------------------------------------------------------------------------------------------------------------------------------------------------------------------------------------------------------------------------------------------------------------------------------------------------------------------------------------------------------------------------------------------------------------------------------------------------------------------------------------------------------------------------------------------------------------------------------------------------------------------------------------------------------------------------------------------------------------------------------------------------------------------------------------------------------------------------------------------------------------------------------------------------------------------------------------------------------------------------------------------------------------------------------------------------------------------------------------------------------------------------------------------------------------------------------------------------------------------------------------------------------------------------------------------------------------------------------------------------------------------------------------------------------------------------------------------------------------------------------------------------------------------------------------------------------------------------------------------------------------------------------------------------------------------------------------------------------------------------------------------------------------------------------------------------------------------------------------------------------------------------------------------------------------------------------------------------------------------------------------------------------------------------------------------------------------------------------------------------------------------------------------------------------------------------------------------------------------------------------------------------------------------------------------------------------------------------------------------------------------------------------------------------------------------------------------------------------------------------------------------------------------------------------------------------------------------------------------------------------------------------------------------------------------------------------------------------------------------------------------------------------------------------------------------------------------------------------------------------------------------------------------------------------------------------------------------------------------------------------------------------------------------------------------------------------------------------------------------------------------------------------------------------------------------------------------------------------------------------------------------------------------------------------------------------------------------------------------------------------------------------------------------------------------------------------------------------------------------------------------------------------------------------------------------------------------------------------------------------------------------------------------------------------------------------------------------------------------------------------------------------------------------------------------------------------------------------------------------------------------------------------------------------------------------------------------------------------------------------------------------------------------------------------------------------------------------------------------------------------------------------------------------------------------------------------------------------------------------------------------------------------------------------------------------------------------------------------------------------------------------------------------------------------------------------------------------------------------------------------------------------------------------------------------------------------------------------------------------------------------------------------------------------------------------------------------------------------------------------------------------------------------------------------------------------------------------------------------------------------------------------------------------------------------------------------------------------------------------------------------------------------------------------------------------------------------------------------------------------------------------------------------------------------------------------------------------------------------------------------------------------------------------------------------------------------------------------------------------------------------------------------------------------------------------------------------------------------------------------------------------------------------------------------------------------------------------------------------------------------------------------------------------------------------------------------------------------------------------------------------------------------------------------------------------------------------------------------------------------------------------------------------------------------------------------------------------------------------------------------------------------------------------------------------------------------------------------------------------------------------------------------------------------------------------------------------------------------------------------------------------------------------------------------------------------------------------------------------------------------------------------------------------------------------------------------------------------------------------------------------------------------------------------------------------------------------------------------------------------------------------------------------------------------------------------------------------------------------------------------------------------------------------------------------------------------------------------------------------------------------------------------------------------------------------------------------------------------------------------------------------------------------------------------------------------------------------------------------------------------------------------------------------------------------------------------------------------------------------------------------------------------------------------------------------------------------------------------------------------------------------------------------------------------------------------------------------------------------------------------------------------------------------------------------------------------------------------------------------------------------------------------------------------------------------------------------------------------------------------------------------------------------------------------------------------------------------------------------------------------------------------------------------------------------------------------------------------------------------------------------------------------------------------------------------------------------------------------------------------------------------------------------------------------------------------------------------------------------------------------------------------------------------------------------------------------------------------------------------------------------------------------------------------------------------------------------------------------------------------------------------------------------------------------------------------------------------------------------------------------------------------------------------------------------------------------------------------------------------------------------------------------------------------------------------------------------------------------------------------------------------------------------------------------------------------------------------------------------------------------------------------------------------------------------------------------------------------------------------------------------------------------------------------------------------------------------------------------------------------------------------------------------------------------------------------------------------------------------------------------------------------------------------------------------------------------------------------------------------------------------------------------------------------------------------------------------------------------------------------------------------------------------------------------------------------------------------------------------------------------------------------------------------------------------------------------------------------------------------------------------------------------------------------------------------------------------------------------------------------------------------------------------------------------------------------------------------------------------------------------------------------------------------------------------------------------------------------------------------------------------------------------------------------------------------------------------------------------------------------------------------------------------------------------------------------------------------------------------------------------------------------------------------------------------------------------------------------------------------------------------------------------------------------------------------------------------------------------------------------------------------------------------------------------------------------------------------------------------------------------------------------------------------------------------------------------------------------------------------------------------------------------------------------------------------------------------------------------------------------------------------------------------------------------------------------------------------------------------------------------------------------------------------------------------------------------------------------------------------------------------------------------------------------------------------------------------------------------------------------------------------------------------------------------------------------------------------------------------------------------------------------------------------------------------------------------------------------------------------------------------------------------------------------------------------------------------------------------------------------------------------------------------------------------------------------------------------------------------------------------------------------------------------------------------------------------------------------------------------------------------------------------------------------------------------------------------------------------------------------------------------------------------------------------------------------------------------------------------------------------------------------------------------------------------------------------------------------------------------------------------------------------------------------------------------------------------------------------------------------------------------------------------------------------------------------------------------------------------------------------------------------------------------------------------------------------------------------------------------------------------------------------------------------------------------------------------------------------------------------------------------------------------------------------------------------------------------------------------------------------------------------------------------------------------------------------------------------------------------------------------------------------------------------------------------------------------------------------------------------------------------------------------------------------------------------------------------------------------------------------------------------------------------------------------------------------------------------------------------------------------------------------------------------------------------------------------------------------------------------------------------------------------------------------------------------------------------------------------------------------------------------------------------------------------------------------------------------------------------------------------------------------------------------------------------------------------------------------------------------------------------------------------------------------------------------------------------------------------------------------------------------------------------------------------------------------------------------------------------------------------------------------------------------------------------------------------------------------------------------------------------------------------------------------------------------------------------------------------------------------------------------------------------------------------------------------------------------------------------------------------------------------------------------------------------------------------------------------------------------------------------------------------------------------------------------------------------------------------------------------------------------------------------------------------------------------------------------------------------------------------------------------------------------------------------------------------------------------------------------------------------------------------------------------------------------------------------------------------------------------------------------------------------------------------------------------------------------------------------------------------------------------------------------------------------------------------------------------------------------------------------------------------------------------------------------------------------------------------------------------------------------------------------------------------------------------------------------------------------------------------------------------------------------------------------------------------------------------------------------------------------------------------------------------------------------------------------------------------------------------------------------------------------------------------------------------------------------------------------------------------------------------------------------------------------------------------------------------------------------------------------------------------------------------------------------------------------------------------------------------------------------------------------------------------------------------------------------------------------------------------------------------------------------------------------------------------------------------------------------------------------------------------------------------------------------------------------------------------------------------------------------------------------------------------------------------------------------------------------------------------------------------------------------------------------------------------------------------------------------------------------------------------------------------------------------------------------------------------------------------------------------------------------------------------------------------------------------------------------------------------------------------------------------------------------------------------------------------------------------------------------------------------------------------------------------------------------------------------------------------------------------------------------------------------------------------------------------------------------------------------------------------------------------------------------------------------------------------------------------------------------------------------------------------------------------------------------------------------------------------------------------------------------------------------------------------------------------------------------------------------------------------------------------------------------------------------------------------------------------------------------------------------------------------------------------------------------------------------------------------------------------------------------------------------------------------------------------------------------------------------------------------------------------------------------------------------------------------------------------------------------------------------------------------------------------------------------------------------------------------------------------------------------------------------------------------------------------------------------------------------------------------------------------------------------------------------------------------------------------------------------------------------------------------------------------------------------------------------------------------------------------------------------------------------------------------------------------------------------------------------------------------------------------------------------------------------------------------------------------------------------------------------------------------------------------------------------------------------------------------------------------------------------------------------------------------------------------------------------------------------------------------------------------------------------------------------------------------------------------------------------------------------------------------------------------------------------------------------------------------------------------------------------------------------------------------------------------------------------------------------------------------------------------------------------------------------------------------------------------------------------------------------------------------------------------------------------------------------------------------------------------------------------------------------------------------------------------------------------------------------------------------------------------------------------------------------------------------------------------------------------------------------------------------------------------------------------------------------------------------------------------------------------------------------------------------------------------------------------------------------------------------------------------------------------------------------------------------------------------------------------------------------------------------------------------------------------------------------------------------------------------------------------------------------------------------------------------------------------------------------------------------------------------------------------------------------------------------------------------------------------------------------------------------------------------------------------------------------------------------------------------------------------------------------------------------------------------------------------------------------------------------------------------------------------------------------------------------------------------------------------------------------------------------------------------------------------------------------------------------------------------------------------------------------------------------------------------------------------------------------------------------------------------------------------------------------------------------------------------------------------------------------------------------------------------------------------------------------------------------------------------------------------------------------------------------------------------------------------------------------------------------------------------------------------------------------------------------------------------------------------------------------------------------------------------------------------------------------------------------------------------------------------------------------------------------------------------------------------------------------------------------------------------------------------------------------------------------------------------------------------------------------------------------------------------------------------------------------------------------------------------------------------------------------------------------------------------------------------------------------------------------------------------------------------------------------------------------------------------------------------------------------------------------------------------------------------------------------------------------------------------------------------------------------------------------------------------------------------------------------------------------------------------------------------------------------------------------------------------------------------------------------------------------------------------------------------------------------------------------------------------------------------------------------------------------------------------------------------------------------------------------------------------------------------------------------------------------------------------------------------------------------------------------------------------------------------------------------------------------------------------------------------------------------------------------------------------------------------------------------------------------------------------------------------------------------------------------------------------------------------------------------------------------------------------------------------------------------------------------------------------------------------------------------------------------------------------------------------------------------------------------------------------------------------------------------------------------------------------------------------------------------------------------------------------------------------------------------------------------------------------------------------------------------------------------------------------------------------------------------------------------------------------------------------------------------------------------------------------------------------------------------------------------------------------------------------------------------------------------------------------------------------------------------------------------------------------------------------------------------------------------------------------------------------------------------------------------------------------------------------------------------------------------------------------------------------------------------------------------------------------------------------------------------------------------------------------------------------------------------------------------------------------------------------------------------------------------------------------------------------------------------------------------------------------------------------------------------+\n",
            "|collect_list(actividad_producto_nombre)                                                                                                                                                                                                                                                                                                                                                                                                                                                                                                                                                                                                                                                                                                                                                                                                                                                                                                                                                                                                                                                                                                                                                                                                                                                                                                                                                                                                                                                                                                                                                                                                                                                                                                                                                                                                                                                                                                                                                                                                                                                                                                                                                                                                                                                                                                                                                                                                                                                                                                                                                                                                                                                                                                                                                                                                                                                                                                                                                                                                                                                                                                                                                                                                                                                                                                                                                                                                                                                                                                                                                                                                                                                                                                                                                                                                                                                                                                                                                                                                                                                                                                                                                                                                                                                                                                                                                                                                                                                                                                                                                                                                                                                                                                                                                                                                                                                                                                                                                                                                                                                                                                                                                                                                                                                                                                                                                                                                                                                                                                                                                                                                                                                                                                                                                                                                                                                                                                                                                                                                                                                                                                                                                                                                                                                                                                                                                                                                                                                                                                                                                                                                                                                                                                                                                                                                                                                                                                                                                                                                                                                                                                                                                                                                                                                                                                                                                                                                                                                                                                                                                                                                                                                                                                                                                                                                                                                                                                                                                                                                                                                                                                                                                                                                                                                                                                                                                                                                                                                                                                                                                                                                                                                                                                                                                                                                                                                                                                                                                                                                                                                                                                                                                                                                                                                                                                                                                                                                                                                                                                                                                                                                                                                                                                                                                                                                                                                                                                                                                                                                                                                                                                                                                                                                                                                                                                                                                                                                                                                                                                                                                                                                                                                                                                                                                                                                                                                                                                                                                                                                                                                                                                                                                                                                                                                                                                                                                                                                                                                                                                                                                                                                                                                                                                                                                                                                                                                                                                                                                                                                                                                                                                                                                                                                                                                                                                                                                                                                                                                                                                                                                                                                                                                                                                                                                                                                                                                                                                                                                                                                                                                                                                                                                                                                                                                                                                                                                                                                                                                                                                                                                                                                                                                                                                                                                                                                                                                                                                                                                                                                                                                                                                                                                                                                                                                                                                                                                                                                                                                                                                                                                                                                                                                                                                                                                                                                                                                                                                                                                                                                                                                                                                                                                                                                                                                                                                                                                                                                                                                                                                                                                                                                                                                                                                                                                                                                                                                                                                                                                                                                                                                                                                                                                                                                                                                                                                                                                                                                                                                                                                                                                                                                                                                                                                                                                                                                                                                                                                                                                                                                                                                                                                                                                                                                                                                                                                                                                                                                                                                                                                                                                                                                                                                                                                                                                                                                                                                                                                                                                                                                                                                                                                                                                                                                                                                                                                                                                                                                                                                                                                                                                                                                                                                                                                                                                                                                                                                                                                                                                                                                                                                                                                                                                                                                                                                                                                                                                                                                                                                                                                                                                                                                                                                                                                                                                                                                                                                                                                                                                                                                                                                                                                                                                                                                                                                                                                                                                                                                                                                                                                                                                                                                                                                                                                                                                                                                                                                                                                                                                                                                                                                                                                                                                                                                                                                                                                                                                                                                                                                                                                                                                                                                                                                                                                                                                                                                                                                                                                                                                                                                                                                                                                                                                                                                                                                                                                                                                                                                                                                                                                                                                                                                                                                                                                                                                                                                                                                                                                                                                                                                                                                                                                                                                                                                                                                                                                                                                                                                                                                                                                                                                                                                                                                                                                                                                                                                                                                                                                                                                                                                                                                                                                                                                                                                                                                                                                                                                                                                                                                                                                                                                                                                                                                                                                                                                                                                                                                                                                                                                                                                                                                                                                                                                                                                                                                                                                                                                                                                                                                                                                                                                                                                                                                                                                                                                                                                                                                                                                                                                                                                                                                                                                                                                                                                                                                                                                                                                                                                                                                                                                                                                                                                                                                                                                                                                                                                                                                                                                                                                                                                                                                                                                                                                                                                                                                                                                                                                                                                                                                                                                                                                                                                                                                                                                                                                                                                                                                                                                                                                                                                                                                                                                                                                                                                                                                                                                                                                                                                                                                                                                                                                                                                                                                                                                                                                                                                                                                                                                                                                                                                                                                                                                                                                                                                                                                                                                                                                                                                                                                                                                                                                                                                                                                                                                                                                                                                                                                                                                                                                                                                                                                                                                                                                                                                                                                                                                                                                                                                                                                                                                                                                                                                                                                                                                                                                                                                                                                                                                                                                                                                                                                                                                                                                                                                                                                                                                                                                                                                                                                                                                                                                                                                                                                                                                                                                                                                                                                                                                                                                                                                                                                                                                                                                                                                                                                                                                                                                                                                                                                                                                                                                                                                                                                                                                                                                                                                                                                                                                                                                                                                                                                                                                                                                                                                                                                                                                                                                                                                                                                                                                                                                                                                                                                                                                                                                                                                                                                                                                                                                                                                                                                                                                                                                                                                                                                                                                                                                                                                                                                                                                                                                                                                                                                                                                                                                                                                                                                                                                                                                                                                                                                                                                                                                                                                                                                                                                                                                                                                                                                                                                                                                                                                                                                                                                                                                                                                                                                                                                                                                                                                                                                                                                                                                                                                                                                                                                                                                                                                                                                                                                                                                                                                                                                                                                                                                                                                                                                                                                                                                                                                                                                                                                                                                                                                                                                                                                                                                                                                                                                                                                                                                                                                                                                                                                                                                                                                                                                                                                                                                                                                                                                                                                                                                                                                                                                                                                                                                                                                                                                                                                                                                                                                                                                                                                                                                                                                                                                                                                                                                                                                                                                                                                                                                                                                                                                                                                                                                                                                                                                                                                                                                                                                                                                                                                                                                                                                                                                                                                                                                                                                                                                                                                                                                                                                                                                                                                                                                                                                                                                                                                                                                                                                                                                                                                                                                                                                                                                                                                                                                                                                                                                                                                                                                                                                                                                                                                                                                                                                                                                                                                                                                                                                                                                                                                                                                                                                                                                                                                                                                                                                                                                                                                                                                                                                                                                                                                                                                                                                                                                                                                                                                                                                                                                                                                                                                                                                                                                                                                                                                                                                                                                                                                                                                                                                                                                                                                                                                                                                                                                                                                                                                                                                                                                                                                                                                                                                                                                                                                                                                                                                                                                                                                                                                                                                                                                                                                                                                                                                                                                                                                                                                                                                                                                                                                                                                                                                                                                                                                                                                                                                                                                                                                                                                                                                                                                                                                                                                                                                                                                                                                                                                                                                                                                                                                                                                                                                                                                                                                                                                                                                                                                                                                                                                                                                                                                                                                                                                                                                                                                                                                                                                                                                                                                                                                                                                                                                                                                                                                                                                                                                                                                                                                                                                                                                                                                                                                                                                                                                                                                                                                                                                                                                                                                                                                                                                                                                                                                                                                                                                                                                                                                                                                                                                                                                                                                                                                                                                                                                                                                                                                                                                                                                                                                                                                                                                                                                                                                                                                                                                                                                                                                                                                                                                                                                                                                                                                                                                                                                                                                                                                                                                                                                                                                                                                                                                                                                                                                                                                                                                                                                                                                                                                                                                                                                                                                                                                                                                                                                                                                                                                                                                                                                                                                                                                                                                                                                                                                                                                                                                                                                                                                                                                                                                                                                                                                                                                                                                                                                                                                                                                                                                                                                                                                                                                                                                                                                                                                                                                                                                                                                                                                                                                                                                                                                                                                                                                                                                                                                                                                                                                                                                                                                                                                                                                                                                                                                                                                                                                                                                                                                                                                                                                                                                                                                                                                                                                                                                                                                                                                                                                                                                                                                                                                                                                                                                                                                                                                                                                                                                                                                                                                                                                                                                                                                                                                                                                                                                                                                                                                                                                                                                                                                                                                                                                                                                                                                                                                                                                                                                                                                                                                                                                                                                                                                                                                                                                                                                                                                                                                                                                                                                                                                                                                                                                                                                                                                                                                                                                                                                                                                                                                                                                                                                                                                                                                                                                                                                                                                                                                                                                                                                                                                                                                                                                                                                                                                                                                                                                                                                                                                                                                                                                                                                                                                                                                                                                                                                                                                                                                                                                                                                                                                                                                                                                                                                                                                                                                                                                                                                                                                                                                                                                                                                                                                                                                                                                                                                                                                                                                                                                                                                                                                                                                                                                                                                                                                                                                                                                                                                                                                                                                                                                                                                                                                                                                                                                                                                                                                                                                                                                                                                                                                                                                                                                                                                                                                                                                                                                                                                                                                                                                                                                                                                                                                                                                                                                                                                                                                                                                                                                                                                                                                                                                                                                                                                                                                                                                                                                                                                                                                                                                                                                                                                                                                                                                                                                                                                                                                                                                                                                                                                                                                                                                                                                                                                                                                                                                                                                                                                                                                                                                                                                                                                                                                                                                                                                                                                                                                                                                                                                                                                                                                                                                                                                                                                                                                                                                                                                                                                                                                                                                                                                                                                                                                                                                                                                                                                                                                                                                                                                                                                                                                                                                                                                                                                                                                                                                                                                                                                                                                                                                                                                                                                                                                                                                                                                                                                                                                                                                                                                                                                                                                                                                                                                                                                                                                                                                                                                                                                                                                                                                                                                                                                                                                                                                                                                                                                                                                                                                                                                                                                                                                                                                                                                                                                                                                                                                                                                                                                                                                                                                                                                                                                                                                                                                                                                                                                                                                                                                                                                                                                                                                                                                                                                                                                                                                                                                                                                                                                                                                                                                                                                                                                                                                                                                                                                                                                                                                                                                                                                                                                                                                                                                                                                                                                                                                                                                                                                                                                                                                                                                                                                                                                                                                                                                                                                                                                                                                                                                                                                                                                                                                                                                                                                                                                                                                                                                                                                                                                                                                                                                                                                                                                                                                                                                                                                                                                                                                                                                                                                                                                                                                                                                                                                                                                                                                                                                                                                                                                                                                                                                                                                                                                                                                                                                                                                                                                                                                                                                                                                                                                                                                                                                                                                                                                                                                                                                                                                                                                                                                                                                                                                                                                                                                                                                                                                                                                                                                                                                                                                                                                                                                                                                                                                                                                                                                                                                                                                                                                                                                                                                                                                                                                                                                                                                                                                                                                                                                                                                                                                                                                                                                                                                                                                                                                                                                                                                                                                                                                                                                                                                                                                                                                                                                                                                                                                                                                                                                                                                                                                                                                                                                                                                                                                                                                                                                                                                                                                                                                                                                                                                                                                                                                                                                                                                                                                                                                                                                                                                                                                                                                                                                                                                                                                                                                                                                                                                                                                                                                                                                                                                                                                                                                                                                                                                                                                                                                                                                                                                                                                                                                                                                                                                                                                                                                                                                                                                                                                                                                                                                                                                                                                                                                                                                                                                                                                                                                                                                                                                                                                                                                                                                                                                                                                                                                                                                                                                                                                                                                                                                                                                                                                                                                                                                                                                                                                                                                                                                                                                                                                                                                                                                                                                                                                                                                                                                                                                                                                                                                                                                                                                                                                                                                                                                                                                                                                                                                                                                                                                                                                                                                                                                                                                                                                                                                                                                                                                                                                                                                                                                                                                                                                                                                                                                                                                                                                                                                                                                                                                                                                                                                                                                                                                                                                                                                                                                                                                                                                                                                                                                                                                                                                                                                                                                                                                                                                                                                                                                                                                                                                                                                                                                                                                                                                                                                                                                                                                                                                                                                                                                                                                                                                                                                                                                                                                                                                                                                                                                                                                                                                                                                                                                                                                                                                                                                                                                                                                                                                                                                                                                                                                                                                                                     |\n",
            "+----------------------------------------------------------------------------------------------------------------------------------------------------------------------------------------------------------------------------------------------------------------------------------------------------------------------------------------------------------------------------------------------------------------------------------------------------------------------------------------------------------------------------------------------------------------------------------------------------------------------------------------------------------------------------------------------------------------------------------------------------------------------------------------------------------------------------------------------------------------------------------------------------------------------------------------------------------------------------------------------------------------------------------------------------------------------------------------------------------------------------------------------------------------------------------------------------------------------------------------------------------------------------------------------------------------------------------------------------------------------------------------------------------------------------------------------------------------------------------------------------------------------------------------------------------------------------------------------------------------------------------------------------------------------------------------------------------------------------------------------------------------------------------------------------------------------------------------------------------------------------------------------------------------------------------------------------------------------------------------------------------------------------------------------------------------------------------------------------------------------------------------------------------------------------------------------------------------------------------------------------------------------------------------------------------------------------------------------------------------------------------------------------------------------------------------------------------------------------------------------------------------------------------------------------------------------------------------------------------------------------------------------------------------------------------------------------------------------------------------------------------------------------------------------------------------------------------------------------------------------------------------------------------------------------------------------------------------------------------------------------------------------------------------------------------------------------------------------------------------------------------------------------------------------------------------------------------------------------------------------------------------------------------------------------------------------------------------------------------------------------------------------------------------------------------------------------------------------------------------------------------------------------------------------------------------------------------------------------------------------------------------------------------------------------------------------------------------------------------------------------------------------------------------------------------------------------------------------------------------------------------------------------------------------------------------------------------------------------------------------------------------------------------------------------------------------------------------------------------------------------------------------------------------------------------------------------------------------------------------------------------------------------------------------------------------------------------------------------------------------------------------------------------------------------------------------------------------------------------------------------------------------------------------------------------------------------------------------------------------------------------------------------------------------------------------------------------------------------------------------------------------------------------------------------------------------------------------------------------------------------------------------------------------------------------------------------------------------------------------------------------------------------------------------------------------------------------------------------------------------------------------------------------------------------------------------------------------------------------------------------------------------------------------------------------------------------------------------------------------------------------------------------------------------------------------------------------------------------------------------------------------------------------------------------------------------------------------------------------------------------------------------------------------------------------------------------------------------------------------------------------------------------------------------------------------------------------------------------------------------------------------------------------------------------------------------------------------------------------------------------------------------------------------------------------------------------------------------------------------------------------------------------------------------------------------------------------------------------------------------------------------------------------------------------------------------------------------------------------------------------------------------------------------------------------------------------------------------------------------------------------------------------------------------------------------------------------------------------------------------------------------------------------------------------------------------------------------------------------------------------------------------------------------------------------------------------------------------------------------------------------------------------------------------------------------------------------------------------------------------------------------------------------------------------------------------------------------------------------------------------------------------------------------------------------------------------------------------------------------------------------------------------------------------------------------------------------------------------------------------------------------------------------------------------------------------------------------------------------------------------------------------------------------------------------------------------------------------------------------------------------------------------------------------------------------------------------------------------------------------------------------------------------------------------------------------------------------------------------------------------------------------------------------------------------------------------------------------------------------------------------------------------------------------------------------------------------------------------------------------------------------------------------------------------------------------------------------------------------------------------------------------------------------------------------------------------------------------------------------------------------------------------------------------------------------------------------------------------------------------------------------------------------------------------------------------------------------------------------------------------------------------------------------------------------------------------------------------------------------------------------------------------------------------------------------------------------------------------------------------------------------------------------------------------------------------------------------------------------------------------------------------------------------------------------------------------------------------------------------------------------------------------------------------------------------------------------------------------------------------------------------------------------------------------------------------------------------------------------------------------------------------------------------------------------------------------------------------------------------------------------------------------------------------------------------------------------------------------------------------------------------------------------------------------------------------------------------------------------------------------------------------------------------------------------------------------------------------------------------------------------------------------------------------------------------------------------------------------------------------------------------------------------------------------------------------------------------------------------------------------------------------------------------------------------------------------------------------------------------------------------------------------------------------------------------------------------------------------------------------------------------------------------------------------------------------------------------------------------------------------------------------------------------------------------------------------------------------------------------------------------------------------------------------------------------------------------------------------------------------------------------------------------------------------------------------------------------------------------------------------------------------------------------------------------------------------------------------------------------------------------------------------------------------------------------------------------------------------------------------------------------------------------------------------------------------------------------------------------------------------------------------------------------------------------------------------------------------------------------------------------------------------------------------------------------------------------------------------------------------------------------------------------------------------------------------------------------------------------------------------------------------------------------------------------------------------------------------------------------------------------------------------------------------------------------------------------------------------------------------------------------------------------------------------------------------------------------------------------------------------------------------------------------------------------------------------------------------------------------------------------------------------------------------------------------------------------------------------------------------------------------------------------------------------------------------------------------------------------------------------------------------------------------------------------------------------------------------------------------------------------------------------------------------------------------------------------------------------------------------------------------------------------------------------------------------------------------------------------------------------------------------------------------------------------------------------------------------------------------------------------------------------------------------------------------------------------------------------------------------------------------------------------------------------------------------------------------------------------------------------------------------------------------------------------------------------------------------------------------------------------------------------------------------------------------------------------------------------------------------------------------------------------------------------------------------------------------------------------------------------------------------------------------------------------------------------------------------------------------------------------------------------------------------------------------------------------------------------------------------------------------------------------------------------------------------------------------------------------------------------------------------------------------------------------------------------------------------------------------------------------------------------------------------------------------------------------------------------------------------------------------------------------------------------------------------------------------------------------------------------------------------------------------------------------------------------------------------------------------------------------------------------------------------------------------------------------------------------------------------------------------------------------------------------------------------------------------------------------------------------------------------------------------------------------------------------------------------------------------------------------------------------------------------------------------------------------------------------------------------------------------------------------------------------------------------------------------------------------------------------------------------------------------------------------------------------------------------------------------------------------------------------------------------------------------------------------------------------------------------------------------------------------------------------------------------------------------------------------------------------------------------------------------------------------------------------------------------------------------------------------------------------------------------------------------------------------------------------------------------------------------------------------------------------------------------------------------------------------------------------------------------------------------------------------------------------------------------------------------------------------------------------------------------------------------------------------------------------------------------------------------------------------------------------------------------------------------------------------------------------------------------------------------------------------------------------------------------------------------------------------------------------------------------------------------------------------------------------------------------------------------------------------------------------------------------------------------------------------------------------------------------------------------------------------------------------------------------------------------------------------------------------------------------------------------------------------------------------------------------------------------------------------------------------------------------------------------------------------------------------------------------------------------------------------------------------------------------------------------------------------------------------------------------------------------------------------------------------------------------------------------------------------------------------------------------------------------------------------------------------------------------------------------------------------------------------------------------------------------------------------------------------------------------------------------------------------------------------------------------------------------------------------------------------------------------------------------------------------------------------------------------------------------------------------------------------------------------------------------------------------------------------------------------------------------------------------------------------------------------------------------------------------------------------------------------------------------------------------------------------------------------------------------------------------------------------------------------------------------------------------------------------------------------------------------------------------------------------------------------------------------------------------------------------------------------------------------------------------------------------------------------------------------------------------------------------------------------------------------------------------------------------------------------------------------------------------------------------------------------------------------------------------------------------------------------------------------------------------------------------------------------------------------------------------------------------------------------------------------------------------------------------------------------------------------------------------------------------------------------------------------------------------------------------------------------------------------------------------------------------------------------------------------------------------------------------------------------------------------------------------------------------------------------------------------------------------------------------------------------------------------------------------------------------------------------------------------------------------------------------------------------------------------------------------------------------------------------------------------------------------------------------------------------------------------------------------------------------------------------------------------------------------------------------------------------------------------------------------------------------------------------------------------------------------------------------------------------------------------------------------------------------------------------------------------------------------------------------------------------------------------------------------------------------------------------------------------------------------------------------------------------------------------------------------------------------------------------------------------------------------------------------------------------------------------------------------------------------------------------------------------------------------------------------------------------------------------------------------------------------------------------------------------------------------------------------------------------------------------------------------------------------------------------------------------------------------------------------------------------------------------------------------------------------------------------------------------------------------------------------------------------------------------------------------------------------------------------------------------------------------------------------------------------------------------------------------------------------------------------------------------------------------------------------------------------------------------------------------------------------------------------------------------------------------------------------------------------------------------------------------------------------------------------------------------------------------------------------------------------------------------------------------------------------------------------------------------------------------------------------------------------------------------------------------------------------------------------------------------------------------------------------------------------------------------------------------------------------------------------------------------------------------------------------------------------------------------------------------------------------------------------------------------------------------------------------------------------------------------------------------------------------------------------------------------------------------------------------------------------------------------------------------------------------------------------------------------------------------------------------------------------------------------------------------------------------------------------------------------------------------------------------------------------------------------------------------------------------------------------------------------------------------------------------------------------------------------------------------------------------------------------------------------------------------------------------------------------------------------------------------------------------------------------------------------------------------------------------------------------------------------------------------------------------------------------------------------------------------------------------------------------------------------------------------------------------------------------------------------------------------------------------------------------------------------------------------------------------------------------------------------------------------------------------------------------------------------------------------------------------------------------------------------------------------------------------------------------------------------------------------------------------------------------------------------------------------------------------------------------------------------------------------------------------------------------------------------------------------------------------------------------------------------------------------------------------------------------------------------------------------------------------------------------------------------------------------------------------------------------------------------------------------------------------------------------------------------------------------------------------------------------------------------------------------------------------------------------------------------------------------------------------------------------------------------------------------------------------------------------------------------------------------------------------------------------------------------------------------------------------------------------------------------------------------------------------------------------------------------------------------------------------------------------------------------------------------------------------------------------------------------------------------------------------------------------------------------------------------------------------------------------------------------------------------------------------------------------------------------------------------------------------------------------------------------------------------------------------------------------------------------------------------------------------------------------------------------------------------------------------------------------------------------------------------------------------------------------------------------------------------------------------------------------------------------------------------------------------------------------------------------------------------------------------------------------------------------------------------------------------------------------------------------------------------------------------------------------------------------------------------------------------------------------------------------------------------------------------------------------------------------------------------------------------------------------------------------------------------------------------------------------------------------------------------------------------------------------------------------------------------------------------------------------------------------------------------------------------------------------------------------------------------------------------------------------------------------------------------------------------------------------------------------------------------------------------------------------------------------------------------------------------------------------------------------------------------------------------------------------------------------------------------------------------------------------------------------------------------------------------------------------------------------------------------------------------------------------------------------------------------------------------------------------------------------------------------------------------------------------------------------------------------------------------------------------------------------------------------------------------------------------------------------------------------------------------------------------------------------------------------------------------------------------------------------------------------------------------------------------------------------------------------------------------------------------------------------------------------------------------------------------------------------------------------------------------------------------------------------------------------------------------------------------------------------------------------------------------------------------------------------------------------------------------------------------------------------------------------------------------------------------------------------------------------------------------------------------------------------------------------------------------------------------------------------------------------------------------------------------------------------------------------------------------------------------------------------------------------------------------------------------------------------------------------------------------------------------------------------------------------------------------------------------------------------------------------------------------------------------------------------------------------------------------------------------------------------------------------------------------------------------------------------------------------------------------------------------------------------------------------------------------------------------------------------------------------------------------------------------------------------------------------------------------------------------------------------------------------------------------------------------------------------------------------------------------------------------------------------------------------------------------------------------------------------------------------------------------------------------------------------------------------------------------------------------------------------------------------------------------------------------------------------------------------------------------------------------------------------------------------------------------------------------------------------------------------------------------------------------------------------------------------------------------------------------------------------------------------------------------------------------------------------------------------------------------------------------------------------------------------------------------------------------------------------------------------------------------------------------------------------------------------------------------------------------------------------------------------------------------------------------------------------------------------------------------------------------------------------------------------------------------------------------------------------------------------------------------------------------------------------------------------------------------------------------------------------------------------------------------------------------------------------------------------------------------------------------------------------------------------------------------------------------------------------------------------------------------------------------------------------------------------------------------------------------------------------------------------------------------------------------------------------------------------------------------------------------------------------------------------------------------------------------------------------------------------------------------------------------------------------------------------------------------------------------------------------------------------------------------------------------------------------------------------------------------------------------------------------------------------------------------------------------------------------------------------------------------------------------------------------------------------------------------------------------------------------------------------------------------------------------------------------------------------------------------------------------------------------------------------------------------------------------------------------------------------------------------------------------------------------------------------------------------------------------------------------------------------------------------------------------------------------------------------------------------------------------------------------------------------------------------------------------------------------------------------------------------------------------------------------------------------------------------------------------------------------------------------------------------------------------------------------------------------------------------------------------------------------------------------------------------------------------------------------------------------------------------------------------------------------------------------------------------------------------------------------------------------------------------------------------------------------------------------------------------------------------------------------------------------------------------------------------------------------------------------------------------------------------------------------------------------------------------------------------------------------------------------------------------------------------------------------------------------------------------------------------------------------------------------------------------------------------------------------------------------------------------------------------------------------------------------------------------------------------------------------------------------------------------------------------------------------------------------------------------------------------------------------------------------------------------------------------------------------------------------------------------------------------------------------------------------------------------------------------------------------------------------------------------------------------------------------------------------------------------------------------------------------------------------------------------------------------------------------------------------------------------------------------------------------------------------------------------------------------------------------------------------------------------------------------------------------------------------------------------------------------------------------------------------------------------------------------------------------------------------------------------------------------------------------------------------------------------------------------------------------------------------------------------------------------------------------------------------------------------------------------------------------------------------------------------------------------------------------------------------------------------------------------------------------------------------------------------------------------------------------------------------------------------------------------------------------------------------------------------------------------------------------------------------------------------------------------------------------------------------------------------------------------------------------------------------------------------------------------------------------------------------------------------------------------------------------------------------------------------------------------------------------------------------------------------------------------------------------------------------------------------------------------------------------------------------------------------------------------------------------------------------------------------------------------------------------------------------------------------------------------------------------------------------------------------------------------------------------------------------------------------------------------------------------------------------------------------------------------------------------------------------------------------------------------------------------------------------------------------------------------------------------------------------------------------------------------------------------------------------------------------------------------------------------------------------------------------------------------------------------------------------------------------------------------------------------------------------------------------------------------------------------------------------------------------------------------------------------------------------------------------------------------------------------------------------------------------------------------------------------------------------------------------------------------------------------------------------------------------------------------------------------------------------------------------------------------------------------------------------------------------------------------------------------------------------------------------------------------------------------------------------------------------------------------------------------------------------------------------------------------------------------------------------------------------------------------------------------------------------------------------------------------------------------------------------------------------------------------------------------------------------------------------------------------------------------------------------------------------------------------------------------------------------------------------------------------------------------------------------------------------------------------------------------------------------------------------------------------------------------------------------------------------------------------------------------------------------------------------------------------------------------------------------------------------------------------------------------------------------------------------------------------------------------------------------------------------------------------------------------------------------------------------------------------------------------------------------------------------------------------------------------------------------------------------------------------------------------------------------------------------------------------------------------------------------------------------------------------------------------------------------------------------------------------------------------------------------------------------------------------------------------------------------------------------------------------------------------------------------------------------------------------------------------------------------------------------------------------------------------------------------------------------------------------------------------------------------------------------------------------------------------------------------------------------------------------------------------------------------------------------------------------------------------------------------------------------------------------------------------------------------------------------------------------------------------------------------------------------------------------------------------------------------------------------------------------------------------------------------------------------------------------------------------------------------------------------------------------------------------------------------------------------------------------------------------------------------------------------------------------------------------------------------------------------------------------------------------------------------------------------------------------------------------------------------------------------------------------------------------------------------------------------------------------------------------------------------------------------------------------------------------------------------------------------------------------------------------------------------------------------------------------------------------------------------------------------------------------------------------------------------------------------------------------------------------------------------------------------------------------------------------------------------------------------------------------------------------------------------------------------------------------------------------------------------------------------------------------------------------------------------------------------------------------------------------------------------------------------------------------------------------------------------------------------------------------------------------------------------------------------------------------------------------------------------------------------------------------------------------------------------------------------------------------------------------------------------------------------------------------------------------------------------------------------------------------------------------------------------------------------------------------------------------------------------------------------------------------------------------------------------------------------------------------------------------------------------------------------------------------------------------------------------------------------------------------------------------------------------------------------------------------------------------------------------------------------------------------------------------------------------------------------------------------------------------------------------------------------------------------------------------------------------------------------------------------------------------------------------------------------------------------------------------------------------------------------------------------------------------------------------------------------------------------------------------------------------------------------------------------------------------------------------------------------------------------------------------------------------------------------------------------------------------------------------------------------------------------------------------------------------------------------------------------------------------------------------------------------------------------------------------------------------------------------------------------------------------------------------------------------------------------------------------------------------------------------------------------------------------------------------------------------------------------------------------------------------------------------------------------------------------------------------------------------------------------------------------------------------------------------------------------------------------------------------------------------------------------------------------------------------------------------------------------------------------------------------------------------------------------------------------------------------------------------------------------------------------------------------------------------------------------------------------------------------------------------------------------------------------------------------------------------------------------------------------------------------------------------------------------------------------------------------------------------------------------------------------------------------------------------------------------------------------------------------------------------------------------------------------------------------------------------------------------------------------------------------------------------------------------------------------------------------------------------------------------------------------------------------------------------------------------------------------------------------------------------------------------------------------------------------------------------------------------------------------------------------------------------------------------------------------------------------------------------------------------------------------------------------------------------------------------------------------------------------------------------------------------------------------------------------------------------------------------------------------------------------------------------------------------------------------------------------------------------------------------------------------------------------------------------------------------------------------------------------------------------------------------------------------------------------------------------------------------------------------------------------------------------------------------------------------------------------------------------------------------------------------------------------------------------------------------------------------------------------------------------------------------------------------------------------------------------------------------------------------------------------------------------------------------------------------------------------------------------------------------------------------------------------------------------------------------------------------------------------------------------------------------------------------------------------------------------------------------------------------------------------------------------------------------------------------------------------------------------------------------------------------------------------------------------------------------------------------------------------------------------------------------------------------------------------------------------------------------------------------------------------------------------------------------------------------------------------------------------------------------------------------------------------------------------------------------------------------------------------------------------------------------------------------------------------------------------------------------------------------------------------------------------------------------------------------------------------------------------------------------------------------------------------------------------------------------------------------------------------------------------------------------------------------------------------------------------------------------------------------------------------------------------------------------------------------------------------------------------------------------------------------------------------------------------------------------------------------------------------------------------------------------------------------------------------------------------------------------------------------------------------------------------------------------------------------------------------------------------------------------------------------------------------------------------------------------------------------------------------------------------------------------------------------------------------------------------------------------------------------------------------------------------------------------------------------------------------------------------------------------------------------------------------------------------------------------------------------------------------------------------------------------------------------------------------------------------------------------------------------------------------------------------------------------------------------------------------------------------------------------------------------------------------------------------------------------------------------------------------------------------------------------------------------------------------------------------------------------------------------------------------------------------------------------------------------------------------------------------------------------------------------------------------------------------------------------------------------------------------------------------------------------------------------------------------------------------------------------------------------------------------------------------------------------------------------------------------------------------------------------------------------------------------------------------------------------------------------------------------------------------------------------------------------------------------------------------------------------------------------------------------------------------------------------------------------------------------------------------------------------------------------------------------------------------------------------------------------------------------------------------------------------------------------------------------------------------------------------------------------------------------------------------------------------------------------------------------------------------------------------------------------------------------------------------------------------------------------------------------------------------------------------------------------------------------------------------------------------------------------------------------------------------------------------------------------------------------------------------------------------------------------------------------------------------------------------------------------------------------------------------------------------------------------------------------------------------------------------------------------------------------------------------------------------------------------------------------------------------------------------------------------------------------------------------------------------------------------------------------------------------------------------------------------------------------------------------------------------------------------------------------------------------------------------------------------------------------------------------------------------------------------------------------------------------------------------------------------------------------------------------------------------------------------------------------------------------------------------------------------------------------------------------------------------------------------------------------------------------------------------------------------------------------------------------------------------------------------------------------------------------------------------------------------------------------------------------------------------------------------------------------------------------------------------------------------------------------------------------------------------------------------------------------------------------------------------------------------------------------------------------------------------------------------------------------------------------------------------------------------------------------------------------------------------------------------------------------------------------------------------------------------------------------------------------------------------------------------------------------------------------------------------------------------------------------------------------------------------------------------------------------------------------------------------------------------------------------------------------------------------------------------------------------------------------------------------------------------------------------------------------------------------------------------------------------------------------------------------------------------------------------------------------------------------------------------------------------------------------------------------------------------------------------------------------------------------------------------------------------------------------------------------------------------------------------------------------------------------------------------------------------------------------------------------------------------------------------------------------------------------------------------------------------------------------------------------------------------------------------------------------------------------------------------------------------------------------------------------------------------------------------------------------------------------------------------------------------------------------------------------------------------------------------------------------------------------------------------------------------------------------------------------------------------------------------------------------------------------------------------------------------------------------------------------------------------------------------------------------------------------------------------------------------------------------------------------------------------------------------------------------------------------------------------------------------------------------------------------------------------------------------------------------------------------------------------------------------------------------------------------------------------------------------------------------------------------------------------------------------------------------------------------------------------------------------------------------------------------------------------------------------------------------------------------------------------------------------------------------------------------------------------------------------------------------------------------------------------------------------------------------------------------------------------------------------------------------------------------------------------------------------------------------------------------------------------------------------------------------------------------------------------------------------------------------------------------------------------------------------------------------------------------------------------------------------------------------------------------------------------------------------------------------------------------------------------------------------------------------------------------------------------------------------------------------------------------------------------------------------------------------------------------------------------------------------------------------------------------------------------------------------------------------------------------------------------------------------------------------------------------------------------------------------------------------------------------------------------------------------------------------------------------------------------------------------------------------------------------------------------------------------------------------------------------------------------------------------------------------------------------------------------------------------------------------------------------------------------------------------------------------------------------------------------------------------------------------------------------------------------------------------------------------------------------------------------------------------------------------------------------------------------------------------------------------------------------------------------------------------------------------------------------------------------------------------------------------------------------------------------------------------------------------------------------------------------------------------------------------------------------------------------------------------------------------------------------------------------------------------------------------------------------------------------------------------------------------------------------------------------------------------------------------------------------------------------------------------------------------------------------------------------------------------------------------------------------------------------------------------------------------------------------------------------------------------------------------------------------------------------------------------------------------------------------------------------------------------------------------------------------------------------------------------------------------------------------------------------------------------------------------------------------------------------------------------------------------------------------------------------------------------------------------------------------------------------------------------------------------------------------------------------------------------------------------------------------------------------------------------------------------------------------------------------------------------------------------------------------------------------------------------------------------------------------------------------------------------------------------------------------------------------------------------------------------------------------------------------------------------------------------------------------------------------------------------------------------------------------------------------------------------------------------------------------------------------------------------------------------------------------------------------------------------------------------------------------------------------------------------------------------------------------------------------------------------------------------------------------------------------------------------------------------------------------------------------------------------------------------------------------------------------------------------------------------------------------------------------------------------------------------------------------------------------------------------------------------------------------------------------------------------------------------------------------------------------------------------------------------------------------------------------------------------------------------------------------------------------------------------------------------------------------------------------------------------------------------------------------------------------------------------------------------------------------------------------------------------------------------------------------------------------------------------------------------------------------------------------------------------------------------------------------------------------------------------------------------------------------------------------------------------------------------------------------------------------------------------------------------------------------------------------------------------------------------------------------------------------------------------------------------------------------------------------------------------------------------------------------------------------------------------------------------------------------------------------------------------------------------------------------------------------------------------------------------------------------------------------------------------------------------------------------------------------------------------------------------------------------------------------------------------------------------------------------------------------------------------------------------------------------------------------------------------------------------------------------------------------------------------------------------------------------------------------------------------------------------------------------------------------------------------------------------------------------------------------------------------------------------------------------------------------------------------------------------------------------------------------------------------------------------------------------------------------------------------------------------------------------------------------------------------------------------------------------------------------------------------------------------------------------------------------------------------------------------------------------------------------------------------------------------------------------------------------------------------------------------------------------------------------------------------------------------------------------------------------------------------------------------------------------------------------------------------------------------------------------------------------------------------------------------------------------------------------------------------------------------------------------------------------------------------------------------------------------------------------------------------------------------------------------------------------------------------------------------------------------------------------------------------------------------------------------------------------------------------------------------------------------------------------------------------------------------------------------------------------------------------------------------------------------------------------------------------------------------------------------------------------------------------------------------------------------------------------------------------------------------------------------------------------------------------------------------------------------------------------------------------------------------------------------------------------------------------------------------------------------------------------------------------------------------------------------------------------------------------------------------------------------------------------------------------------------------------------------------------------------------------------------------------------------------------------------------------------------------------------------------------------------------------------------------------------------------------------------------------------------------------------------------------------------------------------------------------------------------------------------------------------------------------------------------------------------------------------------------------------------------------------------------------------------------------------------------------------------------------------------------------------------------------------------------------------------------------------------------------------------------------------------------------------------------------------------------------------------------------------------------------------------------------------------------------------------------------------------------------------------------------------------------------------------------------------------------------------------------------------------------------------------------------------------------------------------------------------------------------------------------------------------------------------------------------------------------------------------------------------------------------------------------------------------------------------------------------------------------------------------------------------------------------------------------------------------------------------------------------------------------------------------------------------------------------------------------------------------------------------------------------------------------------------------------------------------------------------------------------------------------------------------------------------------------------------------------------------------------------------------------------------------------------------------------------------------------------------------------------------------------------------------------------------------------------------------------------------------------------------------------------------------------------------------------------------------------------------------------------------------------------------------------------------------------------------------------------------------------------------------------------------------------------------------------------------------------------------------------------------------------------------------------------------------------------------------------------------------------------------------------------------------------------------------------------------------------------------------------------------------------------------------------------------------------------------------------------------------------------------------------------------------------------------------------------------------------------------------------------------------------------------------------------------------------------------------------------------------------------------------------------------------------------------------------------------------------------------------------------------------------------------------------------------------------------------------------------------------------------------------------------------------------------------------------------------------------------------------------------------------------------------------------------------------------------------------------------------------------------------------------------------------------------------------------------------------------------------------------------------------------------------------------------------------------------------------------------------------------------------------------------------------------------------------------------------------------------------------------------------------------------------------------------------------------------------------------------------------------------------------------------------------------------------------------------------------------------------------------------------------------------------------------------------------------------------------------------------------------------------------------------------------------------------------------------------------------------------------------------------------------------------------------------------------------------------------------------------------------------------------------------------------------------------------------------------------------------------------------------------------------------------------------------------------------------------------------------------------------------------------------------------------------------------------------------------------------------------------------------------------------------------------------------------------------------------------------------------------------------------------------------------------------------------------------------------------------------------------------------------------------------------------------------------------------------------------------------------------------------------------------------------------------------------------------------------------------------------------------------------------------------------------------------------------------------------------------------------------------------------------------------------------------------------------------------------------------------------------------------------------------------------------------------------------------------------------------------------------------------------------------------------------------------------------------------------------------------------------------------------------------------------------------------------------------------------------------------------------------------------------------------------------------------------------------------------------------------------------------------------------------------------------------------------------------------------------------------------------------------------------------------------------------------------------------------------------------------------------------------------------------------------------------------------------------------------------------------------------------------------------------------------------------------------------------------------------------------------------------------------------------------------------------------------------------------------------------------------------------------------------------------------------------------------------------------------------------------------------------------------------------------------------------------------------------------------------------------------------------------------------------------------------------------------------------------------------------------------------------------------------------------------------------------------------------------------------------------------------------------------------------------------------------------------------------------------------------------------------------------------------------------------------------------------------------------------------------------------------------------------------------------------------------------------------------------------------------------------------------------------------------------------------------------------------------------------------------------------------------------------------------------------------------------------------------------------------------------------------------------------------------------------------------------------------------------------------------------------------------------------------------------------------------------------------------------------------------------------------------------------------------------------------------------------------------------------------------------------------------------------------------------------------------------------------------------------------------------------------------------------------------------------------------------------------------------------------------------------------------------------------------------------------------------------------------------------------------------------------------------------------------------------------------------------------------------------------------------------------------------------------------------------------------------------------------------------------------------------------------------------------------------------------------------------------------------------------------------------------------------------------------------------------------------------------------------------------------------------------------------------------------------------------------------------------------------------------------------------------------------------------------------------------------------------------------------------------------------------------------------------------------------------------------------------------------------------------------------------------------------------------------------------------------------------------------------------------------------------------------------------------------------------------------------------------------------------------------------------------------------------------------------------------------------------------------------------------------------------------------------------------------------------------------------------------------------------------------------------------------------------------------------------------------------------------------------------------------------------------------------------------------------------------------------------------------------------------------------------------------------------------------------------------------------------------------------------------------------------------------------------------------------------------------------------------------------------------------------------------------------------------------------------------------------------------------------------------------------------------------------------------------------------------------------------------------------------------------------------------------------------------------------------------------------------------------------------------------------------------------------------------------------------------------------------------------------------------------------------------------------------------------------------------------------------------------------------------------------------------------------------------------------------------------------------------------------------------------------------------------------------------------------------------------------------------------------------------------------------------------------------------------------------------------------------------------------------------------------------------------------------------------------------------------------------------------------------------------------------------------------------------------------------------------------------------------------------------------------------------------------------------------------------------------------------------------------------------------------------------------------------------------------------------------------------------------------------------------------------------------------------------------------------------------------------------------------------------------------------------------------------------------------------------------------------------------------------------------------------------------------------------------------------------------------------------------------------------------------------------------------------------------------------------------------------------------------------------------------------------------------------------------------------------------------------------------------------------------------------------------------------------------------------------------------------------------------------------------------------------------------------------------------------------------------------------------------------------------------------------------------------------------------------------------------------------------------------------------------------------------------------------------------------------------------------------------------------------------------------------------------------------------------------------------------------------------------------------------------------------------------------------------------------------------------------------------------------------------------------------------------------------------------------------------------------------------------------------------------------------------------------------------------------------------------------------------------------------------------------------------------------------------------------------------------------------------------------------------------------------------------------------------------------------------------------------------------------------------------------------------------------------------------------------------------------------------------------------------------------------------------------------------------------------------------------------------------------------------------------------------------------------------------------------------------------------------------------------------------------------------------------------------------------------------------------------------------------------------------------------------------------------------------------------------------------------------------------------------------------------------------------------------------------------------------------------------------------------------------------------------------------------------------------------------------------------------------------------------------------------------------------------------------------------------------------------------------------------------------------------------------------------------------------------------------------------------------------------------------------------------------------------------------------------------------------------------------------------------------------------------------------------------------------------------------------------------------------------------------------------------------------------------------------------------------------------------------------------------------------------------------------------------------------------------------------------------------------------------------------------------------------------------------------------------------------------------------------------------------------------------------------------------------------------------------------------------------------------------------------------------------------------------------------------------------------------------------------------------------------------------------------------------------------------------------------------------------------------------------------------------------------------------------------------------------------------------------------------------------------------------------------------------------------------------------------------------------------------------------------------------------------------------------------------------------------------------------------------------------------------------------------------------------------------------------------------------------------------------------------------------------------------------------------------------------------------------------------------------------------------------------------------------------------------------------------------------------------------------------------------------------------------------------------------------------------------------------------------------------------------------------------------------------------------------------------------------------------------------------------------------------------------------------------------------------------------------------------------------------------------------------------------------------------------------------------------------------------------------------------------------------------------------------------------------------------------------------------------------------------------------------------------------------------------------------------------------------------------------------------------------------------------------------------------------------------------------------------------------------------------------------------------------------------------------------------------------+\n",
            "|[Energia biogas, Energia biogas, Energia biogas, Energia biogas, Energia biogas, Energia biogas, Energia biogas, Energia biogas, Energia biogas, Energia biogas, Energia biogas, Energia biogas, Energia biogas, Energia biogas, Energia biogas, Energia biogas, Energia biogas, Energia biogas, Energia biogas, Energia biogas, Energia biogas, Energia biogas, Energia biogas, Energia biogas, Energia biogas, Energia biogas, Energia biogas, Energia biogas, Energia biogas, Energia biogas, Energia biogas, Energia biogas, Energia biogas, Energia biogas, Energia biogas, Energia biogas, Energia biogas, Energia biogas, Energia biogas, Energia biogas, Energia biogas, Energia biogas, Energia biogas, Energia biogas, Energia biogas, Energia biogas, Energia biogas, Energia biogas, Energia biogas, Energia biogas, Energia biogas, Energia biogas, Energia biogas, Energia biogas, Energia biogas, Energia biogas, Energia biogas, Energia biogas, Energia biogas, Energia biogas, Energia biogas, Energia biogas, Energia biogas, Energia biogas, Energia biogas, Energia biogas, Energia biogas, Energia biogas, Energia biogas, Energia biogas, Energia biogas, Energia biogas, Energia biogas, Energia biogas, Energia biogas, Energia biogas, Energia biogas, Energia biogas, Energia biogas, Energia biogas, Energia biogas, Energia biogas, Energia biogas, Energia biogas, Energia biogas, Energia biogas, Energia biogas, Energia biogas, Energia biogas, Energia biogas, Energia biogas, Energia biogas, Energia biogas, Energia biogas, Energia biogas, Energia biogas, Energia biogas, Energia biogas, Energia biogas, Energia biogas, Energia biogas, Energia biogas, Energia biogas, Energia biogas, Energia biogas, Energia biogas, Energia biogas, Energia biogas, Energia biogas, Energia biogas, Energia biogas, Energia biogas, Energia biogas, Energia biogas, Energia biogas, Energia biogas, Energia biogas, Energia biogas, Energia biogas, Energia biogas, Energia biogas, Energia biogas, Energia biogas, Energia biogas, Energia biogas, Energia biogas, Energia biogas, Energia biogas, Energia biogas, Energia biogas, Energia biogas, Energia biogas, Energia biogas, Energia biogas, Energia biogas, Energia biogas, Energia biogas, Energia biogas, Energia biogas, Energia biogas, Energia biogas, Energia biogas, Energia biogas, Energia biogas, Energia biogas, Energia biogas, Energia biogas, Energia biogas, Energia biogas, Energia biogas, Energia biogas, Energia biogas, Energia biogas, Energia biogas, Energia biogas, Energia biogas, Energia biogas, Energia biogas, Energia biogas, Energia biogas, Energia biogas, Energia biogas, Energia biogas, Energia biogas, Energia biogas, Energia biogas, Energia biogas, Energia biogas, Energia biogas, Energia biogas, Energia biogas, Energia biogas, Energia biogas, Energia biogas, Energia biogas, Energia biogas, Energia biogas, Energia biogas, Energia biogas, Energia biogas, Energia biogas, Energia biogas, Energia biogas, Energia biogas, Energia biogas, Energia biogas, Energia biogas, Energia biogas, Energia biogas, Energia biogas, Energia biogas, Energia biogas, Energia biogas, Energia biogas, Energia biogas, Energia biogas, Energia biogas, Energia biogas, Energia biogas, Energia biogas, Energia biogas, Energia biogas, Energia biogas, Energia biogas, Energia biogas, Energia biogas, Energia biogas, Energia biogas, Energia biogas, Energia biogas, Energia biogas, Energia biogas, Energia biogas, Energia biogas, Energia biogas, Energia biogas, Energia biogas, Energia biogas, Energia biogas, Energia biogas, Energia biogas, Energia biogas, Energia biogas, Energia biogas, Energia biogas, Energia biogas, Energia biogas, Energia biogas, Energia biogas, Energia biogas, Energia biogas, Energia biogas, Energia biogas, Energia biogas, Energia biogas, Energia biogas, Energia biogas, Energia biogas, Energia biogas, Energia biogas, Energia biogas, Energia biogas, Energia biogas, Energia biogas, Energia biogas, Energia biogas, Energia biogas, Energia biogas, Energia biogas, Energia biogas, Energia biogas, Energia biogas, Energia biogas, Energia biogas, Energia biogas, Energia biogas, Energia biogas, Energia biogas, Energia biogas, Energia biogas, Energia biogas, Energia biogas, Energia biogas, Energia biogas, Energia biogas, Energia biogas, Energia biogas, Energia biogas, Energia biogas, Energia biogas, Energia biogas, Energia biogas, Energia biogas, Energia biogas, Energia biogas, Energia biogas, Energia biogas, Energia biogas, Energia biogas, Energia biogas, Energia biogas, Energia biogas, Energia biogas, Energia biogas, Energia biogas, Energia biogas, Energia biogas, Energia biogas, Energia biogas, Energia biogas, Energia biogas, Energia biogas, Energia biogas, Energia biogas, Energia biogas, Energia biogas, Energia biogas, Energia biogas, Energia biogas, Energia biogas, Energia biogas, Energia biogas, Energia biogas, Energia biogas, Energia biogas, Energia biogas, Energia biogas, Energia biogas, Energia biogas, Energia biogas, Energia biogas, Energia biogas, Energia biogas, Energia biogas, Energia biogas, Energia biogas, Energia biogas, Energia biogas, Energia biogas, Energia biogas, Energia biogas, Energia biogas, Energia biogas, Energia biogas, Energia biogas, Energia biogas, Energia biogas, Energia biogas, Energia biogas, Energia biogas, Energia biogas, Energia biogas, Energia biogas, Energia biogas, Energia biogas, Energia biogas, Energia biogas, Energia biogas, Energia biogas, Energia biogas, Energia biogas, Energia biogas, Energia biogas, Energia biogas, Energia biogas, Energia biogas, Energia biogas, Energia biogas, Energia biogas, Energia biogas, Energia biogas, Energia biogas, Energia biogas, Energia biogas, Energia biogas, Energia biogas, Energia biogas, Energia biogas, Energia biogas, Energia biogas, Energia biogas, Energia biogas, Energia biogas, Energia biogas, Energia biogas, Energia biogas, Energia biogas, Energia biogas, Energia biogas, Energia biogas, Energia biogas, Energia biogas, Energia biogas, Energia biogas, Energia biogas, Energia biogas, Energia biogas, Energia biogas, Energia biogas, Energia biogas, Energia biogas, Energia biogas, Energia biogas, Energia biogas, Energia biogas, Energia biogas, Energia biogas, Energia biogas, Energia biogas, Energia biogas, Energia biogas, Energia biogas, Energia biogas, Energia biogas, Energia biogas, Energia biogas, Energia biogas, Energia biogas, Energia biogas, Energia biogas, Energia biogas, Energia biogas, Energia biogas, Energia biogas, Energia biogas, Energia biogas, Energia biogas, Energia biogas, Energia biogas, Energia biogas, Energia biogas, Energia biogas, Energia biogas, Energia biogas, Energia biogas, Energia biogas, Energia biogas, Energia biogas, Energia biogas, Energia biogas, Energia biogas, Energia biogas, Energia biogas, Energia biogas, Energia biogas, Energia biogas, Energia biogas, Energia biogas, Energia biogas, Energia biogas, Energia biogas, Energia biogas, Energia biogas, Energia biogas, Energia biogas, Energia biogas, Energia biogas, Energia biogas, Energia biogas, Energia biogas, Energia biogas, Energia biogas, Energia biogas, Energia biogas, Energia biogas, Energia biogas, Energia biogas, Energia biogas, Energia biogas, Energia biogas, Energia biogas, Energia biogas, Energia biogas, Energia biogas, Energia biogas, Energia biogas, Energia biogas, Energia biogas, Energia biogas, Energia biogas, Energia biogas, Energia biogas, Energia biogas, Energia biogas, Energia biogas, Energia biogas, Energia biogas, Energia biogas, Energia biogas, Energia biogas, Energia biogas, Energia biogas, Energia biogas, Energia biogas, Energia biogas, Energia biogas, Energia biogas, Energia biogas, Energia biogas, Energia biogas, Energia biogas, Energia biogas, Energia biogas, Energia biogas, Energia biogas, Energia biogas, Energia biogas, Energia biogas, Energia biogas, Energia biogas, Energia biogas, Energia biogas, Energia biogas, Energia biogas, Energia biogas, Energia biogas, Energia biogas, Energia biogas, Energia biogas, Energia biogas, Energia biogas, Energia biogas, Energia biogas, Energia biogas, Energia biogas, Energia biogas, Energia biogas, Energia biogas, Energia biogas, Energia biogas, Energia biogas, Energia biogas, Energia biogas, Energia biogas, Energia biogas, Energia biogas, Energia biogas, Energia biogas, Energia biogas, Energia biogas, Energia biogas, Energia biogas, Energia biogas, Energia biogas, Energia biogas, Energia biogas, Energia biogas, Energia biogas, Energia biogas, Energia biogas, Energia biogas, Energia biogas, Energia biogas, Energia biogas, Energia biogas, Energia biogas, Energia biogas, Energia biogas, Energia biogas, Energia biogas, Energia biogas, Energia biogas, Energia biogas, Energia biogas, Energia biogas, Energia biogas, Energia biogas, Energia biogas, Energia biogas, Energia biogas, Energia biogas, Energia biogas, Energia biomasa, Energia biomasa, Energia biomasa, Energia biomasa, Energia biomasa, Energia biomasa, Energia biomasa, Energia biomasa, Energia biomasa, Energia biomasa, Energia biomasa, Energia biomasa, Energia biomasa, Energia biomasa, Energia biomasa, Energia biomasa, Energia biomasa, Energia biomasa, Energia biomasa, Energia biomasa, Energia biomasa, Energia biomasa, Energia biomasa, Energia biomasa, Energia biomasa, Energia biomasa, Energia biomasa, Energia biomasa, Energia biomasa, Energia biomasa, Energia biomasa, Energia biomasa, Energia biomasa, Energia biomasa, Energia biomasa, Energia biomasa, Energia biomasa, Energia biomasa, Energia biomasa, Energia biomasa, Energia biomasa, Energia biomasa, Energia biomasa, Energia biomasa, Energia biomasa, Energia biomasa, Energia biomasa, Energia biomasa, Energia biomasa, Energia biomasa, Energia biomasa, Energia biomasa, Energia biomasa, Energia biomasa, Energia biomasa, Energia biomasa, Energia biomasa, Energia biomasa, Energia biomasa, Energia biomasa, Energia biomasa, Energia biomasa, Energia biomasa, Energia biomasa, Energia biomasa, Energia biomasa, Energia biomasa, Energia biomasa, Energia biomasa, Energia biomasa, Energia biomasa, Energia biomasa, Energia biomasa, Energia biomasa, Energia biomasa, Energia biomasa, Energia biomasa, Energia biomasa, Energia biomasa, Energia biomasa, Energia biomasa, Energia biomasa, Energia biomasa, Energia biomasa, Energia biomasa, Energia biomasa, Energia biomasa, Energia biomasa, Energia biomasa, Energia biomasa, Energia biomasa, Energia biomasa, Energia biomasa, Energia biomasa, Energia biomasa, Energia biomasa, Energia biomasa, Energia biomasa, Energia biomasa, Energia biomasa, Energia biomasa, Energia biomasa, Energia biomasa, Energia biomasa, Energia biomasa, Energia biomasa, Energia biomasa, Energia biomasa, Energia biomasa, Energia biomasa, Energia biomasa, Energia biomasa, Energia biomasa, Energia biomasa, Energia biomasa, Energia biomasa, Energia biomasa, Energia biomasa, Energia biomasa, Energia biomasa, Energia biomasa, Energia biomasa, Energia biomasa, Energia biomasa, Energia biomasa, Energia biomasa, Energia biomasa, Energia biomasa, Energia biomasa, Energia biomasa, Energia biomasa, Energia biomasa, Energia biomasa, Energia biomasa, Energia biomasa, Energia biomasa, Energia biomasa, Energia biomasa, Energia biomasa, Energia biomasa, Energia biomasa, Energia biomasa, Energia biomasa, Energia biomasa, Energia biomasa, Energia biomasa, Energia biomasa, Energia biomasa, Energia biomasa, Energia biomasa, Energia biomasa, Energia biomasa, Energia biomasa, Energia biomasa, Energia biomasa, Energia biomasa, Energia biomasa, Energia biomasa, Energia biomasa, Energia biomasa, Energia biomasa, Energia biomasa, Energia biomasa, Energia biomasa, Energia biomasa, Energia biomasa, Energia biomasa, Energia biomasa, Energia biomasa, Energia biomasa, Energia biomasa, Energia biomasa, Energia biomasa, Energia biomasa, Energia biomasa, Energia biomasa, Energia biomasa, Energia biomasa, Energia biomasa, Energia biomasa, Energia biomasa, Energia biomasa, Energia biomasa, Energia biomasa, Energia biomasa, Energia biomasa, Energia biomasa, Energia biomasa, Energia biomasa, Energia biomasa, Energia biomasa, Energia biomasa, Energia biomasa, Energia biomasa, Energia biomasa, Energia biomasa, Energia biomasa, Energia biomasa, Energia biomasa, Energia biomasa, Energia biomasa, Energia biomasa, Energia biomasa, Energia biomasa, Energia biomasa, Energia biomasa, Energia biomasa, Energia biomasa, Energia biomasa, Energia biomasa, Energia biomasa, Energia biomasa, Energia biomasa, Energia biomasa, Energia biomasa, Energia biomasa, Energia biomasa, Energia biomasa, Energia biomasa, Energia biomasa, Energia biomasa, Energia biomasa, Energia biomasa, Energia biomasa, Energia biomasa, Energia biomasa, Energia biomasa, Energia biomasa, Energia biomasa, Energia biomasa, Energia biomasa, Energia biomasa, Energia biomasa, Energia biomasa, Energia biomasa, Energia biomasa, Energia biomasa, Energia biomasa, Energia biomasa, Energia biomasa, Energia biomasa, Energia biomasa, Energia biomasa, Energia biomasa, Energia biomasa, Energia biomasa, Energia biomasa, Energia biomasa, Energia biomasa, Energia biomasa, Energia biomasa, Energia biomasa, Energia biomasa, Energia biomasa, Energia biomasa, Energia biomasa, Energia biomasa, Energia biomasa, Energia biomasa, Energia biomasa, Energia biomasa, Energia biomasa, Energia biomasa, Energia biomasa, Energia biomasa, Energia biomasa, Energia biomasa, Energia biomasa, Energia biomasa, Energia biomasa, Energia biomasa, Energia biomasa, Energia biomasa, Energia biomasa, Energia biomasa, Energia biomasa, Energia biomasa, Energia biomasa, Energia biomasa, Energia biomasa, Energia biomasa, Energia biomasa, Energia biomasa, Energia biomasa, Energia biomasa, Energia biomasa, Energia biomasa, Energia biomasa, Energia biomasa, Energia biomasa, Energia biomasa, Energia biomasa, Energia biomasa, Energia biomasa, Energia biomasa, Energia biomasa, Energia biomasa, Energia biomasa, Energia biomasa, Energia biomasa, Energia biomasa, Energia biomasa, Energia biomasa, Energia biomasa, Energia biomasa, Energia biomasa, Energia biomasa, Energia biomasa, Energia biomasa, Energia biomasa, Energia biomasa, Energia biomasa, Energia biomasa, Energia biomasa, Energia biomasa, Energia biomasa, Energia biomasa, Energia biomasa, Energia biomasa, Energia biomasa, Energia biomasa, Energia biomasa, Energia biomasa, Energia biomasa, Energia biomasa, Energia biomasa, Energia biomasa, Energia biomasa, Energia biomasa, Energia biomasa, Energia biomasa, Energia biomasa, Energia biomasa, Energia biomasa, Energia biomasa, Energia biomasa, Energia biomasa, Energia biomasa, Energia biomasa, Energia biomasa, Energia biomasa, Energia biomasa, Energia biomasa, Energia biomasa, Energia biomasa, Energia biomasa, Energia biomasa, Energia biomasa, Energia biomasa, Energia biomasa, Energia biomasa, Energia biomasa, Energia biomasa, Energia biomasa, Energia biomasa, Energia biomasa, Energia biomasa, Energia biomasa, Energia biomasa, Energia biomasa, Energia biomasa, Energia biomasa, Energia biomasa, Energia biomasa, Energia biomasa, Energia biomasa, Energia biomasa, Energia biomasa, Energia biomasa, Energia biomasa, Energia biomasa, Energia biomasa, Energia biomasa, Energia biomasa, Energia biomasa, Energia biomasa, Energia biomasa, Energia biomasa, Energia biomasa, Energia biomasa, Energia biomasa, Energia biomasa, Energia biomasa, Energia biomasa, Energia biomasa, Energia biomasa, Energia biomasa, Energia biomasa, Energia biomasa, Energia biomasa, Energia biomasa, Energia biomasa, Energia biomasa, Energia biomasa, Energia biomasa, Energia biomasa, Energia biomasa, Energia biomasa, Energia biomasa, Energia biomasa, Energia biomasa, Energia biomasa, Energia biomasa, Energia biomasa, Energia biomasa, Energia biomasa, Energia biomasa, Energia biomasa, Energia biomasa, Energia biomasa, Energia biomasa, Energia biomasa, Energia biomasa, Energia biomasa, Energia biomasa, Energia biomasa, Energia biomasa, Energia biomasa, Energia biomasa, Energia biomasa, Energia biomasa, Energia biomasa, Energia biomasa, Energia biomasa, Energia biomasa, Energia biomasa, Energia biomasa, Energia biomasa, Energia biomasa, Energia biomasa, Energia biomasa, Energia biomasa, Energia biomasa, Energia biomasa, Energia biomasa, Energia biomasa, Energia biomasa, Energia biomasa, Energia biomasa, Energia biomasa, Energia biomasa, Energia biomasa, Energia biomasa, Energia biomasa, Energia biomasa, Energia biomasa, Energia biomasa, Energia biomasa, Energia biomasa, Energia biomasa, Energia biomasa, Energia biomasa, Energia biomasa, Energia biomasa, Energia biomasa, Energia biomasa, Energia biomasa, Energia biomasa, Energia biomasa, Energia biomasa, Energia biomasa, Energia biomasa, Energia biomasa, Energia biomasa, Energia biomasa, Energia biomasa, Energia biomasa, Energia biomasa, Energia biomasa, Energia biomasa, Energia biomasa, Energia biomasa, Energia biomasa, Energia biomasa, Energia biomasa, Energia biomasa, Energia biomasa, Energia biomasa, Energia biomasa, Energia biomasa, Energia biomasa, Energia biomasa, Energia biomasa, Energia biomasa, Energia biomasa, Energia biomasa, Energia biomasa, Energia biomasa, Energia biomasa, Energia biomasa, Energia biomasa, Energia biomasa, Energia biomasa, Energia biomasa, Energia biomasa, Energia biomasa, Energia biomasa, Energia biomasa, Energia biomasa, Energia biomasa, Energia biomasa, Energia biomasa, Energia biomasa, Energia biomasa, Energia biomasa, Energia biomasa, Energia biomasa, Energia biomasa, Energia biomasa, Energia biomasa, Energia biomasa, Energia biomasa, Energia biomasa, Energia biomasa, Energia biomasa, Energia biomasa, Energia biomasa, Energia biomasa, Energia biomasa, Energia biomasa, Energia biomasa, Energia biomasa, Energia biomasa, Energia biomasa, Energia biomasa, Energia biomasa, Energia biomasa, Energia biomasa, Energia biomasa, Energia biomasa, Energia biomasa, Energia biomasa, Energia biomasa, Energia biomasa, Energia biomasa, Energia biomasa, Energia biomasa, Energia biomasa, Energia biomasa, Energia biomasa, Energia eolica, Energia eolica, Energia eolica, Energia eolica, Energia eolica, Energia eolica, Energia eolica, Energia eolica, Energia eolica, Energia eolica, Energia eolica, Energia eolica, Energia eolica, Energia eolica, Energia eolica, Energia eolica, Energia eolica, Energia eolica, Energia eolica, Energia eolica, Energia eolica, Energia eolica, Energia eolica, Energia eolica, Energia eolica, Energia eolica, Energia eolica, Energia eolica, Energia eolica, Energia eolica, Energia eolica, Energia eolica, Energia eolica, Energia eolica, Energia eolica, Energia eolica, Energia eolica, Energia eolica, Energia eolica, Energia eolica, Energia eolica, Energia eolica, Energia eolica, Energia eolica, Energia eolica, Energia eolica, Energia eolica, Energia eolica, Energia eolica, Energia eolica, Energia eolica, Energia eolica, Energia eolica, Energia eolica, Energia eolica, Energia eolica, Energia eolica, Energia eolica, Energia eolica, Energia eolica, Energia eolica, Energia eolica, Energia eolica, Energia eolica, Energia eolica, Energia eolica, Energia eolica, Energia eolica, Energia eolica, Energia eolica, Energia eolica, Energia eolica, Energia eolica, Energia eolica, Energia eolica, Energia eolica, Energia eolica, Energia eolica, Energia eolica, Energia eolica, Energia eolica, Energia eolica, Energia eolica, Energia eolica, Energia eolica, Energia eolica, Energia eolica, Energia eolica, Energia eolica, Energia eolica, Energia eolica, Energia eolica, Energia eolica, Energia eolica, Energia eolica, Energia eolica, Energia eolica, Energia eolica, Energia eolica, Energia eolica, Energia eolica, Energia eolica, Energia eolica, Energia eolica, Energia eolica, Energia eolica, Energia eolica, Energia eolica, Energia eolica, Energia eolica, Energia eolica, Energia eolica, Energia eolica, Energia eolica, Energia eolica, Energia eolica, Energia eolica, Energia eolica, Energia eolica, Energia eolica, Energia eolica, Energia eolica, Energia eolica, Energia eolica, Energia eolica, Energia eolica, Energia eolica, Energia eolica, Energia eolica, Energia eolica, Energia eolica, Energia eolica, Energia eolica, Energia eolica, Energia eolica, Energia eolica, Energia eolica, Energia eolica, Energia eolica, Energia eolica, Energia eolica, Energia eolica, Energia eolica, Energia eolica, Energia eolica, Energia eolica, Energia eolica, Energia eolica, Energia eolica, Energia eolica, Energia eolica, Energia eolica, Energia eolica, Energia eolica, Energia eolica, Energia eolica, Energia eolica, Energia eolica, Energia eolica, Energia eolica, Energia eolica, Energia eolica, Energia eolica, Energia eolica, Energia eolica, Energia eolica, Energia eolica, Energia eolica, Energia eolica, Energia eolica, Energia eolica, Energia eolica, Energia eolica, Energia eolica, Energia eolica, Energia eolica, Energia eolica, Energia eolica, Energia eolica, Energia eolica, Energia eolica, Energia eolica, Energia eolica, Energia eolica, Energia eolica, Energia eolica, Energia eolica, Energia eolica, Energia eolica, Energia eolica, Energia eolica, Energia eolica, Energia eolica, Energia eolica, Energia eolica, Energia eolica, Energia eolica, Energia eolica, Energia eolica, Energia eolica, Energia eolica, Energia eolica, Energia eolica, Energia eolica, Energia eolica, Energia eolica, Energia eolica, Energia eolica, Energia eolica, Energia eolica, Energia eolica, Energia eolica, Energia eolica, Energia eolica, Energia eolica, Energia eolica, Energia eolica, Energia eolica, Energia eolica, Energia eolica, Energia eolica, Energia eolica, Energia eolica, Energia eolica, Energia eolica, Energia eolica, Energia eolica, Energia eolica, Energia eolica, Energia eolica, Energia eolica, Energia eolica, Energia eolica, Energia eolica, Energia eolica, Energia eolica, Energia eolica, Energia eolica, Energia eolica, Energia eolica, Energia eolica, Energia eolica, Energia eolica, Energia eolica, Energia eolica, Energia eolica, Energia eolica, Energia eolica, Energia eolica, Energia eolica, Energia eolica, Energia eolica, Energia eolica, Energia eolica, Energia eolica, Energia eolica, Energia eolica, Energia eolica, Energia eolica, Energia eolica, Energia eolica, Energia eolica, Energia eolica, Energia eolica, Energia eolica, Energia eolica, Energia eolica, Energia eolica, Energia eolica, Energia eolica, Energia eolica, Energia eolica, Energia eolica, Energia eolica, Energia eolica, Energia eolica, Energia eolica, Energia eolica, Energia eolica, Energia eolica, Energia eolica, Energia eolica, Energia eolica, Energia eolica, Energia eolica, Energia eolica, Energia eolica, Energia eolica, Energia eolica, Energia eolica, Energia eolica, Energia eolica, Energia eolica, Energia eolica, Energia eolica, Energia eolica, Energia eolica, Energia eolica, Energia eolica, Energia eolica, Energia eolica, Energia eolica, Energia eolica, Energia eolica, Energia eolica, Energia eolica, Energia eolica, Energia eolica, Energia eolica, Energia eolica, Energia eolica, Energia eolica, Energia eolica, Energia eolica, Energia eolica, Energia eolica, Energia eolica, Energia eolica, Energia eolica, Energia eolica, Energia eolica, Energia eolica, Energia eolica, Energia eolica, Energia eolica, Energia eolica, Energia eolica, Energia eolica, Energia eolica, Energia eolica, Energia eolica, Energia eolica, Energia eolica, Energia eolica, Energia eolica, Energia eolica, Energia eolica, Energia eolica, Energia eolica, Energia eolica, Energia eolica, Energia eolica, Energia eolica, Energia eolica, Energia eolica, Energia eolica, Energia eolica, Energia eolica, Energia eolica, Energia eolica, Energia eolica, Energia eolica, Energia eolica, Energia eolica, Energia eolica, Energia eolica, Energia eolica, Energia eolica, Energia eolica, Energia eolica, Energia eolica, Energia eolica, Energia eolica, Energia eolica, Energia eolica, Energia eolica, Energia eolica, Energia eolica, Energia eolica, Energia eolica, Energia eolica, Energia eolica, Energia eolica, Energia eolica, Energia eolica, Energia eolica, Energia eolica, Energia eolica, Energia eolica, Energia eolica, Energia eolica, Energia eolica, Energia eolica, Energia eolica, Energia eolica, Energia eolica, Energia eolica, Energia eolica, Energia eolica, Energia eolica, Energia eolica, Energia eolica, Energia eolica, Energia eolica, Energia eolica, Energia eolica, Energia eolica, Energia eolica, Energia eolica, Energia eolica, Energia eolica, Energia eolica, Energia eolica, Energia eolica, Energia eolica, Energia eolica, Energia eolica, Energia eolica, Energia eolica, Energia eolica, Energia eolica, Energia eolica, Energia eolica, Energia eolica, Energia eolica, Energia eolica, Energia eolica, Energia eolica, Energia eolica, Energia eolica, Energia eolica, Energia eolica, Energia eolica, Energia eolica, Energia eolica, Energia eolica, Energia eolica, Energia eolica, Energia eolica, Energia eolica, Energia eolica, Energia eolica, Energia eolica, Energia eolica, Energia eolica, Energia eolica, Energia eolica, Energia eolica, Energia eolica, Energia eolica, Energia eolica, Energia eolica, Energia eolica, Energia eolica, Energia eolica, Energia eolica, Energia eolica, Energia eolica, Energia eolica, Energia eolica, Energia eolica, Energia eolica, Energia eolica, Energia eolica, Energia eolica, Energia eolica, Energia eolica, Energia eolica, Energia eolica, Energia eolica, Energia eolica, Energia eolica, Energia eolica, Energia eolica, Energia eolica, Energia eolica, Energia eolica, Energia eolica, Energia eolica, Energia eolica, Energia eolica, Energia eolica, Energia eolica, Energia eolica, Energia eolica, Energia eolica, Energia eolica, Energia eolica, Energia eolica, Energia eolica, Energia eolica, Energia eolica, Energia eolica, Energia eolica, Energia eolica, Energia eolica, Energia eolica, Energia eolica, Energia eolica, Energia eolica, Energia eolica, Energia eolica, Energia eolica, Energia eolica, Energia eolica, Energia eolica, Energia eolica, Energia eolica, Energia eolica, Energia eolica, Energia eolica, Energia eolica, Energia eolica, Energia eolica, Energia eolica, Energia eolica, Energia eolica, Energia eolica, Energia eolica, Energia eolica, Energia eolica, Energia eolica, Energia eolica, Energia eolica, Energia eolica, Energia eolica, Energia eolica, Energia eolica, Energia eolica, Energia eolica, Energia eolica, Energia eolica, Energia eolica, Energia eolica, Energia eolica, Energia eolica, Energia eolica, Energia eolica, Energia eolica, Energia eolica, Energia eolica, Energia eolica, Energia eolica, Energia eolica, Energia eolica, Energia eolica, Energia eolica, Energia eolica, Energia eolica, Energia eolica, Energia eolica, Energia eolica, Energia eolica, Energia eolica, Energia eolica, Energia eolica, Energia eolica, Energia eolica, Energia eolica, Energia eolica, Energia eolica, Energia eolica, Energia eolica, Energia eolica, Energia eolica, Energia eolica, Energia eolica, Energia eolica, Energia eolica, Energia eolica, Energia eolica, Energia eolica, Energia eolica, Energia eolica, Energia eolica, Energia eolica, Energia eolica, Energia eolica, Energia eolica, Energia eolica, Energia eolica, Energia eolica, Energia eolica, Energia eolica, Energia eolica, Energia eolica, Energia eolica, Energia eolica, Energia eolica, Energia eolica, Energia eolica, Energia eolica, Energia eolica, Energia eolica, Energia eolica, Energia eolica, Energia eolica, Energia eolica, Energia eolica, Energia eolica, Energia eolica, Energia eolica, Energia eolica, Energia eolica, Energia eolica, Energia eolica, Energia eolica, Energia eolica, Energia eolica, Energia eolica, Energia eolica, Energia eolica, Energia eolica, Energia eolica, Energia eolica, Energia eolica, Energia eolica, Energia eolica, Energia eolica, Energia eolica, Energia eolica, Energia eolica, Energia eolica, Energia eolica, Energia eolica, Energia eolica, Energia eolica, Energia eolica, Energia eolica, Energia eolica, Energia eolica, Energia eolica, Energia eolica, Energia eolica, Energia eolica, Energia eolica, Energia eolica, Energia eolica, Energia eolica, Energia eolica, Energia eolica, Energia eolica, Energia eolica, Energia eolica, Energia eolica, Energia eolica, Energia eolica, Energia eolica, Energia eolica, Energia eolica, Energia eolica, Energia eolica, Energia eolica, Energia eolica, Energia eolica, Energia eolica, Energia eolica, Energia eolica, Energia eolica, Energia eolica, Energia eolica, Energia eolica, Energia eolica, Energia eolica, Energia eolica, Energia eolica, Energia eolica, Energia eolica, Energia eolica, Energia eolica, Energia eolica, Energia eolica, Energia eolica, Energia eolica, Energia eolica, Energia eolica, Energia eolica, Energia eolica, Energia eolica, Energia eolica, Energia eolica, Energia eolica, Energia eolica, Energia eolica, Energia eolica, Energia eolica, Energia eolica, Energia eolica, Energia eolica, Energia eolica, Energia eolica, Energia eolica, Energia eolica, Energia eolica, Energia eolica, Energia eolica, Energia eolica, Energia eolica, Energia eolica, Energia eolica, Energia eolica, Energia eolica, Energia eolica, Energia eolica, Energia eolica, Energia eolica, Energia eolica, Energia eolica, Energia eolica, Energia eolica, Energia eolica, Energia eolica, Energia eolica, Energia eolica, Energia eolica, Energia eolica, Energia eolica, Energia eolica, Energia eolica, Energia eolica, Energia eolica, Energia eolica, Energia eolica, Energia eolica, Energia eolica, Energia eolica, Energia eolica, Energia eolica, Energia eolica, Energia eolica, Energia eolica, Energia eolica, Energia eolica, Energia eolica, Energia eolica, Energia eolica, Energia eolica, Energia eolica, Energia eolica, Energia eolica, Energia eolica, Energia eolica, Energia eolica, Energia eolica, Energia eolica, Energia eolica, Energia eolica, Energia eolica, Energia eolica, Energia eolica, Energia eolica, Energia eolica, Energia eolica, Energia eolica, Energia eolica, Energia eolica, Energia eolica, Energia eolica, Energia eolica, Energia eolica, Energia eolica, Energia eolica, Energia eolica, Energia eolica, Energia eolica, Energia eolica, Energia eolica, Energia eolica, Energia eolica, Energia eolica, Energia eolica, Energia eolica, Energia eolica, Energia eolica, Energia eolica, Energia eolica, Energia eolica, Energia eolica, Energia eolica, Energia eolica, Energia eolica, Energia eolica, Energia eolica, Energia eolica, Energia eolica, Energia eolica, Energia eolica, Energia eolica, Energia eolica, Energia eolica, Energia eolica, Energia eolica, Energia eolica, Energia eolica, Energia eolica, Energia eolica, Energia eolica, Energia eolica, Energia eolica, Energia eolica, Energia eolica, Energia eolica, Energia eolica, Energia eolica, Energia eolica, Energia eolica, Energia eolica, Energia eolica, Energia eolica, Energia eolica, Energia eolica, Energia eolica, Energia eolica, Energia eolica, Energia eolica, Energia eolica, Energia eolica, Energia eolica, Energia eolica, Energia eolica, Energia eolica, Energia eolica, Energia eolica, Energia eolica, Energia eolica, Energia eolica, Energia eolica, Energia eolica, Energia eolica, Energia eolica, Energia eolica, Energia eolica, Energia eolica, Energia eolica, Energia eolica, Energia eolica, Energia eolica, Energia eolica, Energia eolica, Energia eolica, Energia eolica, Energia eolica, Energia eolica, Energia eolica, Energia eolica, Energia eolica, Energia eolica, Energia eolica, Energia eolica, Energia eolica, Energia eolica, Energia eolica, Energia eolica, Energia eolica, Energia eolica, Energia eolica, Energia eolica, Energia eolica, Energia eolica, Energia eolica, Energia eolica, Energia eolica, Energia eolica, Energia eolica, Energia eolica, Energia eolica, Energia eolica, Energia eolica, Energia eolica, Energia eolica, Energia eolica, Energia eolica, Energia eolica, Energia eolica, Energia eolica, Energia eolica, Energia eolica, Energia eolica, Energia eolica, Energia eolica, Energia eolica, Energia eolica, Energia eolica, Energia eolica, Energia eolica, Energia eolica, Energia eolica, Energia eolica, Energia eolica, Energia eolica, Energia eolica, Energia eolica, Energia eolica, Energia eolica, Energia eolica, Energia eolica, Energia eolica, Energia eolica, Energia eolica, Energia eolica, Energia eolica, Energia eolica, Energia eolica, Energia eolica, Energia eolica, Energia eolica, Energia eolica, Energia eolica, Energia eolica, Energia eolica, Energia eolica, Energia eolica, Energia eolica, Energia eolica, Energia eolica, Energia eolica, Energia eolica, Energia eolica, Energia eolica, Energia eolica, Energia eolica, Energia eolica, Energia eolica, Energia eolica, Energia eolica, Energia eolica, Energia eolica, Energia eolica, Energia eolica, Energia eolica, Energia eolica, Energia eolica, Energia eolica, Energia eolica, Energia eolica, Energia eolica, Energia eolica, Energia eolica, Energia eolica, Energia eolica, Energia eolica, Energia eolica, Energia eolica, Energia eolica, Energia eolica, Energia eolica, Energia eolica, Energia eolica, Energia eolica, Energia eolica, Energia eolica, Energia eolica, Energia eolica, Energia eolica, Energia eolica, Energia eolica, Energia eolica, Energia eolica, Energia eolica, Energia eolica, Energia eolica, Energia eolica, Energia eolica, Energia eolica, Energia eolica, Energia eolica, Energia eolica, Energia eolica, Energia eolica, Energia eolica, Energia eolica, Energia eolica, Energia eolica, Energia eolica, Energia eolica, Energia eolica, Energia eolica, Energia eolica, Energia eolica, Energia eolica, Energia eolica, Energia eolica, Energia eolica, Energia eolica, Energia eolica, Energia eolica, Energia eolica, Energia eolica, Energia eolica, Energia eolica, Energia eolica, Energia eolica, Energia eolica, Energia eolica, Energia eolica, Energia eolica, Energia eolica, Energia eolica, Energia eolica, Energia eolica, Energia eolica, Energia eolica, Energia eolica, Energia eolica, Energia eolica, Energia eolica, Energia eolica, Energia eolica, Energia eolica, Energia eolica, Energia eolica, Energia eolica, Energia eolica, Energia eolica, Energia eolica, Energia eolica, Energia eolica, Energia eolica, Energia eolica, Energia eolica, Energia eolica, Energia eolica, Energia eolica, Energia eolica, Energia eolica, Energia eolica, Energia eolica, Energia eolica, Energia eolica, Energia eolica, Energia eolica, Energia eolica, Energia eolica, Energia eolica, Energia eolica, Energia eolica, Energia eolica, Energia nuclear, Energia nuclear, Energia nuclear, Energia nuclear, Energia nuclear, Energia nuclear, Energia nuclear, Energia nuclear, Energia nuclear, Energia nuclear, Energia nuclear, Energia nuclear, Energia nuclear, Energia nuclear, Energia nuclear, Energia nuclear, Energia nuclear, Energia nuclear, Energia nuclear, Energia nuclear, Energia nuclear, Energia nuclear, Energia nuclear, Energia nuclear, Energia nuclear, Energia nuclear, Energia nuclear, Energia nuclear, Energia nuclear, Energia nuclear, Energia nuclear, Energia nuclear, Energia nuclear, Energia nuclear, Energia nuclear, Energia nuclear, Energia nuclear, Energia nuclear, Energia nuclear, Energia nuclear, Energia nuclear, Energia nuclear, Energia nuclear, Energia nuclear, Energia nuclear, Energia nuclear, Energia nuclear, Energia nuclear, Energia nuclear, Energia nuclear, Energia nuclear, Energia nuclear, Energia nuclear, Energia nuclear, Energia nuclear, Energia nuclear, Energia nuclear, Energia nuclear, Energia nuclear, Energia nuclear, Energia nuclear, Energia nuclear, Energia nuclear, Energia nuclear, Energia nuclear, Energia nuclear, Energia nuclear, Energia nuclear, Energia nuclear, Energia nuclear, Energia nuclear, Energia nuclear, Energia nuclear, Energia nuclear, Energia nuclear, Energia nuclear, Energia nuclear, Energia nuclear, Energia nuclear, Energia nuclear, Energia nuclear, Energia nuclear, Energia nuclear, Energia nuclear, Energia nuclear, Energia nuclear, Energia nuclear, Energia nuclear, Energia nuclear, Energia nuclear, Energia nuclear, Energia nuclear, Energia nuclear, Energia nuclear, Energia nuclear, Energia nuclear, Energia nuclear, Energia nuclear, Energia nuclear, Energia nuclear, Energia nuclear, Energia nuclear, Energia nuclear, Energia nuclear, Energia nuclear, Energia nuclear, Energia nuclear, Energia nuclear, Energia nuclear, Energia nuclear, Energia nuclear, Energia nuclear, Energia nuclear, Energia nuclear, Energia nuclear, Energia nuclear, Energia nuclear, Energia nuclear, Energia nuclear, Energia nuclear, Energia nuclear, Energia nuclear, Energia nuclear, Energia nuclear, Energia nuclear, Energia nuclear, Energia nuclear, Energia nuclear, Energia nuclear, Energia nuclear, Energia nuclear, Energia nuclear, Energia nuclear, Energia nuclear, Energia nuclear, Energia nuclear, Energia nuclear, Energia nuclear, Energia nuclear, Energia nuclear, Energia nuclear, Energia nuclear, Energia nuclear, Energia nuclear, Energia nuclear, Energia nuclear, Energia nuclear, Energia nuclear, Energia nuclear, Energia nuclear, Energia nuclear, Energia nuclear, Energia nuclear, Energia nuclear, Energia nuclear, Energia nuclear, Energia nuclear, Energia nuclear, Energia nuclear, Energia nuclear, Energia nuclear, Energia nuclear, Energia nuclear, Energia nuclear, Energia nuclear, Energia nuclear, Energia nuclear, Energia nuclear, Energia nuclear, Energia nuclear, Energia nuclear, Energia nuclear, Energia nuclear, Energia nuclear, Energia nuclear, Energia nuclear, Energia nuclear, Energia nuclear, Energia nuclear, Energia nuclear, Energia nuclear, Energia nuclear, Energia nuclear, Energia nuclear, Energia nuclear, Energia nuclear, Energia nuclear, Energia nuclear, Energia nuclear, Energia nuclear, Energia nuclear, Energia nuclear, Energia nuclear, Energia nuclear, Energia nuclear, Energia nuclear, Energia nuclear, Energia nuclear, Energia nuclear, Energia nuclear, Energia nuclear, Energia nuclear, Energia nuclear, Energia nuclear, Energia nuclear, Energia nuclear, Energia nuclear, Energia nuclear, Energia nuclear, Energia nuclear, Energia nuclear, Energia nuclear, Energia nuclear, Energia nuclear, Energia nuclear, Energia nuclear, Energia nuclear, Energia nuclear, Energia nuclear, Energia nuclear, Energia nuclear, Energia nuclear, Energia nuclear, Energia nuclear, Energia nuclear, Energia nuclear, Energia nuclear, Energia nuclear, Energia nuclear, Energia nuclear, Energia nuclear, Energia nuclear, Energia nuclear, Energia nuclear, Energia nuclear, Energia nuclear, Energia nuclear, Energia nuclear, Energia nuclear, Energia nuclear, Energia nuclear, Energia nuclear, Energia nuclear, Energia nuclear, Energia nuclear, Energia nuclear, Energia nuclear, Energia nuclear, Energia nuclear, Energia nuclear, Energia nuclear, Energia nuclear, Energia nuclear, Energia nuclear, Energia nuclear, Energia nuclear, Energia nuclear, Energia nuclear, Energia nuclear, Energia nuclear, Energia nuclear, Energia nuclear, Energia nuclear, Energia nuclear, Energia nuclear, Energia nuclear, Energia nuclear, Energia nuclear, Energia nuclear, Energia nuclear, Energia nuclear, Energia nuclear, Energia nuclear, Energia nuclear, Energia nuclear, Energia nuclear, Energia nuclear, Energia nuclear, Energia nuclear, Energia nuclear, Energia nuclear, Energia nuclear, Energia nuclear, Energia nuclear, Energia nuclear, Energia nuclear, Energia nuclear, Energia nuclear, Energia nuclear, Energia nuclear, Energia nuclear, Energia nuclear, Energia nuclear, Energia nuclear, Energia nuclear, Energia nuclear, Energia nuclear, Energia nuclear, Energia nuclear, Energia nuclear, Energia nuclear, Energia nuclear, Energia nuclear, Energia nuclear, Energia nuclear, Energia nuclear, Energia nuclear, Energia nuclear, Energia nuclear, Energia nuclear, Energia nuclear, Energia nuclear, Energia nuclear, Energia nuclear, Energia nuclear, Energia nuclear, Energia nuclear, Energia nuclear, Energia nuclear, Energia nuclear, Energia nuclear, Energia nuclear, Energia nuclear, Energia nuclear, Energia nuclear, Energia nuclear, Energia nuclear, Energia nuclear, Energia nuclear, Energia nuclear, Energia nuclear, Energia nuclear, Energia nuclear, Energia nuclear, Energia nuclear, Energia nuclear, Energia nuclear, Energia nuclear, Energia nuclear, Energia nuclear, Energia nuclear, Energia nuclear, Energia nuclear, Energia nuclear, Energia nuclear, Energia nuclear, Energia nuclear, Energia nuclear, Energia nuclear, Energia nuclear, Energia nuclear, Energia nuclear, Energia nuclear, Energia nuclear, Energia nuclear, Energia nuclear, Energia nuclear, Energia nuclear, Energia nuclear, Energia nuclear, Energia nuclear, Energia nuclear, Energia nuclear, Energia nuclear, Energia nuclear, Energia nuclear, Energia nuclear, Energia nuclear, Energia nuclear, Energia nuclear, Energia nuclear, Energia nuclear, Energia nuclear, Energia nuclear, Energia nuclear, Energia nuclear, Energia nuclear, Energia nuclear, Energia nuclear, Energia nuclear, Energia nuclear, Energia nuclear, Energia nuclear, Energia nuclear, Energia nuclear, Energia nuclear, Energia nuclear, Energia nuclear, Energia nuclear, Energia nuclear, Energia nuclear, Energia nuclear, Energia nuclear, Energia nuclear, Energia nuclear, Energia nuclear, Energia nuclear, Energia nuclear, Energia nuclear, Energia nuclear, Energia nuclear, Energia nuclear, Energia nuclear, Energia nuclear, Energia nuclear, Energia nuclear, Energia nuclear, Energia nuclear, Energia nuclear, Energia nuclear, Energia nuclear, Energia nuclear, Energia nuclear, Energia nuclear, Energia nuclear, Energia nuclear, Energia nuclear, Energia nuclear, Energia nuclear, Energia nuclear, Energia nuclear, Energia nuclear, Energia nuclear, Energia nuclear, Energia nuclear, Energia nuclear, Energia nuclear, Energia nuclear, Energia nuclear, Energia nuclear, Energia nuclear, Energia nuclear, Energia nuclear, Energia nuclear, Energia nuclear, Energia nuclear, Energia nuclear, Energia nuclear, Energia nuclear, Energia nuclear, Energia nuclear, Energia nuclear, Energia nuclear, Energia nuclear, Energia nuclear, Energia nuclear, Energia nuclear, Energia nuclear, Energia nuclear, Energia nuclear, Energia nuclear, Energia nuclear, Energia nuclear, Energia nuclear, Energia nuclear, Energia nuclear, Energia pah, Energia pah, Energia pah, Energia pah, Energia pah, Energia pah, Energia pah, Energia pah, Energia pah, Energia pah, Energia pah, Energia pah, Energia pah, Energia pah, Energia pah, Energia pah, Energia pah, Energia pah, Energia pah, Energia pah, Energia pah, Energia pah, Energia pah, Energia pah, Energia pah, Energia pah, Energia pah, Energia pah, Energia pah, Energia pah, Energia pah, Energia pah, Energia pah, Energia pah, Energia pah, Energia pah, Energia pah, Energia pah, Energia pah, Energia pah, Energia pah, Energia pah, Energia pah, Energia pah, Energia pah, Energia pah, Energia pah, Energia pah, Energia pah, Energia pah, Energia pah, Energia pah, Energia pah, Energia pah, Energia pah, Energia pah, Energia pah, Energia pah, Energia pah, Energia pah, Energia pah, Energia pah, Energia pah, Energia pah, Energia pah, Energia pah, Energia pah, Energia pah, Energia pah, Energia pah, Energia pah, Energia pah, Energia pah, Energia pah, Energia pah, Energia pah, Energia pah, Energia pah, Energia pah, Energia pah, Energia pah, Energia pah, Energia pah, Energia pah, Energia pah, Energia pah, Energia pah, Energia pah, Energia pah, Energia pah, Energia pah, Energia pah, Energia pah, Energia pah, Energia pah, Energia pah, Energia pah, Energia pah, Energia pah, Energia pah, Energia pah, Energia pah, Energia pah, Energia pah, Energia pah, Energia pah, Energia pah, Energia pah, Energia pah, Energia pah, Energia pah, Energia pah, Energia pah, Energia pah, Energia pah, Energia pah, Energia pah, Energia pah, Energia pah, Energia pah, Energia pah, Energia pah, Energia pah, Energia pah, Energia pah, Energia pah, Energia pah, Energia pah, Energia pah, Energia pah, Energia pah, Energia pah, Energia pah, Energia pah, Energia pah, Energia pah, Energia pah, Energia pah, Energia pah, Energia pah, Energia pah, Energia pah, Energia pah, Energia pah, Energia pah, Energia pah, Energia pah, Energia pah, Energia pah, Energia pah, Energia pah, Energia pah, Energia pah, Energia pah, Energia pah, Energia pah, Energia pah, Energia pah, Energia pah, Energia pah, Energia pah, Energia pah, Energia pah, Energia pah, Energia pah, Energia pah, Energia pah, Energia pah, Energia pah, Energia pah, Energia pah, Energia pah, Energia pah, Energia pah, Energia pah, Energia pah, Energia pah, Energia pah, Energia pah, Energia pah, Energia pah, Energia pah, Energia pah, Energia pah, Energia pah, Energia pah, Energia pah, Energia pah, Energia pah, Energia pah, Energia pah, Energia pah, Energia pah, Energia pah, Energia pah, Energia pah, Energia pah, Energia pah, Energia pah, Energia pah, Energia pah, Energia pah, Energia pah, Energia pah, Energia pah, Energia pah, Energia pah, Energia pah, Energia pah, Energia pah, Energia pah, Energia pah, Energia pah, Energia pah, Energia pah, Energia pah, Energia pah, Energia pah, Energia pah, Energia pah, Energia pah, Energia pah, Energia pah, Energia pah, Energia pah, Energia pah, Energia pah, Energia pah, Energia pah, Energia pah, Energia pah, Energia pah, Energia pah, Energia pah, Energia pah, Energia pah, Energia pah, Energia pah, Energia pah, Energia pah, Energia pah, Energia pah, Energia pah, Energia pah, Energia pah, Energia pah, Energia pah, Energia pah, Energia pah, Energia pah, Energia pah, Energia pah, Energia pah, Energia pah, Energia pah, Energia pah, Energia pah, Energia pah, Energia pah, Energia pah, Energia pah, Energia pah, Energia pah, Energia pah, Energia pah, Energia pah, Energia pah, Energia pah, Energia pah, Energia pah, Energia pah, Energia pah, Energia pah, Energia pah, Energia pah, Energia pah, Energia pah, Energia pah, Energia pah, Energia pah, Energia pah, Energia pah, Energia pah, Energia pah, Energia pah, Energia pah, Energia pah, Energia pah, Energia pah, Energia pah, Energia pah, Energia pah, Energia pah, Energia pah, Energia pah, Energia pah, Energia pah, Energia pah, Energia pah, Energia pah, Energia pah, Energia pah, Energia pah, Energia pah, Energia pah, Energia pah, Energia pah, Energia pah, Energia pah, Energia pah, Energia pah, Energia pah, Energia pah, Energia pah, Energia pah, Energia pah, Energia pah, Energia pah, Energia pah, Energia pah, Energia pah, Energia pah, Energia pah, Energia pah, Energia pah, Energia pah, Energia pah, Energia pah, Energia pah, Energia pah, Energia pah, Energia pah, Energia pah, Energia pah, Energia pah, Energia pah, Energia pah, Energia pah, Energia pah, Energia pah, Energia pah, Energia pah, Energia pah, Energia pah, Energia pah, Energia pah, Energia pah, Energia pah, Energia pah, Energia pah, Energia pah, Energia pah, Energia pah, Energia pah, Energia pah, Energia pah, Energia pah, Energia pah, Energia pah, Energia pah, Energia pah, Energia pah, Energia pah, Energia pah, Energia pah, Energia pah, Energia pah, Energia pah, Energia pah, Energia pah, Energia pah, Energia pah, Energia pah, Energia pah, Energia pah, Energia pah, Energia pah, Energia pah, Energia pah, Energia pah, Energia pah, Energia pah, Energia pah, Energia pah, Energia pah, Energia pah, Energia pah, Energia pah, Energia pah, Energia pah, Energia pah, Energia pah, Energia pah, Energia pah, Energia pah, Energia pah, Energia pah, Energia pah, Energia pah, Energia pah, Energia pah, Energia pah, Energia pah, Energia pah, Energia pah, Energia pah, Energia pah, Energia pah, Energia pah, Energia pah, Energia pah, Energia pah, Energia pah, Energia pah, Energia pah, Energia pah, Energia pah, Energia pah, Energia pah, Energia pah, Energia pah, Energia pah, Energia pah, Energia pah, Energia pah, Energia pah, Energia pah, Energia pah, Energia pah, Energia pah, Energia pah, Energia pah, Energia pah, Energia pah, Energia pah, Energia pah, Energia pah, Energia pah, Energia pah, Energia pah, Energia pah, Energia pah, Energia pah, Energia pah, Energia pah, Energia pah, Energia pah, Energia pah, Energia pah, Energia pah, Energia pah, Energia pah, Energia pah, Energia pah, Energia pah, Energia pah, Energia pah, Energia pah, Energia pah, Energia pah, Energia pah, Energia pah, Energia pah, Energia pah, Energia pah, Energia pah, Energia pah, Energia pah, Energia pah, Energia pah, Energia pah, Energia pah, Energia pah, Energia pah, Energia pah, Energia pah, Energia pah, Energia pah, Energia pah, Energia pah, Energia pah, Energia pah, Energia pah, Energia pah, Energia pah, Energia pah, Energia pah, Energia pah, Energia pah, Energia pah, Energia pah, Energia pah, Energia pah, Energia pah, Energia pah, Energia pah, Energia pah, Energia pah, Energia pah, Energia pah, Energia pah, Energia pah, Energia pah, Energia pah, Energia pah, Energia pah, Energia pah, Energia pah, Energia pah, Energia pah, Energia pah, Energia pah, Energia pah, Energia pah, Energia pah, Energia pah, Energia pah, Energia pah, Energia pah, Energia pah, Energia pah, Energia pah, Energia pah, Energia pah, Energia pah, Energia pah, Energia pah, Energia pah, Energia pah, Energia pah, Energia pah, Energia pah, Energia pah, Energia pah, Energia pah, Energia pah, Energia pah, Energia pah, Energia pah, Energia pah, Energia pah, Energia pah, Energia pah, Energia pah, Energia pah, Energia pah, Energia pah, Energia pah, Energia pah, Energia pah, Energia pah, Energia pah, Energia pah, Energia pah, Energia pah, Energia pah, Energia pah, Energia pah, Energia pah, Energia pah, Energia pah, Energia pah, Energia pah, Energia pah, Energia pah, Energia pah, Energia pah, Energia pah, Energia pah, Energia pah, Energia pah, Energia pah, Energia pah, Energia pah, Energia pah, Energia pah, Energia pah, Energia pah, Energia pah, Energia pah, Energia pah, Energia pah, Energia pah, Energia pah, Energia pah, Energia pah, Energia pah, Energia pah, Energia pah, Energia pah, Energia pah, Energia pah, Energia pah, Energia pah, Energia pah, Energia pah, Energia pah, Energia pah, Energia pah, Energia pah, Energia pah, Energia pah, Energia pah, Energia pah, Energia pah, Energia pah, Energia pah, Energia pah, Energia pah, Energia pah, Energia pah, Energia pah, Energia pah, Energia pah, Energia pah, Energia pah, Energia pah, Energia pah, Energia pah, Energia pah, Energia pah, Energia pah, Energia pah, Energia pah, Energia pah, Energia pah, Energia pah, Energia pah, Energia pah, Energia pah, Energia pah, Energia pah, Energia pah, Energia pah, Energia pah, Energia pah, Energia pah, Energia pah, Energia pah, Energia pah, Energia pah, Energia pah, Energia pah, Energia pah, Energia pah, Energia pah, Energia pah, Energia pah, Energia pah, Energia pah, Energia pah, Energia pah, Energia pah, Energia pah, Energia pah, Energia pah, Energia pah, Energia pah, Energia pah, Energia pah, Energia pah, Energia pah, Energia pah, Energia pah, Energia pah, Energia pah, Energia pah, Energia pah, Energia pah, Energia pah, Energia pah, Energia pah, Energia pah, Energia pah, Energia pah, Energia pah, Energia pah, Energia pah, Energia pah, Energia pah, Energia pah, Energia pah, Energia pah, Energia pah, Energia pah, Energia pah, Energia pah, Energia pah, Energia pah, Energia pah, Energia pah, Energia pah, Energia pah, Energia pah, Energia pah, Energia pah, Energia pah, Energia pah, Energia pah, Energia pah, Energia pah, Energia pah, Energia pah, Energia pah, Energia pah, Energia pah, Energia pah, Energia pah, Energia pah, Energia pah, Energia pah, Energia pah, Energia pah, Energia pah, Energia pah, Energia pah, Energia pah, Energia pah, Energia pah, Energia pah, Energia pah, Energia pah, Energia pah, Energia pah, Energia pah, Energia pah, Energia pah, Energia pah, Energia pah, Energia pah, Energia pah, Energia pah, Energia pah, Energia pah, Energia pah, Energia pah, Energia pah, Energia pah, Energia pah, Energia pah, Energia pah, Energia pah, Energia pah, Energia pah, Energia pah, Energia pah, Energia pah, Energia pah, Energia pah, Energia pah, Energia pah, Energia pah, Energia pah, Energia pah, Energia pah, Energia pah, Energia pah, Energia pah, Energia pah, Energia pah, Energia pah, Energia pah, Energia pah, Energia pah, Energia pah, Energia pah, Energia pah, Energia pah, Energia pah, Energia pah, Energia pah, Energia pah, Energia pah, Energia pah, Energia pah, Energia pah, Energia pah, Energia pah, Energia pah, Energia pah, Energia pah, Energia pah, Energia pah, Energia pah, Energia pah, Energia pah, Energia pah, Energia pah, Energia pah, Energia pah, Energia pah, Energia pah, Energia pah, Energia pah, Energia pah, Energia pah, Energia pah, Energia pah, Energia pah, Energia pah, Energia pah, Energia pah, Energia pah, Energia pah, Energia pah, Energia pah, Energia pah, Energia pah, Energia pah, Energia pah, Energia pah, Energia pah, Energia pah, Energia pah, Energia pah, Energia pah, Energia pah, Energia pah, Energia pah, Energia pah, Energia pah, Energia pah, Energia pah, Energia pah, Energia pah, Energia pah, Energia pah, Energia pah, Energia pah, Energia pah, Energia pah, Energia pah, Energia pah, Energia pah, Energia pah, Energia pah, Energia pah, Energia pah, Energia pah, Energia pah, Energia pah, Energia pah, Energia pah, Energia pah, Energia pah, Energia pah, Energia pah, Energia pah, Energia pah, Energia pah, Energia pah, Energia pah, Energia pah, Energia pah, Energia pah, Energia pah, Energia pah, Energia pah, Energia pah, Energia pah, Energia pah, Energia pah, Energia pah, Energia pah, Energia pah, Energia pah, Energia pah, Energia pah, Energia pah, Energia pah, Energia pah, Energia pah, Energia pah, Energia pah, Energia pah, Energia pah, Energia pah, Energia pah, Energia pah, Energia pah, Energia pah, Energia pah, Energia pah, Energia pah, Energia pah, Energia pah, Energia pah, Energia pah, Energia pah, Energia pah, Energia pah, Energia pah, Energia pah, Energia pah, Energia pah, Energia pah, Energia pah, Energia pah, Energia pah, Energia pah, Energia pah, Energia pah, Energia pah, Energia pah, Energia pah, Energia pah, Energia pah, Energia pah, Energia pah, Energia pah, Energia pah, Energia pah, Energia pah, Energia pah, Energia pah, Energia pah, Energia pah, Energia pah, Energia pah, Energia pah, Energia pah, Energia pah, Energia pah, Energia pah, Energia pah, Energia pah, Energia pah, Energia pah, Energia pah, Energia pah, Energia pah, Energia pah, Energia pah, Energia pah, Energia pah, Energia pah, Energia pah, Energia pah, Energia pah, Energia pah, Energia pah, Energia pah, Energia pah, Energia pah, Energia pah, Energia pah, Energia pah, Energia pah, Energia pah, Energia pah, Energia pah, Energia pah, Energia pah, Energia pah, Energia pah, Energia pah, Energia pah, Energia pah, Energia pah, Energia pah, Energia pah, Energia pah, Energia pah, Energia pah, Energia pah, Energia pah, Energia pah, Energia pah, Energia pah, Energia pah, Energia pah, Energia pah, Energia pah, Energia pah, Energia pah, Energia pah, Energia pah, Energia pah, Energia pah, Energia pah, Energia pah, Energia pah, Energia pah, Energia pah, Energia pah, Energia pah, Energia pah, Energia pah, Energia pah, Energia pah, Energia pah, Energia pah, Energia pah, Energia pah, Energia pah, Energia pah, Energia pah, Energia pah, Energia pah, Energia pah, Energia pah, Energia pah, Energia pah, Energia pah, Energia pah, Energia pah, Energia pah, Energia pah, Energia pah, Energia pah, Energia pah, Energia pah, Energia pah, Energia pah, Energia pah, Energia pah, Energia pah, Energia pah, Energia pah, Energia pah, Energia pah, Energia pah, Energia pah, Energia pah, Energia pah, Energia pah, Energia pah, Energia pah, Energia pah, Energia pah, Energia pah, Energia pah, Energia pah, Energia pah, Energia pah, Energia pah, Energia pah, Energia pah, Energia pah, Energia pah, Energia pah, Energia pah, Energia pah, Energia pah, Energia pah, Energia pah, Energia pah, Energia pah, Energia pah, Energia pah, Energia pah, Energia pah, Energia pah, Energia pah, Energia pah, Energia pah, Energia pah, Energia pah, Energia pah, Energia pah, Energia pah, Energia pah, Energia pah, Energia pah, Energia pah, Energia pah, Energia pah, Energia pah, Energia pah, Energia pah, Energia pah, Energia pah, Energia pah, Energia pah, Energia pah, Energia pah, Energia pah, Energia pah, Energia pah, Energia pah, Energia pah, Energia pah, Energia pah, Energia pah, Energia pah, Energia pah, Energia pah, Energia pah, Energia pah, Energia pah, Energia pah, Energia pah, Energia pah, Energia pah, Energia pah, Energia pah, Energia pah, Energia pah, Energia pah, Energia pah, Energia pah, Energia pah, Energia pah, Energia pah, Energia pah, Energia pah, Energia pah, Energia pah, Energia pah, Energia pah, Energia pah, Energia pah, Energia pah, Energia pah, Energia pah, Energia pah, Energia pah, Energia pah, Energia pah, Energia pah, Energia pah, Energia pah, Energia pah, Energia pah, Energia pah, Energia pah, Energia pah, Energia pah, Energia pah, Energia pah, Energia pah, Energia pah, Energia pah, Energia pah, Energia pah, Energia pah, Energia pah, Energia pah, Energia pah, Energia pah, Energia pah, Energia pah, Energia pah, Energia pah, Energia pah, Energia pah, Energia pah, Energia pah, Energia pah, Energia pah, Energia pah, Energia pah, Energia pah, Energia pah, Energia pah, Energia pah, Energia pah, Energia pah, Energia pah, Energia pah, Energia pah, Energia pah, Energia pah, Energia pah, Energia pah, Energia pah, Energia pah, Energia pah, Energia pah, Energia pah, Energia pah, Energia pah, Energia pah, Energia pah, Energia pah, Energia pah, Energia pah, Energia pah, Energia pah, Energia pah, Energia pah, Energia pah, Energia pah, Energia pah, Energia pah, Energia pah, Energia pah, Energia pah, Energia pah, Energia pah, Energia pah, Energia pah, Energia pah, Energia pah, Energia pah, Energia pah, Energia pah, Energia pah, Energia pah, Energia pah, Energia pah, Energia pah, Energia pah, Energia pah, Energia pah, Energia pah, Energia pah, Energia pah, Energia pah, Energia pah, Energia pah, Energia pah, Energia pah, Energia pah, Energia pah, Energia pah, Energia pah, Energia pah, Energia pah, Energia pah, Energia pah, Energia pah, Energia pah, Energia pah, Energia pah, Energia pah, Energia pah, Energia pah, Energia pah, Energia pah, Energia pah, Energia pah, Energia pah, Energia pah, Energia pah, Energia pah, Energia pah, Energia pah, Energia pah, Energia pah, Energia pah, Energia pah, Energia pah, Energia pah, Energia pah, Energia pah, Energia pah, Energia pah, Energia pah, Energia pah, Energia pah, Energia pah, Energia pah, Energia pah, Energia pah, Energia pah, Energia pah, Energia pah, Energia pah, Energia pah, Energia pah, Energia pah, Energia pah, Energia pah, Energia pah, Energia pah, Energia pah, Energia pah, Energia pah, Energia pah, Energia pah, Energia pah, Energia pah, Energia pah, Energia pah, Energia pah, Energia pah, Energia pah, Energia pah, Energia pah, Energia pah, Energia pah, Energia pah, Energia pah, Energia pah, Energia pah, Energia pah, Energia pah, Energia pah, Energia pah, Energia pah, Energia pah, Energia pah, Energia pah, Energia pah, Energia pah, Energia pah, Energia pah, Energia pah, Energia pah, Energia pah, Energia pah, Energia pah, Energia pah, Energia pah, Energia pah, Energia pah, Energia pah, Energia pah, Energia pah, Energia pah, Energia pah, Energia pah, Energia pah, Energia pah, Energia pah, Energia pah, Energia pah, Energia pah, Energia pah, Energia pah, Energia pah, Energia pah, Energia pah, Energia pah, Energia pah, Energia pah, Energia pah, Energia pah, Energia pah, Energia pah, Energia pah, Energia pah, Energia pah, Energia pah, Energia pah, Energia pah, Energia pah, Energia pah, Energia pah, Energia pah, Energia pah, Energia pah, Energia pah, Energia pah, Energia pah, Energia pah, Energia pah, Energia pah, Energia pah, Energia pah, Energia pah, Energia pah, Energia pah, Energia pah, Energia pah, Energia pah, Energia pah, Energia pah, Energia pah, Energia pah, Energia pah, Energia pah, Energia pah, Energia pah, Energia pah, Energia pah, Energia pah, Energia pah, Energia pah, Energia pah, Energia pah, Energia pah, Energia pah, Energia pah, Energia pah, Energia pah, Energia pah, Energia pah, Energia pah, Energia pah, Energia pah, Energia pah, Energia pah, Energia pah, Energia pah, Energia pah, Energia pah, Energia pah, Energia pah, Energia pah, Energia pah, Energia pah, Energia pah, Energia pah, Energia pah, Energia pah, Energia pah, Energia pah, Energia pah, Energia pah, Energia pah, Energia pah, Energia pah, Energia pah, Energia pah, Energia pah, Energia pah, Energia pah, Energia pah, Energia pah, Energia pah, Energia pah, Energia pah, Energia pah, Energia pah, Energia pah, Energia pah, Energia pah, Energia pah, Energia pah, Energia pah, Energia pah, Energia pah, Energia pah, Energia pah, Energia pah, Energia pah, Energia pah, Energia pah, Energia pah, Energia pah, Energia pah, Energia pah, Energia pah, Energia pah, Energia pah, Energia pah, Energia pah, Energia pah, Energia pah, Energia pah, Energia pah, Energia pah, Energia pah, Energia pah, Energia pah, Energia pah, Energia pah, Energia pah, Energia pah, Energia pah, Energia pah, Energia pah, Energia pah, Energia pah, Energia pah, Energia pah, Energia pah, Energia pah, Energia pah, Energia pah, Energia pah, Energia pah, Energia pah, Energia pah, Energia pah, Energia pah, Energia pah, Energia pah, Energia pah, Energia pah, Energia pah, Energia pah, Energia pah, Energia pah, Energia pah, Energia pah, Energia pah, Energia pah, Energia pah, Energia pah, Energia pah, Energia pah, Energia pah, Energia pah, Energia pah, Energia pah, Energia pah, Energia pah, Energia pah, Energia pah, Energia pah, Energia pah, Energia pah, Energia pah, Energia pah, Energia pah, Energia pah, Energia pah, Energia pah, Energia pah, Energia pah, Energia pah, Energia pah, Energia pah, Energia pah, Energia pah, Energia pah, Energia pah, Energia pah, Energia pah, Energia pah, Energia pah, Energia pah, Energia pah, Energia pah, Energia pah, Energia pah, Energia pah, Energia pah, Energia pah, Energia pah, Energia pah, Energia pah, Energia pah, Energia pah, Energia pah, Energia pah, Energia pah, Energia pah, Energia pah, Energia pah, Energia pah, Energia pah, Energia pah, Energia pah, Energia pah, Energia pah, Energia pah, Energia pah, Energia pah, Energia pah, Energia pah, Energia pah, Energia pah, Energia pah, Energia pah, Energia pah, Energia pah, Energia pah, Energia pah, Energia pah, Energia pah, Energia pah, Energia pah, Energia pah, Energia pah, Energia pah, Energia pah, Energia pah, Energia pah, Energia pah, Energia pah, Energia pah, Energia pah, Energia pah, Energia pah, Energia pah, Energia pah, Energia pah, Energia pah, Energia pah, Energia pah, Energia pah, Energia pah, Energia pah, Energia pah, Energia pah, Energia pah, Energia pah, Energia pah, Energia pah, Energia pah, Energia pah, Energia pah, Energia pah, Energia pah, Energia pah, Energia pah, Energia pah, Energia pah, Energia pah, Energia pah, Energia pah, Energia pah, Energia pah, Energia pah, Energia pah, Energia pah, Energia pah, Energia pah, Energia pah, Energia pah, Energia pah, Energia pah, Energia pah, Energia pah, Energia pah, Energia pah, Energia pah, Energia pah, Energia pah, Energia pah, Energia pah, Energia pah, Energia pah, Energia pah, Energia pah, Energia pah, Energia pah, Energia pah, Energia pah, Energia pah, Energia pah, Energia pah, Energia pah, Energia pah, Energia pah, Energia pah, Energia pah, Energia pah, Energia pah, Energia pah, Energia pah, Energia pah, Energia pah, Energia pah, Energia pah, Energia pah, Energia pah, Energia pah, Energia pah, Energia pah, Energia pah, Energia pah, Energia pah, Energia pah, Energia pah, Energia pah, Energia pah, Energia pah, Energia pah, Energia pah, Energia pah, Energia pah, Energia pah, Energia pah, Energia pah, Energia pah, Energia pah, Energia pah, Energia pah, Energia pah, Energia pah, Energia pah, Energia pah, Energia pah, Energia pah, Energia pah, Energia pah, Energia pah, Energia pah, Energia pah, Energia pah, Energia pah, Energia pah, Energia pah, Energia pah, Energia pah, Energia pah, Energia pah, Energia pah, Energia pah, Energia pah, Energia pah, Energia pah, Energia pah, Energia pah, Energia pah, Energia pah, Energia pah, Energia pah, Energia pah, Energia pah, Energia pah, Energia pah, Energia pah, Energia pah, Energia pah, Energia pah, Energia pah, Energia pah, Energia pah, Energia pah, Energia pah, Energia pah, Energia pah, Energia pah, Energia pah, Energia pah, Energia pah, Energia pah, Energia pah, Energia pah, Energia pah, Energia pah, Energia pah, Energia pah, Energia pah, Energia pah, Energia pah, Energia pah, Energia pah, Energia pah, Energia pah, Energia pah, Energia pah, Energia pah, Energia pah, Energia pah, Energia pah, Energia pah, Energia pah, Energia pah, Energia pah, Energia pah, Energia pah, Energia pah, Energia pah, Energia pah, Energia pah, Energia pah, Energia pah, Energia pah, Energia pah, Energia pah, Energia pah, Energia pah, Energia pah, Energia pah, Energia pah, Energia pah, Energia pah, Energia pah, Energia pah, Energia pah, Energia pah, Energia pah, Energia pah, Energia pah, Energia pah, Energia pah, Energia pah, Energia pah, Energia pah, Energia pah, Energia pah, Energia pah, Energia pah, Energia pah, Energia pah, Energia pah, Energia pah, Energia pah, Energia pah, Energia pah, Energia pah, Energia pah, Energia pah, Energia pah, Energia pah, Energia pah, Energia pah, Energia pah, Energia pah, Energia pah, Energia pah, Energia pah, Energia pah, Energia pah, Energia pah, Energia pah, Energia pah, Energia pah, Energia pah, Energia pah, Energia pah, Energia pah, Energia pah, Energia pah, Energia pah, Energia pah, Energia pah, Energia pah, Energia pah, Energia pah, Energia pah, Energia pah, Energia pah, Energia pah, Energia pah, Energia pah, Energia pah, Energia pah, Energia pah, Energia pah, Energia pah, Energia pah, Energia pah, Energia pah, Energia pah, Energia pah, Energia pah, Energia pah, Energia pah, Energia pah, Energia pah, Energia pah, Energia pah, Energia pah, Energia pah, Energia pah, Energia pah, Energia pah, Energia pah, Energia pah, Energia pah, Energia pah, Energia pah, Energia pah, Energia pah, Energia pah, Energia pah, Energia pah, Energia pah, Energia pah, Energia pah, Energia pah, Energia pah, Energia pah, Energia pah, Energia pah, Energia pah, Energia pah, Energia pah, Energia pah, Energia pah, Energia pah, Energia pah, Energia pah, Energia pah, Energia pah, Energia pah, Energia pah, Energia pah, Energia pah, Energia pah, Energia pah, Energia pah, Energia pah, Energia pah, Energia pah, Energia pah, Energia pah, Energia pah, Energia pah, Energia pah, Energia pah, Energia pah, Energia pah, Energia pah, Energia pah, Energia pah, Energia pah, Energia pah, Energia pah, Energia pah, Energia pah, Energia pah, Energia pah, Energia pah, Energia pah, Energia pah, Energia pah, Energia pah, Energia pah, Energia pah, Energia pah, Energia pah, Energia pah, Energia pah, Energia pah, Energia pah, Energia pah, Energia pah, Energia pah, Energia pah, Energia pah, Energia pah, Energia pah, Energia pah, Energia pah, Energia pah, Energia pah, Energia pah, Energia pah, Energia pah, Energia pah, Energia pah, Energia pah, Energia pah, Energia pah, Energia pah, Energia pah, Energia pah, Energia pah, Energia pah, Energia pah, Energia pah, Energia pah, Energia pah, Energia pah, Energia pah, Energia pah, Energia pah, Energia pah, Energia pah, Energia pah, Energia pah, Energia pah, Energia pah, Energia pah, Energia pah, Energia pah, Energia pah, Energia pah, Energia pah, Energia pah, Energia pah, Energia pah, Energia pah, Energia pah, Energia pah, Energia pah, Energia pah, Energia pah, Energia pah, Energia pah, Energia pah, Energia pah, Energia pah, Energia pah, Energia pah, Energia pah, Energia pah, Energia pah, Energia pah, Energia pah, Energia pah, Energia pah, Energia pah, Energia pah, Energia pah, Energia pah, Energia pah, Energia pah, Energia pah, Energia pah, Energia pah, Energia pah, Energia pah, Energia pah, Energia pah, Energia pah, Energia pah, Energia pah, Energia pah, Energia pah, Energia pah, Energia pah, Energia pah, Energia pah, Energia pah, Energia pah, Energia pah, Energia pah, Energia pah, Energia pah, Energia pah, Energia pah, Energia pah, Energia pah, Energia pah, Energia pah, Energia pah, Energia pah, Energia pah, Energia pah, Energia pah, Energia pah, Energia pah, Energia pah, Energia pah, Energia pah, Energia pah, Energia pah, Energia pah, Energia pah, Energia pah, Energia pah, Energia pah, Energia pah, Energia pah, Energia pah, Energia pah, Energia pah, Energia pah, Energia pah, Energia pah, Energia pah, Energia pah, Energia pah, Energia pah, Energia pah, Energia pah, Energia pah, Energia pah, Energia pah, Energia pah, Energia pah, Energia pah, Energia pah, Energia pah, Energia pah, Energia pah, Energia pah, Energia pah, Energia pah, Energia pah, Energia pah, Energia pah, Energia pah, Energia pah, Energia pah, Energia pah, Energia pah, Energia pah, Energia pah, Energia pah, Energia pah, Energia pah, Energia pah, Energia pah, Energia pah, Energia pah, Energia pah, Energia pah, Energia pah, Energia pah, Energia pah, Energia pah, Energia pah, Energia pah, Energia pah, Energia pah, Energia pah, Energia pah, Energia pah, Energia pah, Energia pah, Energia pah, Energia pah, Energia pah, Energia pah, Energia pah, Energia pah, Energia pah, Energia pah, Energia pah, Energia pah, Energia pah, Energia pah, Energia pah, Energia pah, Energia pah, Energia pah, Energia pah, Energia pah, Energia pah, Energia pah, Energia pah, Energia pah, Energia pah, Energia pah, Energia pah, Energia pah, Energia pah, Energia pah, Energia pah, Energia pah, Energia pah, Energia pah, Energia pah, Energia pah, Energia pah, Energia pah, Energia pah, Energia pah, Energia pah, Energia pah, Energia pah, Energia pah, Energia pah, Energia pah, Energia pah, Energia pah, Energia pah, Energia pah, Energia pah, Energia pah, Energia pah, Energia pah, Energia pah, Energia pah, Energia pah, Energia pah, Energia pah, Energia pah, Energia pah, Energia pah, Energia pah, Energia pah, Energia pah, Energia pah, Energia pah, Energia pah, Energia pah, Energia pah, Energia pah, Energia pah, Energia pah, Energia pah, Energia pah, Energia pah, Energia pah, Energia pah, Energia pah, Energia pah, Energia pah, Energia pah, Energia pah, Energia pah, Energia pah, Energia pah, Energia pah, Energia pah, Energia pah, Energia pah, Energia pah, Energia pah, Energia pah, Energia solar, Energia solar, Energia solar, Energia solar, Energia solar, Energia solar, Energia solar, Energia solar, Energia solar, Energia solar, Energia solar, Energia solar, Energia solar, Energia solar, Energia solar, Energia solar, Energia solar, Energia solar, Energia solar, Energia solar, Energia solar, Energia solar, Energia solar, Energia solar, Energia solar, Energia solar, Energia solar, Energia solar, Energia solar, Energia solar, Energia solar, Energia solar, Energia solar, Energia solar, Energia solar, Energia solar, Energia solar, Energia solar, Energia solar, Energia solar, Energia solar, Energia solar, Energia solar, Energia solar, Energia solar, Energia solar, Energia solar, Energia solar, Energia solar, Energia solar, Energia solar, Energia solar, Energia solar, Energia solar, Energia solar, Energia solar, Energia solar, Energia solar, Energia solar, Energia solar, Energia solar, Energia solar, Energia solar, Energia solar, Energia solar, Energia solar, Energia solar, Energia solar, Energia solar, Energia solar, Energia solar, Energia solar, Energia solar, Energia solar, Energia solar, Energia solar, Energia solar, Energia solar, Energia solar, Energia solar, Energia solar, Energia solar, Energia solar, Energia solar, Energia solar, Energia solar, Energia solar, Energia solar, Energia solar, Energia solar, Energia solar, Energia solar, Energia solar, Energia solar, Energia solar, Energia solar, Energia solar, Energia solar, Energia solar, Energia solar, Energia solar, Energia solar, Energia solar, Energia solar, Energia solar, Energia solar, Energia solar, Energia solar, Energia solar, Energia solar, Energia solar, Energia solar, Energia solar, Energia solar, Energia solar, Energia solar, Energia solar, Energia solar, Energia solar, Energia solar, Energia solar, Energia solar, Energia solar, Energia solar, Energia solar, Energia solar, Energia solar, Energia solar, Energia solar, Energia solar, Energia solar, Energia solar, Energia solar, Energia solar, Energia solar, Energia solar, Energia solar, Energia solar, Energia solar, Energia solar, Energia solar, Energia solar, Energia solar, Energia solar, Energia solar, Energia solar, Energia solar, Energia solar, Energia solar, Energia solar, Energia solar, Energia solar, Energia solar, Energia solar, Energia solar, Energia solar, Energia solar, Energia solar, Energia solar, Energia solar, Energia solar, Energia solar, Energia solar, Energia solar, Energia solar, Energia solar, Energia solar, Energia solar, Energia solar, Energia solar, Energia solar, Energia solar, Energia solar, Energia solar, Energia solar, Energia solar, Energia solar, Energia solar, Energia solar, Energia solar, Energia solar, Energia solar, Energia solar, Energia solar, Energia solar, Energia solar, Energia solar, Energia solar, Energia solar, Energia solar, Energia solar, Energia solar, Energia solar, Energia solar, Energia solar, Energia solar, Energia solar, Energia solar, Energia solar, Energia solar, Energia solar, Energia solar, Energia solar, Energia solar, Energia solar, Energia solar, Energia solar, Energia solar, Energia solar, Energia solar, Energia solar, Energia solar, Energia solar, Energia solar, Energia solar, Energia solar, Energia solar, Energia solar, Energia solar, Energia solar, Energia solar, Energia solar, Energia solar, Energia solar, Energia solar, Energia solar, Energia solar, Energia solar, Energia solar, Energia solar, Energia solar, Energia solar, Energia solar, Energia solar, Energia solar, Energia solar, Energia solar, Energia solar, Energia solar, Energia solar, Energia solar, Energia solar, Energia solar, Energia solar, Energia solar, Energia solar, Energia solar, Energia solar, Energia solar, Energia solar, Energia solar, Energia solar, Energia solar, Energia solar, Energia solar, Energia solar, Energia solar, Energia solar, Energia solar, Energia solar, Energia solar, Energia solar, Energia solar, Energia solar, Energia solar, Energia solar, Energia solar, Energia solar, Energia solar, Energia solar, Energia solar, Energia solar, Energia solar, Energia solar, Energia solar, Energia solar, Energia solar, Energia solar, Energia solar, Energia solar, Energia solar, Energia solar, Energia solar, Energia solar, Energia solar, Energia solar, Energia solar, Energia solar, Energia solar, Energia solar, Energia solar, Energia solar, Energia solar, Energia solar, Energia solar, Energia solar, Energia solar, Energia solar, Energia solar, Energia solar, Energia solar, Energia solar, Energia solar, Energia solar, Energia solar, Energia solar, Energia solar, Energia solar, Energia solar, Energia solar, Energia solar, Energia solar, Energia solar, Energia solar, Energia solar, Energia solar, Energia solar, Energia solar, Energia solar, Energia solar, Energia solar, Energia solar, Energia solar, Energia solar, Energia solar, Energia solar, Energia solar, Energia solar, Energia solar, Energia solar, Energia solar, Energia solar, Energia solar, Energia solar, Energia solar, Energia solar, Energia solar, Energia solar, Energia solar, Energia solar, Energia solar, Energia solar, Energia solar, Energia solar, Energia solar, Energia solar, Energia solar, Energia solar, Energia solar, Energia solar, Energia solar, Energia solar, Energia solar, Energia solar, Energia solar, Energia solar, Energia solar, Energia solar, Energia solar, Energia solar, Energia solar, Energia solar, Energia solar, Energia solar, Energia solar, Energia solar, Energia solar, Energia solar, Energia solar, Energia solar, Energia solar, Energia solar, Energia solar, Energia solar, Energia solar, Energia solar, Energia solar, Energia solar, Energia solar, Energia solar, Energia solar, Energia solar, Energia solar, Energia solar, Energia solar, Energia solar, Energia solar, Energia solar, Energia solar, Energia solar, Energia solar, Energia solar, Energia solar, Energia solar, Energia solar, Energia solar, Energia solar, Energia solar, Energia solar, Energia solar, Energia solar, Energia solar, Energia solar, Energia solar, Energia solar, Energia solar, Energia solar, Energia solar, Energia solar, Energia solar, Energia solar, Energia solar, Energia solar, Energia solar, Energia solar, Energia solar, Energia solar, Energia solar, Energia solar, Energia solar, Energia solar, Energia solar, Energia solar, Energia solar, Energia solar, Energia solar, Energia solar, Energia solar, Energia solar, Energia solar, Energia solar, Energia solar, Energia solar, Energia solar, Energia solar, Energia solar, Energia solar, Energia solar, Energia solar, Energia solar, Energia solar, Energia solar, Energia solar, Energia solar, Energia solar, Energia solar, Energia solar, Energia solar, Energia solar, Energia solar, Energia solar, Energia solar, Energia solar, Energia solar, Energia solar, Energia solar, Energia solar, Energia solar, Energia solar, Energia solar, Energia solar, Energia solar, Energia solar, Energia solar, Energia solar, Energia solar, Energia solar, Energia solar, Energia solar, Energia solar, Energia solar, Energia solar, Energia solar, Energia solar, Energia solar, Energia solar, Energia solar, Energia solar, Energia solar, Energia solar, Energia solar, Energia solar, Energia solar, Energia solar, Energia solar, Energia solar, Energia solar, Energia solar, Energia solar, Energia solar, Energia solar, Energia solar, Energia solar, Energia solar, Energia solar, Energia solar, Energia solar, Energia solar, Energia solar, Energia solar, Energia solar, Energia solar, Energia solar, Energia solar, Energia solar, Energia solar, Energia solar, Energia solar, Energia solar, Energia solar, Energia solar, Energia solar, Energia solar, Energia solar, Energia solar, Energia solar, Energia solar, Energia solar, Energia solar, Energia solar, Energia solar, Energia solar, Energia solar, Energia solar, Energia solar, Energia solar, Energia solar, Energia solar, Energia solar, Energia solar, Energia solar, Energia solar, Energia solar, Energia solar, Energia solar, Energia solar, Energia solar, Energia solar, Energia solar, Energia solar, Energia solar, Energia solar, Energia solar, Energia solar, Energia solar, Energia solar, Energia solar, Energia solar, Energia solar, Energia solar, Energia solar, Energia solar, Energia solar, Energia solar, Energia solar, Energia solar, Energia solar, Energia solar, Energia solar, Energia solar, Energia solar, Energia solar, Energia solar, Energia solar]|\n",
            "+----------------------------------------------------------------------------------------------------------------------------------------------------------------------------------------------------------------------------------------------------------------------------------------------------------------------------------------------------------------------------------------------------------------------------------------------------------------------------------------------------------------------------------------------------------------------------------------------------------------------------------------------------------------------------------------------------------------------------------------------------------------------------------------------------------------------------------------------------------------------------------------------------------------------------------------------------------------------------------------------------------------------------------------------------------------------------------------------------------------------------------------------------------------------------------------------------------------------------------------------------------------------------------------------------------------------------------------------------------------------------------------------------------------------------------------------------------------------------------------------------------------------------------------------------------------------------------------------------------------------------------------------------------------------------------------------------------------------------------------------------------------------------------------------------------------------------------------------------------------------------------------------------------------------------------------------------------------------------------------------------------------------------------------------------------------------------------------------------------------------------------------------------------------------------------------------------------------------------------------------------------------------------------------------------------------------------------------------------------------------------------------------------------------------------------------------------------------------------------------------------------------------------------------------------------------------------------------------------------------------------------------------------------------------------------------------------------------------------------------------------------------------------------------------------------------------------------------------------------------------------------------------------------------------------------------------------------------------------------------------------------------------------------------------------------------------------------------------------------------------------------------------------------------------------------------------------------------------------------------------------------------------------------------------------------------------------------------------------------------------------------------------------------------------------------------------------------------------------------------------------------------------------------------------------------------------------------------------------------------------------------------------------------------------------------------------------------------------------------------------------------------------------------------------------------------------------------------------------------------------------------------------------------------------------------------------------------------------------------------------------------------------------------------------------------------------------------------------------------------------------------------------------------------------------------------------------------------------------------------------------------------------------------------------------------------------------------------------------------------------------------------------------------------------------------------------------------------------------------------------------------------------------------------------------------------------------------------------------------------------------------------------------------------------------------------------------------------------------------------------------------------------------------------------------------------------------------------------------------------------------------------------------------------------------------------------------------------------------------------------------------------------------------------------------------------------------------------------------------------------------------------------------------------------------------------------------------------------------------------------------------------------------------------------------------------------------------------------------------------------------------------------------------------------------------------------------------------------------------------------------------------------------------------------------------------------------------------------------------------------------------------------------------------------------------------------------------------------------------------------------------------------------------------------------------------------------------------------------------------------------------------------------------------------------------------------------------------------------------------------------------------------------------------------------------------------------------------------------------------------------------------------------------------------------------------------------------------------------------------------------------------------------------------------------------------------------------------------------------------------------------------------------------------------------------------------------------------------------------------------------------------------------------------------------------------------------------------------------------------------------------------------------------------------------------------------------------------------------------------------------------------------------------------------------------------------------------------------------------------------------------------------------------------------------------------------------------------------------------------------------------------------------------------------------------------------------------------------------------------------------------------------------------------------------------------------------------------------------------------------------------------------------------------------------------------------------------------------------------------------------------------------------------------------------------------------------------------------------------------------------------------------------------------------------------------------------------------------------------------------------------------------------------------------------------------------------------------------------------------------------------------------------------------------------------------------------------------------------------------------------------------------------------------------------------------------------------------------------------------------------------------------------------------------------------------------------------------------------------------------------------------------------------------------------------------------------------------------------------------------------------------------------------------------------------------------------------------------------------------------------------------------------------------------------------------------------------------------------------------------------------------------------------------------------------------------------------------------------------------------------------------------------------------------------------------------------------------------------------------------------------------------------------------------------------------------------------------------------------------------------------------------------------------------------------------------------------------------------------------------------------------------------------------------------------------------------------------------------------------------------------------------------------------------------------------------------------------------------------------------------------------------------------------------------------------------------------------------------------------------------------------------------------------------------------------------------------------------------------------------------------------------------------------------------------------------------------------------------------------------------------------------------------------------------------------------------------------------------------------------------------------------------------------------------------------------------------------------------------------------------------------------------------------------------------------------------------------------------------------------------------------------------------------------------------------------------------------------------------------------------------------------------------------------------------------------------------------------------------------------------------------------------------------------------------------------------------------------------------------------------------------------------------------------------------------------------------------------------------------------------------------------------------------------------------------------------------------------------------------------------------------------------------------------------------------------------------------------------------------------------------------------------------------------------------------------------------------------------------------------------------------------------------------------------------------------------------------------------------------------------------------------------------------------------------------------------------------------------------------------------------------------------------------------------------------------------------------------------------------------------------------------------------------------------------------------------------------------------------------------------------------------------------------------------------------------------------------------------------------------------------------------------------------------------------------------------------------------------------------------------------------------------------------------------------------------------------------------------------------------------------------------------------------------------------------------------------------------------------------------------------------------------------------------------------------------------------------------------------------------------------------------------------------------------------------------------------------------------------------------------------------------------------------------------------------------------------------------------------------------------------------------------------------------------------------------------------------------------------------------------------------------------------------------------------------------------------------------------------------------------------------------------------------------------------------------------------------------------------------------------------------------------------------------------------------------------------------------------------------------------------------------------------------------------------------------------------------------------------------------------------------------------------------------------------------------------------------------------------------------------------------------------------------------------------------------------------------------------------------------------------------------------------------------------------------------------------------------------------------------------------------------------------------------------------------------------------------------------------------------------------------------------------------------------------------------------------------------------------------------------------------------------------------------------------------------------------------------------------------------------------------------------------------------------------------------------------------------------------------------------------------------------------------------------------------------------------------------------------------------------------------------------------------------------------------------------------------------------------------------------------------------------------------------------------------------------------------------------------------------------------------------------------------------------------------------------------------------------------------------------------------------------------------------------------------------------------------------------------------------------------------------------------------------------------------------------------------------------------------------------------------------------------------------------------------------------------------------------------------------------------------------------------------------------------------------------------------------------------------------------------------------------------------------------------------------------------------------------------------------------------------------------------------------------------------------------------------------------------------------------------------------------------------------------------------------------------------------------------------------------------------------------------------------------------------------------------------------------------------------------------------------------------------------------------------------------------------------------------------------------------------------------------------------------------------------------------------------------------------------------------------------------------------------------------------------------------------------------------------------------------------------------------------------------------------------------------------------------------------------------------------------------------------------------------------------------------------------------------------------------------------------------------------------------------------------------------------------------------------------------------------------------------------------------------------------------------------------------------------------------------------------------------------------------------------------------------------------------------------------------------------------------------------------------------------------------------------------------------------------------------------------------------------------------------------------------------------------------------------------------------------------------------------------------------------------------------------------------------------------------------------------------------------------------------------------------------------------------------------------------------------------------------------------------------------------------------------------------------------------------------------------------------------------------------------------------------------------------------------------------------------------------------------------------------------------------------------------------------------------------------------------------------------------------------------------------------------------------------------------------------------------------------------------------------------------------------------------------------------------------------------------------------------------------------------------------------------------------------------------------------------------------------------------------------------------------------------------------------------------------------------------------------------------------------------------------------------------------------------------------------------------------------------------------------------------------------------------------------------------------------------------------------------------------------------------------------------------------------------------------------------------------------------------------------------------------------------------------------------------------------------------------------------------------------------------------------------------------------------------------------------------------------------------------------------------------------------------------------------------------------------------------------------------------------------------------------------------------------------------------------------------------------------------------------------------------------------------------------------------------------------------------------------------------------------------------------------------------------------------------------------------------------------------------------------------------------------------------------------------------------------------------------------------------------------------------------------------------------------------------------------------------------------------------------------------------------------------------------------------------------------------------------------------------------------------------------------------------------------------------------------------------------------------------------------------------------------------------------------------------------------------------------------------------------------------------------------------------------------------------------------------------------------------------------------------------------------------------------------------------------------------------------------------------------------------------------------------------------------------------------------------------------------------------------------------------------------------------------------------------------------------------------------------------------------------------------------------------------------------------------------------------------------------------------------------------------------------------------------------------------------------------------------------------------------------------------------------------------------------------------------------------------------------------------------------------------------------------------------------------------------------------------------------------------------------------------------------------------------------------------------------------------------------------------------------------------------------------------------------------------------------------------------------------------------------------------------------------------------------------------------------------------------------------------------------------------------------------------------------------------------------------------------------------------------------------------------------------------------------------------------------------------------------------------------------------------------------------------------------------------------------------------------------------------------------------------------------------------------------------------------------------------------------------------------------------------------------------------------------------------------------------------------------------------------------------------------------------------------------------------------------------------------------------------------------------------------------------------------------------------------------------------------------------------------------------------------------------------------------------------------------------------------------------------------------------------------------------------------------------------------------------------------------------------------------------------------------------------------------------------------------------------------------------------------------------------------------------------------------------------------------------------------------------------------------------------------------------------------------------------------------------------------------------------------------------------------------------------------------------------------------------------------------------------------------------------------------------------------------------------------------------------------------------------------------------------------------------------------------------------------------------------------------------------------------------------------------------------------------------------------------------------------------------------------------------------------------------------------------------------------------------------------------------------------------------------------------------------------------------------------------------------------------------------------------------------------------------------------------------------------------------------------------------------------------------------------------------------------------------------------------------------------------------------------------------------------------------------------------------------------------------------------------------------------------------------------------------------------------------------------------------------------------------------------------------------------------------------------------------------------------------------------------------------------------------------------------------------------------------------------------------------------------------------------------------------------------------------------------------------------------------------------------------------------------------------------------------------------------------------------------------------------------------------------------------------------------------------------------------------------------------------------------------------------------------------------------------------------------------------------------------------------------------------------------------------------------------------------------------------------------------------------------------------------------------------------------------------------------------------------------------------------------------------------------------------------------------------------------------------------------------------------------------------------------------------------------------------------------------------------------------------------------------------------------------------------------------------------------------------------------------------------------------------------------------------------------------------------------------------------------------------------------------------------------------------------------------------------------------------------------------------------------------------------------------------------------------------------------------------------------------------------------------------------------------------------------------------------------------------------------------------------------------------------------------------------------------------------------------------------------------------------------------------------------------------------------------------------------------------------------------------------------------------------------------------------------------------------------------------------------------------------------------------------------------------------------------------------------------------------------------------------------------------------------------------------------------------------------------------------------------------------------------------------------------------------------------------------------------------------------------------------------------------------------------------------------------------------------------------------------------------------------------------------------------------------------------------------------------------------------------------------------------------------------------------------------------------------------------------------------------------------------------------------------------------------------------------------------------------------------------------------------------------------------------------------------------------------------------------------------------------------------------------------------------------------------------------------------------------------------------------------------------------------------------------------------------------------------------------------------------------------------------------------------------------------------------------------------------------------------------------------------------------------------------------------------------------------------------------------------------------------------------------------------------------------------------------------------------------------------------------------------------------------------------------------------------------------------------------------------------------------------------------------------------------------------------------------------------------------------------------------------------------------------------------------------------------------------------------------------------------------------------------------------------------------------------------------------------------------------------------------------------------------------------------------------------------------------------------------------------------------------------------------------------------------------------------------------------------------------------------------------------------------------------------------------------------------------------------------------------------------------------------------------------------------------------------------------------------------------------------------------------------------------------------------------------------------------------------------------------------------------------------------------------------------------------------------------------------------------------------------------------------------------------------------------------------------------------------------------------------------------------------------------------------------------------------------------------------------------------------------------------------------------------------------------------------------------------------------------------------------------------------------------------------------------------------------------------------------------------------------------------------------------------------------------------------------------------------------------------------------------------------------------------------------------------------------------------------------------------------------------------------------------------------------------------------------------------------------------------------------------------------------------------------------------------------------------------------------------------------------------------------------------------------------------------------------------------------------------------------------------------------------------------------------------------------------------------------------------------------------------------------------------------------------------------------------------------------------------------------------------------------------------------------------------------------------------------------------------------------------------------------------------------------------------------------------------------------------------------------------------------------------------------------------------------------------------------------------------------------------------------------------------------------------------------------------------------------------------------------------------------------------------------------------------------------------------------------------------------------------------------------------------------------------------------------------------------------------------------------------------------------------------------------------------------------------------------------------------------------------------------------------------------------------------------------------------------------------------------------------------------------------------------------------------------------------------------------------------------------------------------------------------------------------------------------------------------------------------------------------------------------------------------------------------------------------------------------------------------------------------------------------------------------------------------------------------------------------------------------------------------------------------------------------------------------------------------------------------------------------------------------------------------------------------------------------------------------------------------------------------------------------------------------------------------------------------------------------------------------------------------------------------------------------------------------------------------------------------------------------------------------------------------------------------------------------------------------------------------------------------------------------------------------------------------------------------------------------------------------------------------------------------------------------------------------------------------------------------------------------------------------------------------------------------------------------------------------------------------------------------------------------------------------------------------------------------------------------------------------------------------------------------------------------------------------------------------------------------------------------------------------------------------------------------------------------------------------------------------------------------------------------------------------------------------------------------------------------------------------------------------------------------------------------------------------------------------------------------------------------------------------------------------------------------------------------------------------------------------------------------------------------------------------------------------------------------------------------------------------------------------------------------------------------------------------------------------------------------------------------------------------------------------------------------------------------------------------------------------------------------------------------------------------------------------------------------------------------------------------------------------------------------------------------------------------------------------------------------------------------------------------------------------------------------------------------------------------------------------------------------------------------------------------------------------------------------------------------------------------------------------------------------------------------------------------------------------------------------------------------------------------------------------------------------------------------------------------------------------------------------------------------------------------------------------------------------------------------------------------------------------------------------------------------------------------------------------------------------------------------------------------------------------------------------------------------------------------------------------------------------------------------------------------------------------------------------------------------------------------------------------------------------------------------------------------------------------------------------------------------------------------------------------------------------------------------------------------------------------------------------------------------------------------------------------------------------------------------------------------------------------------------------------------------------------------------------------------------------------------------------------------------------------------------------------------------------------------------------------------------------------------------------------------------------------------------------------------------------------------------------------------------------------------------------------------------------------------------------------------------------------------------------------------------------------------------------------------------------------------------------------------------------------------------------------------------------------------------------------------------------------------------------------------------------------------------------------------------------------------------------------------------------------------------------------------------------------------------------------------------------------------------------------------------------------------------------------------------------------------------------------------------------------------------------------------------------------------------------------------------------------------------------------------------------------------------------------------------------------------------------------------------------------------------------------------------------------------------------------------------------------------------------------------------------------------------------------------------------------------------------------------------------------------------------------------------------------------------------------------------------------------------------------------------------------------------------------------------------------------------------------------------------------------------------------------------------------------------------------------------------------------------------------------------------------------------------------------------------------------------------------------------------------------------------------------------------------------------------------------------------------------------------------------------------------------------------------------------------------------------------------------------------------------------------------------------------------------------------------------------------------------------------------------------------------------------------------------------------------------------------------------------------------------------------------------------------------------------------------------------------------------------------------------------------------------------------------------------------------------------------------------------------------------------------------------------------------------------------------------------------------------------------------------------------------------------------------------------------------------------------------------------------------------------------------------------------------------------------------------------------------------------------------------------------------------------------------------------------------------------------------------------------------------------------------------------------------------------------------------------------------------------------------------------------------------------------------------------------------------------------------------------------------------------------------------------------------------------------------------------------------------------------------------------------------------------------------------------------------------------------------------------------------------------------------------------------------------------------------------------------------------------------------------------------------------------------------------------------------------------------------------------------------------------------------------------------------------------------------------------------------------------------------------------------------------------------------------------------------------------------------------------------------------------------------------------------------------------------------------------------------------------------------------------------------------------------------------------------------------------------------------------------------------------------------------------------------------------------------------------------------------------------------------------------------------------------------------------------------------------------------------------------------------------------------------------------------------------------------------------------------------------------------------------------------------------------------------------------------------------------------------------------------------------------------------------------------------------------------------------------------------------------------------------------------------------------------------------------------------------------------------------------------------------------------------------------------------------------------------------------------------------------------------------------------------------------------------------------------------------------------------------------------------------------------------------------------------------------------------------------------------------------------------------------------------------------------------------------------------------------------------------------------------------------------------------------------------------------------------------------------------------------------------------------------------------------------------------------------------------------------------------------------------------------------------------------------------------------------------------------------------------------------------------------------------------------------------------------------------------------------------------------------------------------------------------------------------------------------------------------------------------------------------------------------------------------------------------------------------------------------------------------------------------------------------------------------------------------------------------------------------------------------------------------------------------------------------------------------------------------------------------------------------------------------------------------------------------------------------------------------------------------------------------------------------------------------------------------------------------------------------------------------------------------------------------------------------------------------------------------------------------------------------------------------------------------------------------------------------------------------------------------------------------------------------------------------------------------------------------------------------------------------------------------------------------------------------------------------------------------------------------------------------------------------------------------------------------------------------------------------------------------------------------------------------------------------------------------------------------------------------------------------------------------------------------------------------------------------------------------------------------------------------------------------------------------------------------------------------------------------------------------------------------------------------------------------------------------------------------------------------------------------------------------------------------------------------------------------------------------------------------------------------------------------------------------------------------------------------------------------------------------------------------------------------------------------------------------------------------------------------------------------------------------------------------------------------------------------------------------------------------------------------------------------------------------------------------------------------------------------------------------------------------------------------------------------------------------------------------------------------------------------------------------------------------------------------------------------------------------------------------------------------------------------------------------------------------------------------------------------------------------------------------------------------------------------------------------------------------------------------------------------------------------------------------------------------------------------------------------------------------------------------------------------------------------------------------------------------------------------------------------------------------------------------------------------------------------------------------------------------------------------------------------------------------------------------------------------------------------------------------------------------------------------------------------------------------------------------------------------------------------------------------------------------------------------------------------------------------------------------------------------------------------------------------------------------------------------------------------------------------------------------------------------------------------------------------------------------------------------------------------------------------------------------------------------------------------------------------------------------------------------------------------------------------------------------------------------------------------------------------------------------------------------------------------------------------------------------------------------------------------------------------------------------------------------------------------------------------------------------------------------------------------------------------------------------------------------------------------------------------------------------------------------------------------------------------------------------------------------------------------------------------------------------------------------------------------------------------------------------------------------------------------------------------------------------------------------------------------------------------------------------------------------------------------------------------------------------------------------------------------------------------------------------------------------------------------------------------------------------------------------------------------------------------------------------------------------------------------------------------------------------------------------------------------------------------------------------------------------------------------------------------------------------------------------------------------------------------------------------------------------------------------------------------------------------------------------------------------------------------------------------------------------------------------------------------------------------------------------------------------------------------------------------------------------------------------------------------------------------------------------------------------------------------------------------------------------------------------------------------------------------------------------------------------------------------------------------------------------------------------------------------------------------------------------------------------------------------------------------------------------------------------------------------------------------------------------------------------------------------------------------------------------------------------------------------------------------------------------------------------------------------------------------------------------------------------------------------------------------------------------------------------------------------------------------------------------------------------------------------------------------------------------------------------------------------------------------------------------------------------------------------------------------------------------------------------------------------------------------------------------------------------------------------------------------------------------------------------------------------------------------------------------------------------------------------------------------------------------------------------------------------------------------------------------------------------------------------------------------------------------------------------------------------------------------------------------------------------------------------------------------------------------------------------------------------------------------------------------------------------------------------------------------------------------------------------------------------------------------------------------------------------------------------------------------------------------------------------------------------------------------------------------------------------------------------------------------------------------------------------------------------------------------------------------------------------------------------------------------------------------------------------------------------------------------------------------------------------------------------------------------------------------------------------------------------------------------------------------------------------------------------------------------------------------------------------------------------------------------------------------------------------------------------------------------------------------------------------------------------------------------------------------------------------------------------------------------------------------------------------------------------------------------------------------------------------------------------------------------------------------------------------------------------------------------------------------------------------------------------------------------------------------------------------------------------------------------------------------------------------------------------------------------------------------------------------------------------------------------------------------------------------------------------------------------------------------------------------------------------------------------------------------------------------------------------------------------------------------------------------------------------------------------------------------------------------------------------------------------------------------------------------------------------------------------------------------------------------------------------------------------------------------------------------------------------------------------------------------------------------------------------------------------------------------------------------------------------------------------------------------------------------------------------------------------------------------------------------------------------------------------------------------------------------------------------------------------------------------------------------------------------------------------------------------------------------------------------------------------------------------------------------------------------------------------------------------------------------------------------------------------------------------------------------------------------------------------------------------------------------------------------------------------------------------------------------------------------------------------------------------------------------------------------------------------------------------------------------------------------------------------------------------------------------------------------------------------------------------------------------------------------------------------------------------------------------------------------------------------------------------------------------------------------------------------------------------------------------------------------------------------------------------------------------------------------------------------------------------------------------------------------------------------------------------------------------------------------------------------------------------------------------------------------------------------------------------------------------------------------------------------------------------------------------------------------------------------------------------------------------------------------------------------------------------------------------------------------------------------------------------------------------------------------------------------------------------------------------------------------------------------------------------------------------------------------------------------------------------------------------------------------------------------------------------------------------------------------------------------------------------------------------------------------------------------------------------------------------------------------------------------------------------------------------------------------------------------------------------------------------------------------------------------------------------------------------------------------------------------------------------------------------------------------------------------------------------------------------------------------------------------------------------------------------------------------------------------------------------------------------------------------------------------------------------------------------------------------------------------------------------------------------------------------------------------------------------------------------------------------------------------------------------------------------------------------------------------------------------------------------------------------------------------------------------------------------------------------------------------------------------------------------------------------------------------------------------------------------------------------------------------------------------------------------------------------------------------------------------------------------------------------------------------------------------------------------------------------------------------------------------------------------------------------------------------------------------------------------------------------------------------------------------------------------------------------------------------------------------------------------------------------------------------------------------------------------------------------------------------------------------------------------------------------------------------------------------------------------------------------------------------------------------------------------------------------------------------------------------------------------------------------------------------------------------------------------------------------------------------------------------------------------------------------------------------------------------------------------------------------------------------------------------------------------------------------------------------------------------------------------------------------------------------------------------------------------------------------------------------------------------------------------------------------------------------------------------------------------------------------------------------------------------------------------------------------------------------------------------------------------------------------------------------------------------------------------------------------------------------------------------------------------------------------------------------------------------------------------------------------------------------------------------------------------------------------------------------------------------------------------------------------------------------------------------------------------------------------------------------------------------------------------------------------------------------------------------------------------------------------------------------------------------------------------------------------------------------------------------------------------------------------------------------------------------------------------------------------------------------------------------------------------------------------------------------------------------------------------------------------------------------------------------------------------------------------------------------------------------------------------------------------------------------------------------------------------------------------------------------------------------------------------------------------------------------------------------------------------------------------------------------------------------------------------------------------------------------------------------------------------------------------------------------------------------------------------------------------------------------------------------------------------------------------------------------------------------------------------------------------------------------------------------------------------------------------------------------------------------------------------------------------------------------------------------------------------------------------------------------------------------------------------------------------------------------------------------------------------------------------------------------------------------------------------------------------------------------------------------------------------------------------------------------------------------------------------------------------------------------------------------------------------------------------------------------------------------------------------------------------------------------------------------------------------------------------------------------------------------------------------------------------------------------------------------------------------------------------------------------------------------------------------------------------------------------------------------------------------------------------------------------------------------------------------------------------------------------------------------------------------------------------------------------------------------------------------------------------------------------------------------------------------------------------------------------------------------------------------------------------------------------------------------------------------------------------------------------------------------------------------------------------------------------------------------------------------------------------------------------------------------------------------------------------------------------------------------------------------------------------------------------------------------------------------------------------------------------------------------------------------------------------------------------------------------------------------------------------------------------------------------------------------------------------------------------------------------------------------------------------------------------------------------------------------------------------------------------------------------------------------------------------------------------------------------------------------------------------------------------------------------------------------------------------------------------------------------------------------------------------------------------------------------------------------------------------------------------------------------------------------------------------------------------------------------------------------------------------------------------------------------------------------------------------------------------------------------------------------------------------------------------------------------------------------------------------------------------------------------------------------------------------------------------------------------------------------------------------------------------------------------------------------------------------------------------------------------------------------------------------------------------------------------------------------------------------------------------------------------------------------------------------------------------------------------------------------------------------------------------------------------------------------------------------------------------------------------------------------------------------------------------------------------------------------------------------------------------------------------------------------------------------------------------------------------------------------------------------------------------------------------------------------------------------------------------------------------------------------------------------------------------------------------------------------------------------------------------------------------------------------------------------------------------------------------------------------------------------------------------------------------------------------------------------------------------------------------------------------------------------------------------------------------------------------------------------------------------------------------------------------------------------------------------------------------------------------------------------------------------------------------------------------------------------------------------------------------------------------------------------------------------------------------------------------------------------------------------------------------------------------------------------------------------------------------------------------------------------------------------------------------------------------------------------------------------------------------------------------------------------------------------------------------------------------------------------------------------------------------------------------------------------------------------------------------------------------------------------------------------------------------------------------------------------------------------------------------------------------------------------------------------------------------------------------------------------------------------------------------------------------------------------------------------------------------------------------------------------------------------------------------------------------------------------------------------------------------------------------------------------------------------------------------------------------------------------------------------------------------------------------------------------------------------------------------------------------------------------------------------------------------------------------------------------------------------------------------------------------------------------------------------------------------------------------------------------------------------------------------------------------------------------------------------------------------------------------------------------------------------------------------------------------------------------------------------------------------------------------------------------------------------------------------------------------------------------------------------------------------------------------------------------------------------------------------------------------------------------------------------------------------------------------------------------------------------------------------------------------------------------------------------------------------------------------------------------------------------------------------------------------------------------------------------------------------------------------------------------------------------------------------------------------------------------------------------------------------------------------------------------------------------------------------------------------------------------------------------------------------------------------------------------------------------------------------------------------------------------------------------------------------------------------------------------------------------------------------------------------------------------------------------------------------------------------------------------------------------------------------------------------------------------------------------------------------------------------------------------------------------------------------------------------------------------------------------------------------------------------------------------------------------------------------------------------------------------------------------------------------------------------------------------------------------------------------------------------------------------------------------------------------------------------------------------------------------------------------------------------------------------------------------------------------------------------------------------------------------------------------------------------------------------------------------------------------------------------------------------------------------------------------------------------------------------------------------------------------------------------------------------------------------------------------------------------------------------------------------------------------------------------------------------------------------------------------------------------------------------------------------------------------------------------------------------------------------------------------------------------------------------------------------------------------------------------------------------------------------------------------------------------------------------------------------------------------------------------------------------------------------------------------------------------------------------------------------------------------------------------------------------------------------------------------------------------------------------------------------------------------------------------------------------------------------------------------------------------------------------------------------------------------------------------------------------------------------------------------------------------------------------------------------------------------------------------------------------------------------------------------------------------------------------------------------------------------------------------------------------------------------------------------------------------------------------------------------------------------------------------------------------------------------------------------------------------------------------------------------------------------------------------------------------------------------------------------------------------------------------------------------------------------------------------------------------------------------------------------------------------------------------------------------------------------------------------------------------------------------------------------------------------------------------------------------------------------------------------------------------------------------------------------------------------------------------------------------------------------------------------------------------------------------------------------------------------------------------------------------------------------------------------------------------------------------------------------------------------------------------------------------------------------------------------------------------------------------------------------------------------------------------------------------------------------------------------------------------------------------------------------------------------------------------------------------------------------------------------------------------------------------------------------------------------------------------------------------------------------------------------------------------------------------------------------------------------------------------------------------------------------------------------------------------------------------------------------------------------------------------------------------------------------------------------------------------------------------------------------------------------------------------------------------------------------------------------------------------------------------------------------------------------------------------------------------------------------------------------------------------------------------------------------------------------------------------------------------------------------------------------------------------------------------------------------------------------------------------------------------------------------------------------------------------------------------------------------------------------------------------------------------------------------------------------------------------------------------------------------------------------------------------------------------------------------------------------------------------------------------------------------------------------------------------------------------------------------------------------------------------------------------------------------------------------------------------------------------------------------------------------------------------------------------------------------------------------------------------------------------------------------------------------------------------------------------------------------------------------------------------------------------------------------------------------------------------------------------------------------------------------------------------------------------------------------------------------------------------------------------------------------------------------------------------------------------------------------------------------------------------------------------------------------------------------------------------------------------------------------------------------------------------------------------------------------------------------------------------------------------------------------------------------------------------------------------------------------------------------------------------------------------------------------------------------------------------------------------------------------------------------------------------------------------------------------------------------------------------------------------------------------------------------------------------------------------------------------------------------------------------------------------------------------------------------------------------------------------------------------------------------------------------------------------------------------------------------------------------------------------------------------------------------------------------------------------------------------------------------------------------------------------------------------------------------------------------------------------------------------------------------------------------------------------------------------------------------------------------------------------------------------------------------------------------------------------------------------------------------------------------------------------------------------------------------------------------------------------------------------------------------------------------------------------------------------------------------------------------------------------------------------------------------------------------------------------------------------------------------------------------------------------------------------------------------------------------------------------------------------------------------------------------------------------------------------------------------------------------------------------------------------------------------------------------------------------------------------------------------------------------------------------------------------------------------------------------------------------------------------------------------------------------------------------------------------------------------------------------------------------------------------------------------------------------------------------------------------------------------------------------------------------------------------------------------------------------------------------------------------------------------------------------------------------------------------------------------------------------------------------------------------------------------------------------------------------------------------------------------------------------------------------------------------------------------------------------------------------------------------------------------------------------------------------------------------------------------------------------------------------------------------------------------------------------------------------------------------------------------------------------------------------------------------------------------------------------------------------------------------------------------------------------------------------------------------------------------------------------------------------------------------------------------------------------------------------------------------------------------------------------------------------------------------------------------------------------------------------------------------------------------------------------------------------------------------------------------------------------------------------------------------------------------------------------------------------------------------------------------------------------------------------------------------------------------------------------------------------------------------------------------------------------------------------------------------------------------------------------------------------------------------------------------------------------------------------------------------------------------------------------------------------------------------------------------------------------------------------------------------------------------------------------------------------------------------------------------------------------------------------------------------------------------------------------------------------------------------------------------------------------------------------------------------------------------------------------------------------------------------------------------------------------------------------------------------------------------------------------------------------------------------------------------------------------------------------------------------------------------------------------------------------------------------------------------------------------------------------------------------------------------------------------------------------------------------------------------------------------------------------------------------------------------------------------------------------------------------------------------------------------------------------------------------------------------------------------------------------------------------------------------------------------------------------------------------------------------------------------------------------------------------------------------------------------------------------------------------------------------------------------------------------------------------------------------------------------------------------------------------------------------------------------------------------------------------------------------------------------------------------------------------------------------------------------------------------------------------------------------------------------------------------------------------------------------------------------------------------------------------------------------------------------------------------------------------------------------------------------------------------------------------------------------------------------------------------------------------------------------------------------------------------------------------------------------------------------------------------------------------------------------------------------------------------------------------------------------------------------------------------------------------------------------------------------------------------------------------------------------------------------------------------------------------------------------------------------------------------------------------------------------------------------------------------------------------------------------------------------------------------------------------------------------------------------------------------------------------------------------------------------------------------------------------------------------------------------------------------------------------------------------------------------------------------------------------------------------------------------------------------------------------------------------------------------------------------------------------------------------------------------------------------------------------------------------------------------------------------------------------------------------------------------------------------------------------------------------------------------------------------------------------------------------------------------------------------------------------------------------------------------------------------------------------------------------------------------------------------------------------------------------------------------------------------------------------------------------------------------------------------------------------------------------------------------------------------------------------------------------------------------------------------------------------------------------------------------------------------------------------------------------------------------------------------------------------------------------------------------------------------------------------------------------------------------------------------------------------------------------------------------------------------------------------------------------------------------------------------------------------------------------------------------------------------------------------------------------------------------------------------------------------------------------------------------------------------------------------------------------------------------------------+\n",
            "\n"
          ]
        }
      ]
    },
    {
      "cell_type": "code",
      "source": [
        "nuevo_energia_df.groupBy(\"actividad_producto_nombre\").count()"
      ],
      "metadata": {
        "id": "xQH-jr247lIn",
        "colab": {
          "base_uri": "https://localhost:8080/"
        },
        "outputId": "0e487c8d-4b75-4b46-aaff-eaba32fa2774"
      },
      "execution_count": null,
      "outputs": [
        {
          "output_type": "execute_result",
          "data": {
            "text/plain": [
              "DataFrame[actividad_producto_nombre: string, count: bigint]"
            ]
          },
          "metadata": {},
          "execution_count": 34
        }
      ]
    },
    {
      "cell_type": "code",
      "source": [
        "# (SE DIERON CUENTA DE ALGO??? LA GENTE QUE HIZO EL EJERCICIO DE LA PRIMERA CLASE ENTENDERA!!!)\n",
        "nuevo_energia_df.groupBy(\"actividad_producto_nombre\").count().show() # es interesante ver que aqui el count() NO es una accion, haz la prueba..."
      ],
      "metadata": {
        "colab": {
          "base_uri": "https://localhost:8080/"
        },
        "id": "KVhJxmJA8Bum",
        "outputId": "6131f921-75e3-40ca-c462-bf3800605ab2"
      },
      "execution_count": null,
      "outputs": [
        {
          "output_type": "stream",
          "name": "stdout",
          "text": [
            "+-------------------------+-----+\n",
            "|actividad_producto_nombre|count|\n",
            "+-------------------------+-----+\n",
            "|            Energia solar|  564|\n",
            "|           Energia biogas|  552|\n",
            "|              Energia pah| 2172|\n",
            "|          Energia biomasa|  540|\n",
            "|          Energia nuclear|  456|\n",
            "|           Energia eolica| 1027|\n",
            "+-------------------------+-----+\n",
            "\n"
          ]
        }
      ]
    },
    {
      "cell_type": "code",
      "source": [
        "nuevo_energia_df.groupBy(\"actividad_producto_nombre\").agg({\"valor\": \"avg\"}).withColumnRenamed(\"avg(valor)\", \"promedio\").show()"
      ],
      "metadata": {
        "colab": {
          "base_uri": "https://localhost:8080/"
        },
        "id": "IkJx7_Fp8P_s",
        "outputId": "00030bc6-216a-4e07-9af5-ff3d1f97d463"
      },
      "execution_count": null,
      "outputs": [
        {
          "output_type": "stream",
          "name": "stdout",
          "text": [
            "+-------------------------+------------------+\n",
            "|actividad_producto_nombre|          promedio|\n",
            "+-------------------------+------------------+\n",
            "|            Energia solar| 4166.521010638324|\n",
            "|           Energia biogas|2079.9216793478367|\n",
            "|              Energia pah| 6805.738040055162|\n",
            "|          Energia biomasa|3862.2890185185174|\n",
            "|          Energia nuclear|147481.33160745626|\n",
            "|           Energia eolica| 18560.90006523843|\n",
            "+-------------------------+------------------+\n",
            "\n"
          ]
        }
      ]
    },
    {
      "cell_type": "code",
      "source": [
        "promedios_df = nuevo_energia_df.groupBy(\"actividad_producto_nombre\").agg({\"valor\": \"avg\"}).withColumnRenamed(\"avg(valor)\", \"promedio\")"
      ],
      "metadata": {
        "id": "wADTG83ZRZRv"
      },
      "execution_count": null,
      "outputs": []
    },
    {
      "cell_type": "markdown",
      "source": [
        "### Escribiendolos a un archivo csv"
      ],
      "metadata": {
        "id": "frNXVtW88bp7"
      }
    },
    {
      "cell_type": "code",
      "source": [
        "promedios_df.write.csv(path='/content/promedios', header=True, sep=',')"
      ],
      "metadata": {
        "id": "hsEZmvn_8OmC"
      },
      "execution_count": null,
      "outputs": []
    },
    {
      "cell_type": "markdown",
      "source": [
        "### Joineando\n",
        "Una de las operaciones mas comunes a la hora de trabajar con datos puede ser la de como unir dos tablas distintas en base a ciertos criterios (normalmente la equivalencia entre una columna de una tabla con una columna de la otra).\n",
        "\n",
        "Dentro de Spark es bastante facil joinear tablas (Dataframes) sin embargo podriamos encontrar ciertos retos que por estar trabajando con un Framework de procesamiento distribuido vamos a tener que tener en cuenta."
      ],
      "metadata": {
        "id": "fVsB6CiT81rt"
      }
    },
    {
      "cell_type": "code",
      "source": [
        "informacion_de_productos = [\n",
        "        {\"categoria\": 'A', \"sku\": 1, \"valor\": 121.44},\n",
        "        {\"categoria\": 'B', \"sku\": 2, \"valor\": 300.01},\n",
        "        {\"categoria\": 'C', \"sku\": 3, \"valor\": 10.99},\n",
        "        {\"categoria\": 'C', \"sku\": 3, \"valor\": 33.87},\n",
        "        {\"categoria\": 'C', \"sku\": 3, \"valor\": 45.12},\n",
        "        {\"categoria\": 'C', \"sku\": 3, \"valor\": 69.15},\n",
        "        {\"categoria\": 'A', \"sku\": 1, \"valor\": 88.32},\n",
        "        {\"categoria\": 'B', \"sku\": 2, \"valor\": 11.11},\n",
        "        {\"categoria\": 'A', \"sku\": 1, \"valor\": 25.65},\n",
        "        {\"categoria\": 'B', \"sku\": 2, \"valor\": 522.60},\n",
        "       ]\n",
        "\n",
        "\n",
        "productos = [\n",
        "    {\"sku_nr\": 1, \"nombre\": \"remera\"},\n",
        "    {\"sku_nr\": 2, \"nombre\": \"pantalon\"},\n",
        "    {\"sku_nr\": 3, \"nombre\": \"mate\"},\n",
        "]"
      ],
      "metadata": {
        "id": "3L4b9rJl9jLE"
      },
      "execution_count": null,
      "outputs": []
    },
    {
      "cell_type": "code",
      "source": [
        "info_prod_df = spark.createDataFrame(informacion_de_productos)\n",
        "prod_df = spark.createDataFrame(productos)"
      ],
      "metadata": {
        "id": "HPnlG98m-00j"
      },
      "execution_count": null,
      "outputs": []
    },
    {
      "cell_type": "code",
      "source": [
        "info_prod_df.show()\n",
        "prod_df.show()"
      ],
      "metadata": {
        "colab": {
          "base_uri": "https://localhost:8080/"
        },
        "id": "Pw43Ualk--ry",
        "outputId": "92e0e822-2ce4-415c-f3ca-4a29b5902756"
      },
      "execution_count": null,
      "outputs": [
        {
          "output_type": "stream",
          "name": "stdout",
          "text": [
            "+---------+---+------+\n",
            "|categoria|sku| valor|\n",
            "+---------+---+------+\n",
            "|        A|  1|121.44|\n",
            "|        B|  2|300.01|\n",
            "|        C|  3| 10.99|\n",
            "|        C|  3| 33.87|\n",
            "|        C|  3| 45.12|\n",
            "|        C|  3| 69.15|\n",
            "|        A|  1| 88.32|\n",
            "|        B|  2| 11.11|\n",
            "|        A|  1| 25.65|\n",
            "|        B|  2| 522.6|\n",
            "+---------+---+------+\n",
            "\n",
            "+--------+------+\n",
            "|  nombre|sku_nr|\n",
            "+--------+------+\n",
            "|  remera|     1|\n",
            "|pantalon|     2|\n",
            "|    mate|     3|\n",
            "+--------+------+\n",
            "\n"
          ]
        }
      ]
    },
    {
      "cell_type": "markdown",
      "source": [
        "### Ten cuidado al joinear, puede salirte MUY caro\n",
        "\n",
        "Explicado de manera simple en Spark puedes tener dos tipos de tablas, las grandes y las pequeñas. A pesar de que hablar del tamaño de una tabla es hablar de un espectro, sere radicalista en explicación con el fin de que puedas tomar una decision de manera binaria si llegas a tener una situacion parecida."
      ],
      "metadata": {
        "id": "NUVYZh-S9jea"
      }
    },
    {
      "cell_type": "markdown",
      "source": [
        "#### Tabla grande - Tabla grande\n",
        "En este caso Spark realiza un Shuffle Join (transformacion wide). En este tipo de join cada uno de los nodos se comunica con topos y cada uno de los otros nodos, lo cual causa un gran trafico en el cluster y puede llegar a ser una de las operaciones mas caras dentro de tu proceso.\n",
        "\n",
        "\n"
      ],
      "metadata": {
        "id": "I4qJfg2A9jg4"
      }
    },
    {
      "cell_type": "code",
      "source": [
        "info_prod_df.join(prod_df, info_prod_df.sku == prod_df.sku_nr, how=\"inner\").drop(\"sku_nr\").show()"
      ],
      "metadata": {
        "colab": {
          "base_uri": "https://localhost:8080/"
        },
        "id": "tjOayalGHcd8",
        "outputId": "45048cb1-e5bf-48f4-d416-55fe60e81509"
      },
      "execution_count": null,
      "outputs": [
        {
          "output_type": "stream",
          "name": "stdout",
          "text": [
            "+---------+---+------+--------+\n",
            "|categoria|sku| valor|  nombre|\n",
            "+---------+---+------+--------+\n",
            "|        A|  1|121.44|  remera|\n",
            "|        A|  1| 88.32|  remera|\n",
            "|        A|  1| 25.65|  remera|\n",
            "|        B|  2|300.01|pantalon|\n",
            "|        B|  2| 11.11|pantalon|\n",
            "|        B|  2| 522.6|pantalon|\n",
            "|        C|  3| 10.99|    mate|\n",
            "|        C|  3| 33.87|    mate|\n",
            "|        C|  3| 45.12|    mate|\n",
            "|        C|  3| 69.15|    mate|\n",
            "+---------+---+------+--------+\n",
            "\n"
          ]
        }
      ]
    },
    {
      "cell_type": "markdown",
      "source": [
        "#### Tabla grande - Tabla pequeña\n",
        "\n",
        "(o dicho de otra manera, que cabe en memoria)\n",
        "\n",
        "En este caso se puede realizar una optimizacion, a pesar de que podemos dejar que suceda un Shuffle Join, es normalmente mejor usar la estrategia del Broadcast Join (transformacion narrow y menos wide). Esto ultimo consiste en hacer una copia de la tabla pequeña en cada una de las memorias de los nodos workers. Puede sonar como que se va a realizar un aumento en el trafico pero en realidad es solo al principio cuando se le envia la tabla pequeñar a los workers, despues el trabajo sucede en cada worker."
      ],
      "metadata": {
        "id": "6XMx_iUFDmWR"
      }
    },
    {
      "cell_type": "code",
      "source": [
        "info_prod_df.join(F.broadcast(prod_df), info_prod_df.sku == prod_df.sku_nr, how=\"inner\").drop(\"sku_nr\").show()"
      ],
      "metadata": {
        "colab": {
          "base_uri": "https://localhost:8080/"
        },
        "id": "LhDtlrAVAvPg",
        "outputId": "358f4b2a-a479-4083-fcd4-42ecff1e2715"
      },
      "execution_count": null,
      "outputs": [
        {
          "output_type": "stream",
          "name": "stdout",
          "text": [
            "+---------+---+------+--------+\n",
            "|categoria|sku| valor|  nombre|\n",
            "+---------+---+------+--------+\n",
            "|        A|  1|121.44|  remera|\n",
            "|        B|  2|300.01|pantalon|\n",
            "|        C|  3| 10.99|    mate|\n",
            "|        C|  3| 33.87|    mate|\n",
            "|        C|  3| 45.12|    mate|\n",
            "|        C|  3| 69.15|    mate|\n",
            "|        A|  1| 88.32|  remera|\n",
            "|        B|  2| 11.11|pantalon|\n",
            "|        A|  1| 25.65|  remera|\n",
            "|        B|  2| 522.6|pantalon|\n",
            "+---------+---+------+--------+\n",
            "\n"
          ]
        }
      ]
    },
    {
      "cell_type": "markdown",
      "source": [
        "# UDF (User Defined Functions)\n",
        "Sirven para extender las funciones que trae el framework por defecto, y poder usar estas \"nuevas funciones\" en multiples dataframes de manera automatizada.\n",
        "\n",
        "- Para un Dataframe: importas la funcion udf desde ```pyspark.sql.functions.udf(nombre_de_la_funcion, tipo_de_dato_del_return)```\n",
        "- Para queries SQL: importas ```spark.udf.register(string, nombre_de_la_funcion, tipo_de_dato_del_return)```"
      ],
      "metadata": {
        "id": "ykPvhPUZg8qR"
      }
    },
    {
      "cell_type": "code",
      "source": [
        "energia_df_2 = spark.read.format(\"csv\")\\\n",
        "                         .option(\"inferSchema\", True)\\\n",
        "                         .option(\"header\", True)\\\n",
        "                         .load(pyspark.SparkFiles.get(\"energias-alternativas.csv\"))"
      ],
      "metadata": {
        "id": "HxO6ZBTyr-nD"
      },
      "execution_count": null,
      "outputs": []
    },
    {
      "cell_type": "code",
      "source": [
        "energia_df_2.show(10, False)"
      ],
      "metadata": {
        "colab": {
          "base_uri": "https://localhost:8080/"
        },
        "id": "WqZaM3DGxYpK",
        "outputId": "31f2f746-f068-495a-97c7-73f4d86e1c58"
      },
      "execution_count": null,
      "outputs": [
        {
          "output_type": "stream",
          "name": "stdout",
          "text": [
            "+---------+---------------------+-----------+-------------------------+----------+----------------+-------+-----------------+----------------+------------+----------+--------------+-------------+--------+\n",
            "|sector_id|sector_nombre        |variable_id|actividad_producto_nombre|indicador |unidad_de_medida|fuente |frecuencia_nombre|cobertura_nombre|alcance_tipo|alcance_id|alcance_nombre|indice_tiempo|valor   |\n",
            "+---------+---------------------+-----------+-------------------------+----------+----------------+-------+-----------------+----------------+------------+----------+--------------+-------------+--------+\n",
            "|25       |Energias alternativas|440        |Energia biogas           |Generacion|MWh             |CAMMESA|Mensual          |Nacional        |PROVINCIA   |6         |BUENOS AIRES  |2012-01-01   |0.0     |\n",
            "|25       |Energias alternativas|440        |Energia biogas           |Generacion|MWh             |CAMMESA|Mensual          |Nacional        |PROVINCIA   |6         |BUENOS AIRES  |2012-02-01   |0.0     |\n",
            "|25       |Energias alternativas|440        |Energia biogas           |Generacion|MWh             |CAMMESA|Mensual          |Nacional        |PROVINCIA   |6         |BUENOS AIRES  |2012-03-01   |0.0     |\n",
            "|25       |Energias alternativas|440        |Energia biogas           |Generacion|MWh             |CAMMESA|Mensual          |Nacional        |PROVINCIA   |6         |BUENOS AIRES  |2012-04-01   |0.0     |\n",
            "|25       |Energias alternativas|440        |Energia biogas           |Generacion|MWh             |CAMMESA|Mensual          |Nacional        |PROVINCIA   |6         |BUENOS AIRES  |2012-05-01   |764.924 |\n",
            "|25       |Energias alternativas|440        |Energia biogas           |Generacion|MWh             |CAMMESA|Mensual          |Nacional        |PROVINCIA   |6         |BUENOS AIRES  |2012-06-01   |3478.232|\n",
            "|25       |Energias alternativas|440        |Energia biogas           |Generacion|MWh             |CAMMESA|Mensual          |Nacional        |PROVINCIA   |6         |BUENOS AIRES  |2012-07-01   |3395.954|\n",
            "|25       |Energias alternativas|440        |Energia biogas           |Generacion|MWh             |CAMMESA|Mensual          |Nacional        |PROVINCIA   |6         |BUENOS AIRES  |2012-08-01   |2928.667|\n",
            "|25       |Energias alternativas|440        |Energia biogas           |Generacion|MWh             |CAMMESA|Mensual          |Nacional        |PROVINCIA   |6         |BUENOS AIRES  |2012-09-01   |2841.751|\n",
            "|25       |Energias alternativas|440        |Energia biogas           |Generacion|MWh             |CAMMESA|Mensual          |Nacional        |PROVINCIA   |6         |BUENOS AIRES  |2012-10-01   |6902.033|\n",
            "+---------+---------------------+-----------+-------------------------+----------+----------------+-------+-----------------+----------------+------------+----------+--------------+-------------+--------+\n",
            "only showing top 10 rows\n",
            "\n"
          ]
        }
      ]
    },
    {
      "cell_type": "code",
      "source": [
        "# hay funciones que trae por defecto (es interesante ver como usar el F.col en el where)\n",
        "energia_df_2.select(\"sector_nombre\", F.sqrt(\"valor\"))\\\n",
        "            .withColumnRenamed(\"SQRT(valor)\", \"sqrt_valor\")\\\n",
        "            .where(F.col(\"sqrt_valor\") > 100)\\\n",
        "            .show(5, False)"
      ],
      "metadata": {
        "colab": {
          "base_uri": "https://localhost:8080/"
        },
        "id": "iRSdRnxwx9sf",
        "outputId": "3772917c-cd70-4de6-9dd0-af3d6cd65493"
      },
      "execution_count": null,
      "outputs": [
        {
          "output_type": "stream",
          "name": "stdout",
          "text": [
            "+---------------------+------------------+\n",
            "|sector_nombre        |sqrt_valor        |\n",
            "+---------------------+------------------+\n",
            "|Energias alternativas|102.4811055756133 |\n",
            "|Energias alternativas|106.34200957288704|\n",
            "|Energias alternativas|103.76036815663291|\n",
            "|Energias alternativas|104.92300986914167|\n",
            "|Energias alternativas|105.40138519013874|\n",
            "+---------------------+------------------+\n",
            "only showing top 5 rows\n",
            "\n"
          ]
        }
      ]
    },
    {
      "cell_type": "code",
      "source": [
        "[i for i in dir(pyspark.sql.types) if not i.startswith(\"_\") if i[0] == i[0].upper()]"
      ],
      "metadata": {
        "id": "OdQuqjCsuUzJ",
        "colab": {
          "base_uri": "https://localhost:8080/"
        },
        "outputId": "7479e05a-5070-401a-efc9-653843058ee1"
      },
      "execution_count": null,
      "outputs": [
        {
          "output_type": "execute_result",
          "data": {
            "text/plain": [
              "['Any',\n",
              " 'ArrayType',\n",
              " 'AtomicType',\n",
              " 'BinaryType',\n",
              " 'BooleanType',\n",
              " 'ByteType',\n",
              " 'Callable',\n",
              " 'CharType',\n",
              " 'ClassVar',\n",
              " 'CloudPickleSerializer',\n",
              " 'DataType',\n",
              " 'DataTypeSingleton',\n",
              " 'DateConverter',\n",
              " 'DateType',\n",
              " 'DatetimeConverter',\n",
              " 'DatetimeNTZConverter',\n",
              " 'DayTimeIntervalType',\n",
              " 'DayTimeIntervalTypeConverter',\n",
              " 'DecimalType',\n",
              " 'Dict',\n",
              " 'DoubleType',\n",
              " 'FloatType',\n",
              " 'FractionalType',\n",
              " 'GatewayClient',\n",
              " 'IntegerType',\n",
              " 'IntegralType',\n",
              " 'Iterable',\n",
              " 'Iterator',\n",
              " 'JVMView',\n",
              " 'JavaClass',\n",
              " 'JavaGateway',\n",
              " 'JavaObject',\n",
              " 'List',\n",
              " 'LongType',\n",
              " 'MapType',\n",
              " 'NullType',\n",
              " 'NumericType',\n",
              " 'NumpyArrayConverter',\n",
              " 'NumpyScalarConverter',\n",
              " 'Optional',\n",
              " 'Row',\n",
              " 'ShortType',\n",
              " 'StringType',\n",
              " 'StructField',\n",
              " 'StructType',\n",
              " 'T',\n",
              " 'TYPE_CHECKING',\n",
              " 'TimestampNTZType',\n",
              " 'TimestampType',\n",
              " 'Tuple',\n",
              " 'Type',\n",
              " 'TypeVar',\n",
              " 'U',\n",
              " 'Union',\n",
              " 'UserDefinedType',\n",
              " 'VarcharType']"
            ]
          },
          "metadata": {},
          "execution_count": 47
        }
      ]
    },
    {
      "cell_type": "code",
      "source": [
        "def categorizar_de_energia_solar_str(energia: str) -> str:\n",
        "    if energia == \"Energia solar\":\n",
        "        return \"solar\"\n",
        "    else:\n",
        "        return \"no solar\"\n",
        "\n",
        "def categorizar_de_energia_solar_int(energia: str) -> int:\n",
        "    if energia == \"Energia solar\":\n",
        "        return 1\n",
        "    else:\n",
        "        return 0\n",
        "\n",
        "categorizar_solar_str_udf = F.udf(categorizar_de_energia_solar_str, pyspark.sql.types.StringType())\n",
        "categorizar_solar_int_udf_malo = F.udf(categorizar_de_energia_solar_int)\n",
        "categorizar_solar_int_udf2 = F.udf(categorizar_de_energia_solar_int, pyspark.sql.types.IntegerType())"
      ],
      "metadata": {
        "id": "-He8hfwAC1Xm"
      },
      "execution_count": null,
      "outputs": []
    },
    {
      "cell_type": "code",
      "source": [
        "# fijense que aqui no necesito usar F.col()\n",
        "energia_nuevo = energia_df_2.select(\"actividad_producto_nombre\").withColumn(\"es_energia_solar\", categorizar_solar_str_udf(energia_df_2[\"actividad_producto_nombre\"]))"
      ],
      "metadata": {
        "id": "ZE4csuHaDTPq"
      },
      "execution_count": null,
      "outputs": []
    },
    {
      "cell_type": "code",
      "source": [
        "energia_nuevo.filter(energia_nuevo[\"actividad_producto_nombre\"] == \"Energia solar\").show(4, False)"
      ],
      "metadata": {
        "colab": {
          "base_uri": "https://localhost:8080/"
        },
        "id": "8vGEqODnz-Zc",
        "outputId": "e271903d-60cc-4790-adcf-c925b01ec818"
      },
      "execution_count": null,
      "outputs": [
        {
          "output_type": "stream",
          "name": "stdout",
          "text": [
            "+-------------------------+----------------+\n",
            "|actividad_producto_nombre|es_energia_solar|\n",
            "+-------------------------+----------------+\n",
            "|Energia solar            |solar           |\n",
            "|Energia solar            |solar           |\n",
            "|Energia solar            |solar           |\n",
            "|Energia solar            |solar           |\n",
            "+-------------------------+----------------+\n",
            "only showing top 4 rows\n",
            "\n"
          ]
        }
      ]
    },
    {
      "cell_type": "code",
      "source": [
        "energia_nuevo.printSchema()"
      ],
      "metadata": {
        "colab": {
          "base_uri": "https://localhost:8080/"
        },
        "id": "XerXUdLN0ObV",
        "outputId": "b5200e29-c0c4-4f11-e10d-4d001c9b0027"
      },
      "execution_count": null,
      "outputs": [
        {
          "output_type": "stream",
          "name": "stdout",
          "text": [
            "root\n",
            " |-- actividad_producto_nombre: string (nullable = true)\n",
            " |-- es_energia_solar: string (nullable = true)\n",
            "\n"
          ]
        }
      ]
    },
    {
      "cell_type": "code",
      "source": [
        "energia_nuevo_malo = energia_df_2.select(\"actividad_producto_nombre\").withColumn(\"es_energia_solar\", categorizar_solar_int_udf_malo(energia_df_2[\"actividad_producto_nombre\"]))"
      ],
      "metadata": {
        "id": "Dw_7YdGY0SJp"
      },
      "execution_count": null,
      "outputs": []
    },
    {
      "cell_type": "code",
      "source": [
        "energia_nuevo_malo.show(4, False)"
      ],
      "metadata": {
        "colab": {
          "base_uri": "https://localhost:8080/"
        },
        "id": "63Sn0zHg0akG",
        "outputId": "fcbb47b1-6c44-4464-d3df-225e73a7aed6"
      },
      "execution_count": null,
      "outputs": [
        {
          "output_type": "stream",
          "name": "stdout",
          "text": [
            "+-------------------------+----------------+\n",
            "|actividad_producto_nombre|es_energia_solar|\n",
            "+-------------------------+----------------+\n",
            "|Energia biogas           |0               |\n",
            "|Energia biogas           |0               |\n",
            "|Energia biogas           |0               |\n",
            "|Energia biogas           |0               |\n",
            "+-------------------------+----------------+\n",
            "only showing top 4 rows\n",
            "\n"
          ]
        }
      ]
    },
    {
      "cell_type": "code",
      "source": [
        "energia_nuevo_malo.printSchema()"
      ],
      "metadata": {
        "colab": {
          "base_uri": "https://localhost:8080/"
        },
        "id": "z6kXTSln0dOw",
        "outputId": "dce425e4-1df0-484e-fb1c-5b80dcd5015f"
      },
      "execution_count": null,
      "outputs": [
        {
          "output_type": "stream",
          "name": "stdout",
          "text": [
            "root\n",
            " |-- actividad_producto_nombre: string (nullable = true)\n",
            " |-- es_energia_solar: string (nullable = true)\n",
            "\n"
          ]
        }
      ]
    },
    {
      "cell_type": "code",
      "source": [
        "energia_nuevo_int = energia_df_2.select(\"actividad_producto_nombre\").withColumn(\"es_energia_solar\", categorizar_solar_int_udf2(energia_df_2[\"actividad_producto_nombre\"]))"
      ],
      "metadata": {
        "id": "m2yqk8Ms0Oh5"
      },
      "execution_count": null,
      "outputs": []
    },
    {
      "cell_type": "code",
      "source": [
        "energia_nuevo_int.show(5)"
      ],
      "metadata": {
        "colab": {
          "base_uri": "https://localhost:8080/"
        },
        "id": "G8RFYxwE0WtN",
        "outputId": "54b8cdfc-24b6-4766-937b-480e1bbd4619"
      },
      "execution_count": null,
      "outputs": [
        {
          "output_type": "stream",
          "name": "stdout",
          "text": [
            "+-------------------------+----------------+\n",
            "|actividad_producto_nombre|es_energia_solar|\n",
            "+-------------------------+----------------+\n",
            "|           Energia biogas|               0|\n",
            "|           Energia biogas|               0|\n",
            "|           Energia biogas|               0|\n",
            "|           Energia biogas|               0|\n",
            "|           Energia biogas|               0|\n",
            "+-------------------------+----------------+\n",
            "only showing top 5 rows\n",
            "\n"
          ]
        }
      ]
    },
    {
      "cell_type": "code",
      "source": [
        "energia_nuevo_int.printSchema()"
      ],
      "metadata": {
        "colab": {
          "base_uri": "https://localhost:8080/"
        },
        "id": "Dz9VbsH80Uoa",
        "outputId": "80aa9296-74ad-47b9-ea58-dd2c6d314588"
      },
      "execution_count": null,
      "outputs": [
        {
          "output_type": "stream",
          "name": "stdout",
          "text": [
            "root\n",
            " |-- actividad_producto_nombre: string (nullable = true)\n",
            " |-- es_energia_solar: integer (nullable = true)\n",
            "\n"
          ]
        }
      ]
    },
    {
      "cell_type": "code",
      "source": [
        "energia_nuevo.groupBy(\"es_energia_solar\").count().show()"
      ],
      "metadata": {
        "colab": {
          "base_uri": "https://localhost:8080/"
        },
        "id": "Kv6IxAQVDtUG",
        "outputId": "c7cb609b-3854-49d4-ded5-fbd9261357dd"
      },
      "execution_count": null,
      "outputs": [
        {
          "output_type": "stream",
          "name": "stdout",
          "text": [
            "+----------------+-----+\n",
            "|es_energia_solar|count|\n",
            "+----------------+-----+\n",
            "|           solar|  564|\n",
            "|        no solar| 4747|\n",
            "+----------------+-----+\n",
            "\n"
          ]
        }
      ]
    },
    {
      "cell_type": "code",
      "source": [
        "energia_nuevo_int.groupBy(\"es_energia_solar\").count().show()"
      ],
      "metadata": {
        "colab": {
          "base_uri": "https://localhost:8080/"
        },
        "id": "xBoqKmpL0uPu",
        "outputId": "73611b66-5c5e-4509-c520-87d4cc92bf78"
      },
      "execution_count": null,
      "outputs": [
        {
          "output_type": "stream",
          "name": "stdout",
          "text": [
            "+----------------+-----+\n",
            "|es_energia_solar|count|\n",
            "+----------------+-----+\n",
            "|               1|  564|\n",
            "|               0| 4747|\n",
            "+----------------+-----+\n",
            "\n"
          ]
        }
      ]
    },
    {
      "cell_type": "markdown",
      "source": [
        "## Pandas UDF (en caso de que quieras mejorar el performance o crear UDAFs)"
      ],
      "metadata": {
        "id": "no3eGh8xFh1N"
      }
    },
    {
      "cell_type": "code",
      "source": [
        "import time\n",
        "import pandas as pd\n",
        "from pyspark.sql.functions import pandas_udf"
      ],
      "metadata": {
        "id": "zFGET6gHDokY"
      },
      "execution_count": null,
      "outputs": []
    },
    {
      "cell_type": "code",
      "source": [
        "print(spark.conf.get(\"spark.sql.execution.arrow.enabled\"))\n",
        "print(spark.conf.get(\"spark.sql.execution.arrow.pyspark.enabled\"))"
      ],
      "metadata": {
        "colab": {
          "base_uri": "https://localhost:8080/"
        },
        "id": "s97IlNeuWkxL",
        "outputId": "70aa6225-6b2c-4da7-f122-dfa5561dcccb"
      },
      "execution_count": null,
      "outputs": [
        {
          "output_type": "stream",
          "name": "stdout",
          "text": [
            "false\n",
            "false\n"
          ]
        }
      ]
    },
    {
      "cell_type": "code",
      "source": [
        "spark.conf.set(\"spark.sql.execution.arrow.enabled\", \"true\")"
      ],
      "metadata": {
        "id": "jcNiBKQWW5zv"
      },
      "execution_count": null,
      "outputs": []
    },
    {
      "cell_type": "code",
      "source": [
        "data = [\n",
        "        {\"categoria\": 'A', \"ID\": 1, \"valor\": 121.44},\n",
        "        {\"categoria\": 'B', \"ID\": 2, \"valor\": 300.01},\n",
        "        {\"categoria\": 'C', \"ID\": 3, \"valor\": 10.99},\n",
        "        {\"categoria\": 'E', \"ID\": 4, \"valor\": 33.87}\n",
        "       ]"
      ],
      "metadata": {
        "id": "Z6JCL_x9Jv9Q"
      },
      "execution_count": null,
      "outputs": []
    },
    {
      "cell_type": "code",
      "source": [
        "df_test = spark.createDataFrame(data)"
      ],
      "metadata": {
        "id": "Tbqcs7k3IPGA"
      },
      "execution_count": null,
      "outputs": []
    },
    {
      "cell_type": "code",
      "source": [
        "df_test.show()"
      ],
      "metadata": {
        "colab": {
          "base_uri": "https://localhost:8080/"
        },
        "id": "oeWhEcdXItNr",
        "outputId": "d73e2537-e41d-4bce-db5d-d3f43e4f77a4"
      },
      "execution_count": null,
      "outputs": [
        {
          "output_type": "stream",
          "name": "stdout",
          "text": [
            "+---+---------+------+\n",
            "| ID|categoria| valor|\n",
            "+---+---------+------+\n",
            "|  1|        A|121.44|\n",
            "|  2|        B|300.01|\n",
            "|  3|        C| 10.99|\n",
            "|  4|        E| 33.87|\n",
            "+---+---------+------+\n",
            "\n"
          ]
        }
      ]
    },
    {
      "cell_type": "markdown",
      "source": [
        "### Mejora en la performance al realizar operaciones vectorizadas"
      ],
      "metadata": {
        "id": "tZnZsEZKx3m-"
      }
    },
    {
      "cell_type": "code",
      "source": [
        "def get_delay(x):\n",
        "    time.sleep(5)\n",
        "    return x\n",
        "\n",
        "get_delay = F.udf(get_delay)\n",
        "\n",
        "@pandas_udf(returnType=pyspark.sql.types.StringType())\n",
        "def get_delay_pandas(x):\n",
        "    time.sleep(5)\n",
        "    return x\n",
        "\n"
      ],
      "metadata": {
        "id": "l_Y936kTG0Xu"
      },
      "execution_count": null,
      "outputs": []
    },
    {
      "cell_type": "code",
      "source": [
        "%%time\n",
        "df_test.select(get_delay(\"categoria\")).show()"
      ],
      "metadata": {
        "colab": {
          "base_uri": "https://localhost:8080/"
        },
        "id": "rnE0BVSqHP_I",
        "outputId": "5ff1d45c-d024-4ed6-9ba7-33b195a95a9d"
      },
      "execution_count": null,
      "outputs": [
        {
          "output_type": "stream",
          "name": "stdout",
          "text": [
            "+--------------------+\n",
            "|get_delay(categoria)|\n",
            "+--------------------+\n",
            "|                   A|\n",
            "|                   B|\n",
            "|                   C|\n",
            "|                   E|\n",
            "+--------------------+\n",
            "\n",
            "CPU times: user 116 ms, sys: 16.4 ms, total: 133 ms\n",
            "Wall time: 20.4 s\n"
          ]
        }
      ]
    },
    {
      "cell_type": "code",
      "source": [
        "%%time\n",
        "df_test.select(get_delay_pandas(\"categoria\")).show() # esta es mas rapida porque trabaja con la vectorizacion de numpy y pandas"
      ],
      "metadata": {
        "colab": {
          "base_uri": "https://localhost:8080/"
        },
        "id": "AHkVqrS2HUfA",
        "outputId": "e3bc743c-b523-479d-8995-87d757086758"
      },
      "execution_count": null,
      "outputs": [
        {
          "output_type": "stream",
          "name": "stdout",
          "text": [
            "+---------------------------+\n",
            "|get_delay_pandas(categoria)|\n",
            "+---------------------------+\n",
            "|                          A|\n",
            "|                          B|\n",
            "|                          C|\n",
            "|                          E|\n",
            "+---------------------------+\n",
            "\n",
            "CPU times: user 33.5 ms, sys: 13.1 ms, total: 46.6 ms\n",
            "Wall time: 6.63 s\n"
          ]
        }
      ]
    },
    {
      "cell_type": "markdown",
      "source": [
        "###  UDAF (User Defined Aggregation Function)"
      ],
      "metadata": {
        "id": "sjCiUOQqyEmT"
      }
    },
    {
      "cell_type": "code",
      "source": [
        "@pandas_udf(pyspark.sql.types.DoubleType())\n",
        "def avg_udf_two_decimals(group: pd.Series) -> float:\n",
        "    return round(group.mean(), 2)"
      ],
      "metadata": {
        "id": "BHjkWmiZyFs1"
      },
      "execution_count": null,
      "outputs": []
    },
    {
      "cell_type": "code",
      "source": [
        "nuevo_energia_df.show()"
      ],
      "metadata": {
        "colab": {
          "base_uri": "https://localhost:8080/"
        },
        "id": "glZdMcpX1ZDq",
        "outputId": "bf7e3090-2e5e-43d0-8627-801f806092bb"
      },
      "execution_count": null,
      "outputs": [
        {
          "output_type": "stream",
          "name": "stdout",
          "text": [
            "+-------------------------+---------+---------+\n",
            "|actividad_producto_nombre|    valor|constante|\n",
            "+-------------------------+---------+---------+\n",
            "|           Energia biogas|      0.0|     1111|\n",
            "|           Energia biogas|      0.0|     1111|\n",
            "|           Energia biogas|      0.0|     1111|\n",
            "|           Energia biogas|      0.0|     1111|\n",
            "|           Energia biogas|  764.924|     1111|\n",
            "|           Energia biogas| 3478.232|     1111|\n",
            "|           Energia biogas| 3395.954|     1111|\n",
            "|           Energia biogas| 2928.667|     1111|\n",
            "|           Energia biogas| 2841.751|     1111|\n",
            "|           Energia biogas| 6902.033|     1111|\n",
            "|           Energia biogas|  7357.68|     1111|\n",
            "|           Energia biogas| 7971.476|     1111|\n",
            "|           Energia biogas| 7893.987|     1111|\n",
            "|           Energia biogas|  7648.21|     1111|\n",
            "|           Energia biogas| 9011.614|     1111|\n",
            "|           Energia biogas| 8388.014|     1111|\n",
            "|           Energia biogas| 9381.065|     1111|\n",
            "|           Energia biogas| 9167.534|     1111|\n",
            "|           Energia biogas|10502.377|     1111|\n",
            "|           Energia biogas| 9771.545|     1111|\n",
            "+-------------------------+---------+---------+\n",
            "only showing top 20 rows\n",
            "\n"
          ]
        }
      ]
    },
    {
      "cell_type": "code",
      "source": [
        "nuevo_energia_df.groupBy(\"actividad_producto_nombre\").agg({\"valor\": \"avg\"}).show()"
      ],
      "metadata": {
        "colab": {
          "base_uri": "https://localhost:8080/"
        },
        "id": "Xtg_SPT51ose",
        "outputId": "ba77bb76-0595-4062-da45-09ecaba2dec2"
      },
      "execution_count": null,
      "outputs": [
        {
          "output_type": "stream",
          "name": "stdout",
          "text": [
            "+-------------------------+------------------+\n",
            "|actividad_producto_nombre|        avg(valor)|\n",
            "+-------------------------+------------------+\n",
            "|            Energia solar| 4166.521010638324|\n",
            "|           Energia biogas|2079.9216793478367|\n",
            "|              Energia pah| 6805.738040055162|\n",
            "|          Energia biomasa|3862.2890185185174|\n",
            "|          Energia nuclear|147481.33160745626|\n",
            "|           Energia eolica| 18560.90006523843|\n",
            "+-------------------------+------------------+\n",
            "\n"
          ]
        }
      ]
    },
    {
      "cell_type": "code",
      "source": [
        "nuevo_energia_df.groupBy(\"actividad_producto_nombre\").agg(avg_udf_two_decimals(\"valor\")).show()"
      ],
      "metadata": {
        "colab": {
          "base_uri": "https://localhost:8080/"
        },
        "id": "DUZMFdvLzDip",
        "outputId": "bdd06c4c-42b9-438b-b5e7-ea840cfffe84"
      },
      "execution_count": null,
      "outputs": [
        {
          "output_type": "stream",
          "name": "stdout",
          "text": [
            "+-------------------------+---------------------------+\n",
            "|actividad_producto_nombre|avg_udf_two_decimals(valor)|\n",
            "+-------------------------+---------------------------+\n",
            "|           Energia biogas|                    2079.92|\n",
            "|          Energia biomasa|                    3862.29|\n",
            "|           Energia eolica|                    18560.9|\n",
            "|          Energia nuclear|                  147481.33|\n",
            "|              Energia pah|                    6805.74|\n",
            "|            Energia solar|                    4166.52|\n",
            "+-------------------------+---------------------------+\n",
            "\n"
          ]
        }
      ]
    },
    {
      "cell_type": "markdown",
      "source": [
        "## Bonus Informativo (mas unificado imposible 😂)"
      ],
      "metadata": {
        "id": "I43xBjdcckhD"
      }
    },
    {
      "cell_type": "code",
      "source": [
        "[i for i in dir(spark.udf) if not i.startswith(\"_\")]"
      ],
      "metadata": {
        "colab": {
          "base_uri": "https://localhost:8080/"
        },
        "id": "UBjGqH6lcl7s",
        "outputId": "141a9468-1dec-4039-e23f-f1d80dc3152c"
      },
      "execution_count": null,
      "outputs": [
        {
          "output_type": "execute_result",
          "data": {
            "text/plain": [
              "['register', 'registerJavaFunction', 'registerJavaUDAF', 'sparkSession']"
            ]
          },
          "metadata": {},
          "execution_count": 73
        }
      ]
    },
    {
      "cell_type": "markdown",
      "source": [
        "# SparkSQL"
      ],
      "metadata": {
        "id": "y2QFiqyhhCho"
      }
    },
    {
      "cell_type": "markdown",
      "source": [
        "## Conceptos Claves"
      ],
      "metadata": {
        "id": "EogRNcGXOCFs"
      }
    },
    {
      "cell_type": "markdown",
      "source": [
        "### Catalogo (Catalog):\n",
        "Es el nivel de abstraccion mas alto en Spark SQL. Es una abstraccion para el almacenamiento de metadata sobre la data almacenada en tus tablas asi como otras entidades utiles como las bases de datos, tablas, funciones y vistas. Lo consigues en de ```pyspark.sql.Catalog```.\n",
        "\n",
        "### Tablas (Tables):\n",
        "Para hacer cualquier cosa util con Spark SQL primero necesitamos definir tablas. La tablas son logicamente equivalentes a un Dataframe en cuanto a que son las estructuras de datos contra las cuales estaras ejecutando comandos. La principal diferencia entre un Dataframe y una Tabla es que tu definiras un Dataframe en el Scope del lenguaje de programacion mientras que la Tabla sera definida a nivel de la Base de Datos. Las tablas siempre contienen Data, no existe la nocion de Tabla Temporal, solo el de Vista (la cual no contiene data). Esto es importante porque si desechas una tabla correras el riesgo de estar perdiendo data al hacerlo.\n",
        "\n",
        "```spark.sql(\"\"\"SHOW tables\"\"\").show()```\n",
        "\n"
      ],
      "metadata": {
        "id": "VtTfvmh5OH1L"
      }
    },
    {
      "cell_type": "code",
      "source": [
        "spark.sql(\"\"\"SHOW tables\"\"\").show()"
      ],
      "metadata": {
        "colab": {
          "base_uri": "https://localhost:8080/"
        },
        "id": "hoX4WteydalH",
        "outputId": "7a3ec329-9590-4b9c-b39b-905c98a7112a"
      },
      "execution_count": null,
      "outputs": [
        {
          "output_type": "stream",
          "name": "stdout",
          "text": [
            "+---------+---------+-----------+\n",
            "|namespace|tableName|isTemporary|\n",
            "+---------+---------+-----------+\n",
            "+---------+---------+-----------+\n",
            "\n"
          ]
        }
      ]
    },
    {
      "cell_type": "code",
      "source": [
        "# creando una tabla (busar tabla pequeñita para este ejemplo (4 columnas y algunas filas de tipos de datos distintos))\n",
        "import requests\n",
        "with open(\"./credits.csv\", \"wb\") as f:\n",
        "    f.write(requests.get(\"https://raw.githubusercontent.com/engcarlosperezmolero/resources_and_tools/main/data/csv/movies-credits.csv\").content)"
      ],
      "metadata": {
        "id": "pRkoBgRljDan"
      },
      "execution_count": null,
      "outputs": []
    },
    {
      "cell_type": "code",
      "source": [
        "spark.sql(\"\"\"\n",
        "CREATE TABLE credits (\n",
        "                        PERSON_ID LONG,\n",
        "                        ID STRING COMMENT 'Un comentario acerca de la columna',\n",
        "                        NAME STRING,\n",
        "                        CHARACTER STRING,\n",
        "                        ROLE STRING\n",
        "                     )\n",
        "USING CSV OPTIONS (header true, path '/content/credits.csv')\n",
        "\"\"\")\n"
      ],
      "metadata": {
        "colab": {
          "base_uri": "https://localhost:8080/"
        },
        "id": "5JbgY1NDkuOb",
        "outputId": "73f42c01-d913-47f1-e549-263db2f67f13"
      },
      "execution_count": null,
      "outputs": [
        {
          "output_type": "execute_result",
          "data": {
            "text/plain": [
              "DataFrame[]"
            ]
          },
          "metadata": {},
          "execution_count": 76
        }
      ]
    },
    {
      "cell_type": "code",
      "source": [
        "spark.sql(\"\"\"SHOW tables\"\"\").show()"
      ],
      "metadata": {
        "colab": {
          "base_uri": "https://localhost:8080/"
        },
        "id": "HQQ4EcMKnbaE",
        "outputId": "c0b34399-d712-4f2e-c724-7c8940bf0f16"
      },
      "execution_count": null,
      "outputs": [
        {
          "output_type": "stream",
          "name": "stdout",
          "text": [
            "+---------+---------+-----------+\n",
            "|namespace|tableName|isTemporary|\n",
            "+---------+---------+-----------+\n",
            "|  default|  credits|      false|\n",
            "+---------+---------+-----------+\n",
            "\n"
          ]
        }
      ]
    },
    {
      "cell_type": "code",
      "source": [
        "#spark.sql('DROP TABLE credits')"
      ],
      "metadata": {
        "id": "mv7nymGRKIbN"
      },
      "execution_count": null,
      "outputs": []
    },
    {
      "cell_type": "code",
      "source": [
        "spark.sql(\"\"\"\n",
        "SELECT *\n",
        "FROM credits\n",
        "\"\"\").show(10, truncate=False)"
      ],
      "metadata": {
        "colab": {
          "base_uri": "https://localhost:8080/"
        },
        "id": "Uaf1DCjknfkl",
        "outputId": "863f5c17-497d-4674-eda2-f74881f91a0b"
      },
      "execution_count": null,
      "outputs": [
        {
          "output_type": "stream",
          "name": "stdout",
          "text": [
            "+---------+-------+---------------+-----------------------------+-----+\n",
            "|PERSON_ID|ID     |NAME           |CHARACTER                    |ROLE |\n",
            "+---------+-------+---------------+-----------------------------+-----+\n",
            "|3748     |tm84618|Robert De Niro |Travis Bickle                |ACTOR|\n",
            "|14658    |tm84618|Jodie Foster   |Iris Steensma                |ACTOR|\n",
            "|7064     |tm84618|Albert Brooks  |Tom                          |ACTOR|\n",
            "|3739     |tm84618|Harvey Keitel  |Matthew 'Sport' Higgins      |ACTOR|\n",
            "|48933    |tm84618|Cybill Shepherd|Betsy                        |ACTOR|\n",
            "|32267    |tm84618|Peter Boyle    |Wizard                       |ACTOR|\n",
            "|519612   |tm84618|Leonard Harris |Senator Charles Palantine    |ACTOR|\n",
            "|29068    |tm84618|Diahnne Abbott |Concession Girl              |ACTOR|\n",
            "|519613   |tm84618|Gino Ardito    |Policeman at Rally           |ACTOR|\n",
            "|3308     |tm84618|Martin Scorsese|Passenger Watching Silhouette|ACTOR|\n",
            "+---------+-------+---------------+-----------------------------+-----+\n",
            "only showing top 10 rows\n",
            "\n"
          ]
        }
      ]
    },
    {
      "cell_type": "code",
      "source": [
        "spark.sql(\"\"\"\n",
        "DESCRIBE TABLE credits\n",
        "\"\"\").show(10, False)"
      ],
      "metadata": {
        "colab": {
          "base_uri": "https://localhost:8080/"
        },
        "id": "8qFFNa0VJ11U",
        "outputId": "c8a813f2-fdee-44a9-bcb8-ea90e872d28d"
      },
      "execution_count": null,
      "outputs": [
        {
          "output_type": "stream",
          "name": "stdout",
          "text": [
            "+---------+---------+----------------------------------+\n",
            "|col_name |data_type|comment                           |\n",
            "+---------+---------+----------------------------------+\n",
            "|PERSON_ID|bigint   |null                              |\n",
            "|ID       |string   |Un comentario acerca de la columna|\n",
            "|NAME     |string   |null                              |\n",
            "|CHARACTER|string   |null                              |\n",
            "|ROLE     |string   |null                              |\n",
            "+---------+---------+----------------------------------+\n",
            "\n"
          ]
        }
      ]
    },
    {
      "cell_type": "code",
      "source": [
        "spark.sql(\"\"\"\n",
        "SHOW TABLES\n",
        "\"\"\").show(10)"
      ],
      "metadata": {
        "colab": {
          "base_uri": "https://localhost:8080/"
        },
        "id": "4R1AHvs1e2hw",
        "outputId": "c6c893c8-c219-43ba-9434-088f103ab13d"
      },
      "execution_count": null,
      "outputs": [
        {
          "output_type": "stream",
          "name": "stdout",
          "text": [
            "+---------+---------+-----------+\n",
            "|namespace|tableName|isTemporary|\n",
            "+---------+---------+-----------+\n",
            "|  default|  credits|      false|\n",
            "+---------+---------+-----------+\n",
            "\n"
          ]
        }
      ]
    },
    {
      "cell_type": "code",
      "source": [
        "# usar un Dataframe como si fuera una tabla de SQL\n",
        "energia_df.createOrReplaceTempView(\"energia_df\")"
      ],
      "metadata": {
        "id": "OOsJ-KmBFJPg"
      },
      "execution_count": null,
      "outputs": []
    },
    {
      "cell_type": "code",
      "source": [
        "spark.sql(\"\"\"\n",
        "SHOW TABLES\n",
        "\"\"\").show(10)"
      ],
      "metadata": {
        "colab": {
          "base_uri": "https://localhost:8080/"
        },
        "id": "OXiNUQJCOxHb",
        "outputId": "148dda4f-3519-493d-81d1-f79f8974b0bf"
      },
      "execution_count": null,
      "outputs": [
        {
          "output_type": "stream",
          "name": "stdout",
          "text": [
            "+---------+----------+-----------+\n",
            "|namespace| tableName|isTemporary|\n",
            "+---------+----------+-----------+\n",
            "|  default|   credits|      false|\n",
            "|         |energia_df|       true|\n",
            "+---------+----------+-----------+\n",
            "\n"
          ]
        }
      ]
    },
    {
      "cell_type": "code",
      "source": [
        "spark.sql(f\"\"\"\n",
        "SELECT *\n",
        "FROM energia_df\n",
        "\"\"\").show(10, False)"
      ],
      "metadata": {
        "id": "c6IdQb4PFRXr",
        "colab": {
          "base_uri": "https://localhost:8080/"
        },
        "outputId": "90055c9f-467c-43ff-ecd7-944e2e377124"
      },
      "execution_count": null,
      "outputs": [
        {
          "output_type": "stream",
          "name": "stdout",
          "text": [
            "+---------+---------------------+-----------+-------------------------+----------+----------------+-------+-----------------+----------------+------------+----------+--------------+-------------+--------+\n",
            "|sector_id|sector_nombre        |variable_id|actividad_producto_nombre|indicador |unidad_de_medida|fuente |frecuencia_nombre|cobertura_nombre|alcance_tipo|alcance_id|alcance_nombre|indice_tiempo|valor   |\n",
            "+---------+---------------------+-----------+-------------------------+----------+----------------+-------+-----------------+----------------+------------+----------+--------------+-------------+--------+\n",
            "|25       |Energias alternativas|440        |Energia biogas           |Generacion|MWh             |CAMMESA|Mensual          |Nacional        |PROVINCIA   |6         |BUENOS AIRES  |2012-01-01   |0.0     |\n",
            "|25       |Energias alternativas|440        |Energia biogas           |Generacion|MWh             |CAMMESA|Mensual          |Nacional        |PROVINCIA   |6         |BUENOS AIRES  |2012-02-01   |0.0     |\n",
            "|25       |Energias alternativas|440        |Energia biogas           |Generacion|MWh             |CAMMESA|Mensual          |Nacional        |PROVINCIA   |6         |BUENOS AIRES  |2012-03-01   |0.0     |\n",
            "|25       |Energias alternativas|440        |Energia biogas           |Generacion|MWh             |CAMMESA|Mensual          |Nacional        |PROVINCIA   |6         |BUENOS AIRES  |2012-04-01   |0.0     |\n",
            "|25       |Energias alternativas|440        |Energia biogas           |Generacion|MWh             |CAMMESA|Mensual          |Nacional        |PROVINCIA   |6         |BUENOS AIRES  |2012-05-01   |764.924 |\n",
            "|25       |Energias alternativas|440        |Energia biogas           |Generacion|MWh             |CAMMESA|Mensual          |Nacional        |PROVINCIA   |6         |BUENOS AIRES  |2012-06-01   |3478.232|\n",
            "|25       |Energias alternativas|440        |Energia biogas           |Generacion|MWh             |CAMMESA|Mensual          |Nacional        |PROVINCIA   |6         |BUENOS AIRES  |2012-07-01   |3395.954|\n",
            "|25       |Energias alternativas|440        |Energia biogas           |Generacion|MWh             |CAMMESA|Mensual          |Nacional        |PROVINCIA   |6         |BUENOS AIRES  |2012-08-01   |2928.667|\n",
            "|25       |Energias alternativas|440        |Energia biogas           |Generacion|MWh             |CAMMESA|Mensual          |Nacional        |PROVINCIA   |6         |BUENOS AIRES  |2012-09-01   |2841.751|\n",
            "|25       |Energias alternativas|440        |Energia biogas           |Generacion|MWh             |CAMMESA|Mensual          |Nacional        |PROVINCIA   |6         |BUENOS AIRES  |2012-10-01   |6902.033|\n",
            "+---------+---------------------+-----------+-------------------------+----------+----------------+-------+-----------------+----------------+------------+----------+--------------+-------------+--------+\n",
            "only showing top 10 rows\n",
            "\n"
          ]
        }
      ]
    },
    {
      "cell_type": "code",
      "source": [
        "spark.sql(\"DESCRIBE TABLE energia_df\").show(truncate=False)"
      ],
      "metadata": {
        "colab": {
          "base_uri": "https://localhost:8080/"
        },
        "id": "qjCO8yJTPAyO",
        "outputId": "25b80a72-28cf-4996-a495-5e9a05b5fdce"
      },
      "execution_count": null,
      "outputs": [
        {
          "output_type": "stream",
          "name": "stdout",
          "text": [
            "+-------------------------+---------+-------+\n",
            "|col_name                 |data_type|comment|\n",
            "+-------------------------+---------+-------+\n",
            "|sector_id                |int      |null   |\n",
            "|sector_nombre            |string   |null   |\n",
            "|variable_id              |int      |null   |\n",
            "|actividad_producto_nombre|string   |null   |\n",
            "|indicador                |string   |null   |\n",
            "|unidad_de_medida         |string   |null   |\n",
            "|fuente                   |string   |null   |\n",
            "|frecuencia_nombre        |string   |null   |\n",
            "|cobertura_nombre         |string   |null   |\n",
            "|alcance_tipo             |string   |null   |\n",
            "|alcance_id               |int      |null   |\n",
            "|alcance_nombre           |string   |null   |\n",
            "|indice_tiempo            |date     |null   |\n",
            "|valor                    |double   |null   |\n",
            "+-------------------------+---------+-------+\n",
            "\n"
          ]
        }
      ]
    },
    {
      "cell_type": "markdown",
      "source": [
        "### UDF y UDAF en Spark SQL\n",
        "Recuerdas las UDF y UDAF que habiamos definido en la sección de UDF's? No?\n",
        "\n",
        "No hay problema te refresco la memoria...\n",
        "\n",
        "```python\n",
        "def categorizar_de_energia_solar_str(energia: str) -> str:\n",
        "    if energia == \"Energia solar\":\n",
        "        return \"solar\"\n",
        "    else:\n",
        "        return \"no solar\"\n",
        "```\n",
        "\n",
        "```python\n",
        "@pandas_udf(pyspark.sql.types.DoubleType())\n",
        "def avg_udf_two_decimals(group: pd.Series) -> float:\n",
        "    return round(group.mean(), 2)\n",
        "```"
      ],
      "metadata": {
        "id": "-yrKf0-V34eZ"
      }
    },
    {
      "cell_type": "code",
      "source": [
        "# registrar una UDF para usar con SQL\n",
        "spark.udf.register(\"categorizar_de_energia_solar\", categorizar_de_energia_solar_str, pyspark.sql.types.StringType())"
      ],
      "metadata": {
        "colab": {
          "base_uri": "https://localhost:8080/"
        },
        "id": "Frk2HPx_E4F2",
        "outputId": "3dbd2bb4-79fc-4e67-ea3e-b7604ca75473"
      },
      "execution_count": null,
      "outputs": [
        {
          "output_type": "execute_result",
          "data": {
            "text/plain": [
              "<function __main__.categorizar_de_energia_solar_str(energia: str) -> str>"
            ]
          },
          "metadata": {},
          "execution_count": 86
        }
      ]
    },
    {
      "cell_type": "code",
      "source": [
        "spark.sql(f\"\"\"\n",
        "SELECT actividad_producto_nombre, categorizar_de_energia_solar(actividad_producto_nombre) AS es_energia_solar\n",
        "FROM energia_df\n",
        "\"\"\").show()"
      ],
      "metadata": {
        "colab": {
          "base_uri": "https://localhost:8080/"
        },
        "id": "fC0UpxasHU07",
        "outputId": "39c6ee4e-7c82-4b29-d73a-25f56cd0c004"
      },
      "execution_count": null,
      "outputs": [
        {
          "output_type": "stream",
          "name": "stdout",
          "text": [
            "+-------------------------+----------------+\n",
            "|actividad_producto_nombre|es_energia_solar|\n",
            "+-------------------------+----------------+\n",
            "|           Energia biogas|        no solar|\n",
            "|           Energia biogas|        no solar|\n",
            "|           Energia biogas|        no solar|\n",
            "|           Energia biogas|        no solar|\n",
            "|           Energia biogas|        no solar|\n",
            "|           Energia biogas|        no solar|\n",
            "|           Energia biogas|        no solar|\n",
            "|           Energia biogas|        no solar|\n",
            "|           Energia biogas|        no solar|\n",
            "|           Energia biogas|        no solar|\n",
            "|           Energia biogas|        no solar|\n",
            "|           Energia biogas|        no solar|\n",
            "|           Energia biogas|        no solar|\n",
            "|           Energia biogas|        no solar|\n",
            "|           Energia biogas|        no solar|\n",
            "|           Energia biogas|        no solar|\n",
            "|           Energia biogas|        no solar|\n",
            "|           Energia biogas|        no solar|\n",
            "|           Energia biogas|        no solar|\n",
            "|           Energia biogas|        no solar|\n",
            "+-------------------------+----------------+\n",
            "only showing top 20 rows\n",
            "\n"
          ]
        }
      ]
    },
    {
      "cell_type": "code",
      "source": [
        "# Algo bastante util es que puedes realizar tus analisis trabajando con AMBAS apis al mismo tiempo.\n",
        "spark.sql(f\"\"\"\n",
        "SELECT actividad_producto_nombre, categorizar_de_energia_solar(actividad_producto_nombre) as es_energia_solar\n",
        "FROM energia_df\n",
        "\"\"\").select(\"es_energia_solar\").distinct().show()"
      ],
      "metadata": {
        "colab": {
          "base_uri": "https://localhost:8080/"
        },
        "id": "st6UU_Q5FIqL",
        "outputId": "0775b2e4-38e8-4cd3-a987-2fa4dd9c7d29"
      },
      "execution_count": null,
      "outputs": [
        {
          "output_type": "stream",
          "name": "stdout",
          "text": [
            "+----------------+\n",
            "|es_energia_solar|\n",
            "+----------------+\n",
            "|           solar|\n",
            "|        no solar|\n",
            "+----------------+\n",
            "\n"
          ]
        }
      ]
    },
    {
      "cell_type": "code",
      "source": [
        "# registrando una UDAF\n",
        "spark.udf.register('avf_two_decimals', avg_udf_two_decimals)"
      ],
      "metadata": {
        "colab": {
          "base_uri": "https://localhost:8080/"
        },
        "id": "aju99SXi4tAf",
        "outputId": "df1f7e84-eaff-458b-a03e-38b72f70b2ea"
      },
      "execution_count": null,
      "outputs": [
        {
          "output_type": "execute_result",
          "data": {
            "text/plain": [
              "<function __main__.avg_udf_two_decimals(group: pandas.core.series.Series) -> float>"
            ]
          },
          "metadata": {},
          "execution_count": 89
        }
      ]
    },
    {
      "cell_type": "code",
      "source": [
        "spark.sql(f\"\"\"\n",
        "SELECT actividad_producto_nombre, avf_two_decimals(valor) as valor_promedio\n",
        "FROM energia_df\n",
        "GROUP BY actividad_producto_nombre\n",
        "\"\"\").createOrReplaceTempView(\"promedios\")"
      ],
      "metadata": {
        "id": "ULYsqdG05G3O"
      },
      "execution_count": null,
      "outputs": []
    },
    {
      "cell_type": "code",
      "source": [
        "spark.sql(\"\"\"\n",
        "SHOW TABLES\n",
        "\"\"\").show()"
      ],
      "metadata": {
        "colab": {
          "base_uri": "https://localhost:8080/"
        },
        "id": "9r1tFy5Q5p9_",
        "outputId": "d8f1abca-ebb7-422e-d955-22e3397cf06f"
      },
      "execution_count": null,
      "outputs": [
        {
          "output_type": "stream",
          "name": "stdout",
          "text": [
            "+---------+----------+-----------+\n",
            "|namespace| tableName|isTemporary|\n",
            "+---------+----------+-----------+\n",
            "|  default|   credits|      false|\n",
            "|         |energia_df|       true|\n",
            "|         | promedios|       true|\n",
            "+---------+----------+-----------+\n",
            "\n"
          ]
        }
      ]
    },
    {
      "cell_type": "code",
      "source": [
        "spark.sql(\"\"\"\n",
        "SELECT *\n",
        "FROM promedios\n",
        "\"\"\").show()"
      ],
      "metadata": {
        "colab": {
          "base_uri": "https://localhost:8080/"
        },
        "id": "xZ0t8Ld25txc",
        "outputId": "83f488f6-e307-4234-8685-8e08542b5eb2"
      },
      "execution_count": null,
      "outputs": [
        {
          "output_type": "stream",
          "name": "stdout",
          "text": [
            "+-------------------------+--------------+\n",
            "|actividad_producto_nombre|valor_promedio|\n",
            "+-------------------------+--------------+\n",
            "|           Energia biogas|       2079.92|\n",
            "|          Energia biomasa|       3862.29|\n",
            "|           Energia eolica|       18560.9|\n",
            "|          Energia nuclear|     147481.33|\n",
            "|              Energia pah|       6805.74|\n",
            "|            Energia solar|       4166.52|\n",
            "+-------------------------+--------------+\n",
            "\n"
          ]
        }
      ]
    },
    {
      "cell_type": "markdown",
      "source": [
        "# Hive Context y SQL Context (Los viejos titanes 🏛️)"
      ],
      "metadata": {
        "id": "8P_k2FDFhLt4"
      }
    },
    {
      "cell_type": "markdown",
      "source": [
        "En versiones antiguas de Spark, el SQL Context y Hive Context dieron la habilidad de trabajar con Dataframes y Spark SQL y eran normalmente guardados dentro la variable ```sqlContext``` en ejemplos, documentacion y codigos legacy.\n",
        "\n",
        "Historicamente Spark 1.X tenia dos contextos: SparkContext y SQLContext, cada uno realizaba cosas distintas. El primero mas enfocado en un control muy detallado de las abstracciones centrales de Spark y el segundo mas enfocado en herramientas de alto nivel como el Spark SQL.\n",
        "\n",
        "En Spark 2.X se combinaron las 2 API's en el SparkSession centralizado con el que hemos venido trabajando. Sin embargo aun siguen existiendo y puedes acceder a traves de ellas usando el SparkSession.\n",
        "\n",
        "Es importante hacer la aclaracion de que tanto el SQL Context como el Hive context no deberian ser ya usados normalmente, y rara vez el SparkContext.\n"
      ],
      "metadata": {
        "id": "P5LfeXYWgcMp"
      }
    },
    {
      "cell_type": "markdown",
      "source": [
        "#### La relacion de Spark con Hive\n",
        "Spark SQL puede conectarse a meta-almacenamientos de Hive.  El meta-almacenamiento de Hive (Hive Metastore) es una manera en la que cual Hive mantiene informaciones de tablas para usar a traves de sesiones. Esto es algo popular para usuarios que esten migrando de ambientes legacy de Hadoop y estan comenzando a ejecutar sus cargas de trabajo usando Spark.\n",
        "\n",
        "Spark proporciona compatibilidad completa al poder usar tanto SQL como HiveQL."
      ],
      "metadata": {
        "id": "0iJgYevmNzoN"
      }
    },
    {
      "cell_type": "code",
      "source": [
        "from pyspark.sql import SparkSession\n",
        "\n",
        "spark = SparkSession.builder \\\n",
        "    .appName(\"App Name\") \\\n",
        "    .enableHiveSupport() \\\n",
        "    .getOrCreate()"
      ],
      "metadata": {
        "id": "kUmQL79hF96O"
      },
      "execution_count": null,
      "outputs": []
    }
  ]
}